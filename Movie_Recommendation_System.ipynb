{
  "nbformat": 4,
  "nbformat_minor": 0,
  "metadata": {
    "colab": {
      "provenance": [],
      "include_colab_link": true
    },
    "kernelspec": {
      "name": "python3",
      "display_name": "Python 3"
    },
    "language_info": {
      "name": "python"
    }
  },
  "cells": [
    {
      "cell_type": "markdown",
      "metadata": {
        "id": "view-in-github",
        "colab_type": "text"
      },
      "source": [
        "<a href=\"https://colab.research.google.com/github/vaibhavch19/Movie-Recommendation-System/blob/main/Movie_Recommendation_System.ipynb\" target=\"_parent\"><img src=\"https://colab.research.google.com/assets/colab-badge.svg\" alt=\"Open In Colab\"/></a>"
      ]
    },
    {
      "cell_type": "markdown",
      "metadata": {
        "id": "R1oRN_iiHN_7"
      },
      "source": [
        "Importing the dependencies"
      ]
    },
    {
      "cell_type": "code",
      "metadata": {
        "id": "GAGi6hrzFLOb"
      },
      "source": [
        "import numpy as np\n",
        "import pandas as pd\n",
        "import difflib\n",
        "from sklearn.feature_extraction.text import TfidfVectorizer\n",
        "from sklearn.metrics.pairwise import cosine_similarity"
      ],
      "execution_count": 7,
      "outputs": []
    },
    {
      "cell_type": "markdown",
      "metadata": {
        "id": "mfIW1BYVIGfP"
      },
      "source": [
        "Data Collection and Pre-Processing"
      ]
    },
    {
      "cell_type": "code",
      "metadata": {
        "id": "MOXn7CGdIGBU"
      },
      "source": [
        "# loading the data from the csv file to apandas dataframe\n",
        "# Specify encoding explicitly when reading the CSV file\n",
        "movies_data = pd.read_csv('/content/movies.csv', encoding='utf-8', skiprows=lambda x: x == 2903)"
      ],
      "execution_count": 13,
      "outputs": []
    },
    {
      "cell_type": "code",
      "metadata": {
        "colab": {
          "base_uri": "https://localhost:8080/",
          "height": 746
        },
        "id": "cha03lDAIa6l",
        "outputId": "5a435223-593e-4a47-b72f-e881c4ea1d61"
      },
      "source": [
        "# printing the first 5 rows of the dataframe\n",
        "movies_data.head()"
      ],
      "execution_count": 15,
      "outputs": [
        {
          "output_type": "execute_result",
          "data": {
            "text/plain": [
              "   index     budget                                    genres  \\\n",
              "0      0  237000000  Action Adventure Fantasy Science Fiction   \n",
              "1      1  300000000                  Adventure Fantasy Action   \n",
              "2      2  245000000                    Action Adventure Crime   \n",
              "3      3  250000000               Action Crime Drama Thriller   \n",
              "4      4  260000000          Action Adventure Science Fiction   \n",
              "\n",
              "                                       homepage      id  \\\n",
              "0                   http://www.avatarmovie.com/   19995   \n",
              "1  http://disney.go.com/disneypictures/pirates/     285   \n",
              "2   http://www.sonypictures.com/movies/spectre/  206647   \n",
              "3            http://www.thedarkknightrises.com/   49026   \n",
              "4          http://movies.disney.com/john-carter   49529   \n",
              "\n",
              "                                            keywords original_language  \\\n",
              "0  culture clash future space war space colony so...                en   \n",
              "1  ocean drug abuse exotic island east india trad...                en   \n",
              "2         spy based on novel secret agent sequel mi6                en   \n",
              "3  dc comics crime fighter terrorist secret ident...                en   \n",
              "4  based on novel mars medallion space travel pri...                en   \n",
              "\n",
              "                             original_title  \\\n",
              "0                                    Avatar   \n",
              "1  Pirates of the Caribbean: At World's End   \n",
              "2                                   Spectre   \n",
              "3                     The Dark Knight Rises   \n",
              "4                               John Carter   \n",
              "\n",
              "                                            overview  popularity  ... runtime  \\\n",
              "0  In the 22nd century, a paraplegic Marine is di...  150.437577  ...   162.0   \n",
              "1  Captain Barbossa, long believed to be dead, ha...  139.082615  ...   169.0   \n",
              "2  A cryptic message from Bond’s past sends him o...  107.376788  ...   148.0   \n",
              "3  Following the death of District Attorney Harve...  112.312950  ...   165.0   \n",
              "4  John Carter is a war-weary, former military ca...   43.926995  ...   132.0   \n",
              "\n",
              "                                    spoken_languages    status  \\\n",
              "0  [{\"iso_639_1\": \"en\", \"name\": \"English\"}, {\"iso...  Released   \n",
              "1           [{\"iso_639_1\": \"en\", \"name\": \"English\"}]  Released   \n",
              "2  [{\"iso_639_1\": \"fr\", \"name\": \"Fran\\u00e7ais\"},...  Released   \n",
              "3           [{\"iso_639_1\": \"en\", \"name\": \"English\"}]  Released   \n",
              "4           [{\"iso_639_1\": \"en\", \"name\": \"English\"}]  Released   \n",
              "\n",
              "                                          tagline  \\\n",
              "0                     Enter the World of Pandora.   \n",
              "1  At the end of the world, the adventure begins.   \n",
              "2                           A Plan No One Escapes   \n",
              "3                                 The Legend Ends   \n",
              "4            Lost in our world, found in another.   \n",
              "\n",
              "                                      title vote_average vote_count  \\\n",
              "0                                    Avatar          7.2      11800   \n",
              "1  Pirates of the Caribbean: At World's End          6.9       4500   \n",
              "2                                   Spectre          6.3       4466   \n",
              "3                     The Dark Knight Rises          7.6       9106   \n",
              "4                               John Carter          6.1       2124   \n",
              "\n",
              "                                                cast  \\\n",
              "0  Sam Worthington Zoe Saldana Sigourney Weaver S...   \n",
              "1  Johnny Depp Orlando Bloom Keira Knightley Stel...   \n",
              "2  Daniel Craig Christoph Waltz L\\u00e9a Seydoux ...   \n",
              "3  Christian Bale Michael Caine Gary Oldman Anne ...   \n",
              "4  Taylor Kitsch Lynn Collins Samantha Morton Wil...   \n",
              "\n",
              "                                                crew           director  \n",
              "0  [{'name': 'Stephen E. Rivkin', 'gender': 0, 'd...      James Cameron  \n",
              "1  [{'name': 'Dariusz Wolski', 'gender': 2, 'depa...     Gore Verbinski  \n",
              "2  [{'name': 'Thomas Newman', 'gender': 2, 'depar...         Sam Mendes  \n",
              "3  [{'name': 'Hans Zimmer', 'gender': 2, 'departm...  Christopher Nolan  \n",
              "4  [{'name': 'Andrew Stanton', 'gender': 2, 'depa...     Andrew Stanton  \n",
              "\n",
              "[5 rows x 24 columns]"
            ],
            "text/html": [
              "\n",
              "  <div id=\"df-78b93423-3091-4adb-ad0d-938a044297f2\" class=\"colab-df-container\">\n",
              "    <div>\n",
              "<style scoped>\n",
              "    .dataframe tbody tr th:only-of-type {\n",
              "        vertical-align: middle;\n",
              "    }\n",
              "\n",
              "    .dataframe tbody tr th {\n",
              "        vertical-align: top;\n",
              "    }\n",
              "\n",
              "    .dataframe thead th {\n",
              "        text-align: right;\n",
              "    }\n",
              "</style>\n",
              "<table border=\"1\" class=\"dataframe\">\n",
              "  <thead>\n",
              "    <tr style=\"text-align: right;\">\n",
              "      <th></th>\n",
              "      <th>index</th>\n",
              "      <th>budget</th>\n",
              "      <th>genres</th>\n",
              "      <th>homepage</th>\n",
              "      <th>id</th>\n",
              "      <th>keywords</th>\n",
              "      <th>original_language</th>\n",
              "      <th>original_title</th>\n",
              "      <th>overview</th>\n",
              "      <th>popularity</th>\n",
              "      <th>...</th>\n",
              "      <th>runtime</th>\n",
              "      <th>spoken_languages</th>\n",
              "      <th>status</th>\n",
              "      <th>tagline</th>\n",
              "      <th>title</th>\n",
              "      <th>vote_average</th>\n",
              "      <th>vote_count</th>\n",
              "      <th>cast</th>\n",
              "      <th>crew</th>\n",
              "      <th>director</th>\n",
              "    </tr>\n",
              "  </thead>\n",
              "  <tbody>\n",
              "    <tr>\n",
              "      <th>0</th>\n",
              "      <td>0</td>\n",
              "      <td>237000000</td>\n",
              "      <td>Action Adventure Fantasy Science Fiction</td>\n",
              "      <td>http://www.avatarmovie.com/</td>\n",
              "      <td>19995</td>\n",
              "      <td>culture clash future space war space colony so...</td>\n",
              "      <td>en</td>\n",
              "      <td>Avatar</td>\n",
              "      <td>In the 22nd century, a paraplegic Marine is di...</td>\n",
              "      <td>150.437577</td>\n",
              "      <td>...</td>\n",
              "      <td>162.0</td>\n",
              "      <td>[{\"iso_639_1\": \"en\", \"name\": \"English\"}, {\"iso...</td>\n",
              "      <td>Released</td>\n",
              "      <td>Enter the World of Pandora.</td>\n",
              "      <td>Avatar</td>\n",
              "      <td>7.2</td>\n",
              "      <td>11800</td>\n",
              "      <td>Sam Worthington Zoe Saldana Sigourney Weaver S...</td>\n",
              "      <td>[{'name': 'Stephen E. Rivkin', 'gender': 0, 'd...</td>\n",
              "      <td>James Cameron</td>\n",
              "    </tr>\n",
              "    <tr>\n",
              "      <th>1</th>\n",
              "      <td>1</td>\n",
              "      <td>300000000</td>\n",
              "      <td>Adventure Fantasy Action</td>\n",
              "      <td>http://disney.go.com/disneypictures/pirates/</td>\n",
              "      <td>285</td>\n",
              "      <td>ocean drug abuse exotic island east india trad...</td>\n",
              "      <td>en</td>\n",
              "      <td>Pirates of the Caribbean: At World's End</td>\n",
              "      <td>Captain Barbossa, long believed to be dead, ha...</td>\n",
              "      <td>139.082615</td>\n",
              "      <td>...</td>\n",
              "      <td>169.0</td>\n",
              "      <td>[{\"iso_639_1\": \"en\", \"name\": \"English\"}]</td>\n",
              "      <td>Released</td>\n",
              "      <td>At the end of the world, the adventure begins.</td>\n",
              "      <td>Pirates of the Caribbean: At World's End</td>\n",
              "      <td>6.9</td>\n",
              "      <td>4500</td>\n",
              "      <td>Johnny Depp Orlando Bloom Keira Knightley Stel...</td>\n",
              "      <td>[{'name': 'Dariusz Wolski', 'gender': 2, 'depa...</td>\n",
              "      <td>Gore Verbinski</td>\n",
              "    </tr>\n",
              "    <tr>\n",
              "      <th>2</th>\n",
              "      <td>2</td>\n",
              "      <td>245000000</td>\n",
              "      <td>Action Adventure Crime</td>\n",
              "      <td>http://www.sonypictures.com/movies/spectre/</td>\n",
              "      <td>206647</td>\n",
              "      <td>spy based on novel secret agent sequel mi6</td>\n",
              "      <td>en</td>\n",
              "      <td>Spectre</td>\n",
              "      <td>A cryptic message from Bond’s past sends him o...</td>\n",
              "      <td>107.376788</td>\n",
              "      <td>...</td>\n",
              "      <td>148.0</td>\n",
              "      <td>[{\"iso_639_1\": \"fr\", \"name\": \"Fran\\u00e7ais\"},...</td>\n",
              "      <td>Released</td>\n",
              "      <td>A Plan No One Escapes</td>\n",
              "      <td>Spectre</td>\n",
              "      <td>6.3</td>\n",
              "      <td>4466</td>\n",
              "      <td>Daniel Craig Christoph Waltz L\\u00e9a Seydoux ...</td>\n",
              "      <td>[{'name': 'Thomas Newman', 'gender': 2, 'depar...</td>\n",
              "      <td>Sam Mendes</td>\n",
              "    </tr>\n",
              "    <tr>\n",
              "      <th>3</th>\n",
              "      <td>3</td>\n",
              "      <td>250000000</td>\n",
              "      <td>Action Crime Drama Thriller</td>\n",
              "      <td>http://www.thedarkknightrises.com/</td>\n",
              "      <td>49026</td>\n",
              "      <td>dc comics crime fighter terrorist secret ident...</td>\n",
              "      <td>en</td>\n",
              "      <td>The Dark Knight Rises</td>\n",
              "      <td>Following the death of District Attorney Harve...</td>\n",
              "      <td>112.312950</td>\n",
              "      <td>...</td>\n",
              "      <td>165.0</td>\n",
              "      <td>[{\"iso_639_1\": \"en\", \"name\": \"English\"}]</td>\n",
              "      <td>Released</td>\n",
              "      <td>The Legend Ends</td>\n",
              "      <td>The Dark Knight Rises</td>\n",
              "      <td>7.6</td>\n",
              "      <td>9106</td>\n",
              "      <td>Christian Bale Michael Caine Gary Oldman Anne ...</td>\n",
              "      <td>[{'name': 'Hans Zimmer', 'gender': 2, 'departm...</td>\n",
              "      <td>Christopher Nolan</td>\n",
              "    </tr>\n",
              "    <tr>\n",
              "      <th>4</th>\n",
              "      <td>4</td>\n",
              "      <td>260000000</td>\n",
              "      <td>Action Adventure Science Fiction</td>\n",
              "      <td>http://movies.disney.com/john-carter</td>\n",
              "      <td>49529</td>\n",
              "      <td>based on novel mars medallion space travel pri...</td>\n",
              "      <td>en</td>\n",
              "      <td>John Carter</td>\n",
              "      <td>John Carter is a war-weary, former military ca...</td>\n",
              "      <td>43.926995</td>\n",
              "      <td>...</td>\n",
              "      <td>132.0</td>\n",
              "      <td>[{\"iso_639_1\": \"en\", \"name\": \"English\"}]</td>\n",
              "      <td>Released</td>\n",
              "      <td>Lost in our world, found in another.</td>\n",
              "      <td>John Carter</td>\n",
              "      <td>6.1</td>\n",
              "      <td>2124</td>\n",
              "      <td>Taylor Kitsch Lynn Collins Samantha Morton Wil...</td>\n",
              "      <td>[{'name': 'Andrew Stanton', 'gender': 2, 'depa...</td>\n",
              "      <td>Andrew Stanton</td>\n",
              "    </tr>\n",
              "  </tbody>\n",
              "</table>\n",
              "<p>5 rows × 24 columns</p>\n",
              "</div>\n",
              "    <div class=\"colab-df-buttons\">\n",
              "\n",
              "  <div class=\"colab-df-container\">\n",
              "    <button class=\"colab-df-convert\" onclick=\"convertToInteractive('df-78b93423-3091-4adb-ad0d-938a044297f2')\"\n",
              "            title=\"Convert this dataframe to an interactive table.\"\n",
              "            style=\"display:none;\">\n",
              "\n",
              "  <svg xmlns=\"http://www.w3.org/2000/svg\" height=\"24px\" viewBox=\"0 -960 960 960\">\n",
              "    <path d=\"M120-120v-720h720v720H120Zm60-500h600v-160H180v160Zm220 220h160v-160H400v160Zm0 220h160v-160H400v160ZM180-400h160v-160H180v160Zm440 0h160v-160H620v160ZM180-180h160v-160H180v160Zm440 0h160v-160H620v160Z\"/>\n",
              "  </svg>\n",
              "    </button>\n",
              "\n",
              "  <style>\n",
              "    .colab-df-container {\n",
              "      display:flex;\n",
              "      gap: 12px;\n",
              "    }\n",
              "\n",
              "    .colab-df-convert {\n",
              "      background-color: #E8F0FE;\n",
              "      border: none;\n",
              "      border-radius: 50%;\n",
              "      cursor: pointer;\n",
              "      display: none;\n",
              "      fill: #1967D2;\n",
              "      height: 32px;\n",
              "      padding: 0 0 0 0;\n",
              "      width: 32px;\n",
              "    }\n",
              "\n",
              "    .colab-df-convert:hover {\n",
              "      background-color: #E2EBFA;\n",
              "      box-shadow: 0px 1px 2px rgba(60, 64, 67, 0.3), 0px 1px 3px 1px rgba(60, 64, 67, 0.15);\n",
              "      fill: #174EA6;\n",
              "    }\n",
              "\n",
              "    .colab-df-buttons div {\n",
              "      margin-bottom: 4px;\n",
              "    }\n",
              "\n",
              "    [theme=dark] .colab-df-convert {\n",
              "      background-color: #3B4455;\n",
              "      fill: #D2E3FC;\n",
              "    }\n",
              "\n",
              "    [theme=dark] .colab-df-convert:hover {\n",
              "      background-color: #434B5C;\n",
              "      box-shadow: 0px 1px 3px 1px rgba(0, 0, 0, 0.15);\n",
              "      filter: drop-shadow(0px 1px 2px rgba(0, 0, 0, 0.3));\n",
              "      fill: #FFFFFF;\n",
              "    }\n",
              "  </style>\n",
              "\n",
              "    <script>\n",
              "      const buttonEl =\n",
              "        document.querySelector('#df-78b93423-3091-4adb-ad0d-938a044297f2 button.colab-df-convert');\n",
              "      buttonEl.style.display =\n",
              "        google.colab.kernel.accessAllowed ? 'block' : 'none';\n",
              "\n",
              "      async function convertToInteractive(key) {\n",
              "        const element = document.querySelector('#df-78b93423-3091-4adb-ad0d-938a044297f2');\n",
              "        const dataTable =\n",
              "          await google.colab.kernel.invokeFunction('convertToInteractive',\n",
              "                                                    [key], {});\n",
              "        if (!dataTable) return;\n",
              "\n",
              "        const docLinkHtml = 'Like what you see? Visit the ' +\n",
              "          '<a target=\"_blank\" href=https://colab.research.google.com/notebooks/data_table.ipynb>data table notebook</a>'\n",
              "          + ' to learn more about interactive tables.';\n",
              "        element.innerHTML = '';\n",
              "        dataTable['output_type'] = 'display_data';\n",
              "        await google.colab.output.renderOutput(dataTable, element);\n",
              "        const docLink = document.createElement('div');\n",
              "        docLink.innerHTML = docLinkHtml;\n",
              "        element.appendChild(docLink);\n",
              "      }\n",
              "    </script>\n",
              "  </div>\n",
              "\n",
              "\n",
              "<div id=\"df-5108691b-b060-428f-9a8a-542421c5b4f4\">\n",
              "  <button class=\"colab-df-quickchart\" onclick=\"quickchart('df-5108691b-b060-428f-9a8a-542421c5b4f4')\"\n",
              "            title=\"Suggest charts\"\n",
              "            style=\"display:none;\">\n",
              "\n",
              "<svg xmlns=\"http://www.w3.org/2000/svg\" height=\"24px\"viewBox=\"0 0 24 24\"\n",
              "     width=\"24px\">\n",
              "    <g>\n",
              "        <path d=\"M19 3H5c-1.1 0-2 .9-2 2v14c0 1.1.9 2 2 2h14c1.1 0 2-.9 2-2V5c0-1.1-.9-2-2-2zM9 17H7v-7h2v7zm4 0h-2V7h2v10zm4 0h-2v-4h2v4z\"/>\n",
              "    </g>\n",
              "</svg>\n",
              "  </button>\n",
              "\n",
              "<style>\n",
              "  .colab-df-quickchart {\n",
              "      --bg-color: #E8F0FE;\n",
              "      --fill-color: #1967D2;\n",
              "      --hover-bg-color: #E2EBFA;\n",
              "      --hover-fill-color: #174EA6;\n",
              "      --disabled-fill-color: #AAA;\n",
              "      --disabled-bg-color: #DDD;\n",
              "  }\n",
              "\n",
              "  [theme=dark] .colab-df-quickchart {\n",
              "      --bg-color: #3B4455;\n",
              "      --fill-color: #D2E3FC;\n",
              "      --hover-bg-color: #434B5C;\n",
              "      --hover-fill-color: #FFFFFF;\n",
              "      --disabled-bg-color: #3B4455;\n",
              "      --disabled-fill-color: #666;\n",
              "  }\n",
              "\n",
              "  .colab-df-quickchart {\n",
              "    background-color: var(--bg-color);\n",
              "    border: none;\n",
              "    border-radius: 50%;\n",
              "    cursor: pointer;\n",
              "    display: none;\n",
              "    fill: var(--fill-color);\n",
              "    height: 32px;\n",
              "    padding: 0;\n",
              "    width: 32px;\n",
              "  }\n",
              "\n",
              "  .colab-df-quickchart:hover {\n",
              "    background-color: var(--hover-bg-color);\n",
              "    box-shadow: 0 1px 2px rgba(60, 64, 67, 0.3), 0 1px 3px 1px rgba(60, 64, 67, 0.15);\n",
              "    fill: var(--button-hover-fill-color);\n",
              "  }\n",
              "\n",
              "  .colab-df-quickchart-complete:disabled,\n",
              "  .colab-df-quickchart-complete:disabled:hover {\n",
              "    background-color: var(--disabled-bg-color);\n",
              "    fill: var(--disabled-fill-color);\n",
              "    box-shadow: none;\n",
              "  }\n",
              "\n",
              "  .colab-df-spinner {\n",
              "    border: 2px solid var(--fill-color);\n",
              "    border-color: transparent;\n",
              "    border-bottom-color: var(--fill-color);\n",
              "    animation:\n",
              "      spin 1s steps(1) infinite;\n",
              "  }\n",
              "\n",
              "  @keyframes spin {\n",
              "    0% {\n",
              "      border-color: transparent;\n",
              "      border-bottom-color: var(--fill-color);\n",
              "      border-left-color: var(--fill-color);\n",
              "    }\n",
              "    20% {\n",
              "      border-color: transparent;\n",
              "      border-left-color: var(--fill-color);\n",
              "      border-top-color: var(--fill-color);\n",
              "    }\n",
              "    30% {\n",
              "      border-color: transparent;\n",
              "      border-left-color: var(--fill-color);\n",
              "      border-top-color: var(--fill-color);\n",
              "      border-right-color: var(--fill-color);\n",
              "    }\n",
              "    40% {\n",
              "      border-color: transparent;\n",
              "      border-right-color: var(--fill-color);\n",
              "      border-top-color: var(--fill-color);\n",
              "    }\n",
              "    60% {\n",
              "      border-color: transparent;\n",
              "      border-right-color: var(--fill-color);\n",
              "    }\n",
              "    80% {\n",
              "      border-color: transparent;\n",
              "      border-right-color: var(--fill-color);\n",
              "      border-bottom-color: var(--fill-color);\n",
              "    }\n",
              "    90% {\n",
              "      border-color: transparent;\n",
              "      border-bottom-color: var(--fill-color);\n",
              "    }\n",
              "  }\n",
              "</style>\n",
              "\n",
              "  <script>\n",
              "    async function quickchart(key) {\n",
              "      const quickchartButtonEl =\n",
              "        document.querySelector('#' + key + ' button');\n",
              "      quickchartButtonEl.disabled = true;  // To prevent multiple clicks.\n",
              "      quickchartButtonEl.classList.add('colab-df-spinner');\n",
              "      try {\n",
              "        const charts = await google.colab.kernel.invokeFunction(\n",
              "            'suggestCharts', [key], {});\n",
              "      } catch (error) {\n",
              "        console.error('Error during call to suggestCharts:', error);\n",
              "      }\n",
              "      quickchartButtonEl.classList.remove('colab-df-spinner');\n",
              "      quickchartButtonEl.classList.add('colab-df-quickchart-complete');\n",
              "    }\n",
              "    (() => {\n",
              "      let quickchartButtonEl =\n",
              "        document.querySelector('#df-5108691b-b060-428f-9a8a-542421c5b4f4 button');\n",
              "      quickchartButtonEl.style.display =\n",
              "        google.colab.kernel.accessAllowed ? 'block' : 'none';\n",
              "    })();\n",
              "  </script>\n",
              "</div>\n",
              "\n",
              "    </div>\n",
              "  </div>\n"
            ],
            "application/vnd.google.colaboratory.intrinsic+json": {
              "type": "dataframe",
              "variable_name": "movies_data"
            }
          },
          "metadata": {},
          "execution_count": 15
        }
      ]
    },
    {
      "cell_type": "code",
      "metadata": {
        "colab": {
          "base_uri": "https://localhost:8080/"
        },
        "id": "Qrtr0oQbIjwF",
        "outputId": "e75e00b4-1b1b-48a0-f03f-3c7f5398acd7"
      },
      "source": [
        "# number of rows and columns in the data frame\n",
        "\n",
        "movies_data.shape"
      ],
      "execution_count": 16,
      "outputs": [
        {
          "output_type": "execute_result",
          "data": {
            "text/plain": [
              "(2902, 24)"
            ]
          },
          "metadata": {},
          "execution_count": 16
        }
      ]
    },
    {
      "cell_type": "code",
      "metadata": {
        "colab": {
          "base_uri": "https://localhost:8080/"
        },
        "id": "hunvyruUJhVq",
        "outputId": "89b2c49e-7cf7-4b7a-8a8d-8e878d61713c"
      },
      "source": [
        "# selecting the relevant features for recommendation\n",
        "\n",
        "selected_features = ['genres','keywords','tagline','cast','director']\n",
        "print(selected_features)"
      ],
      "execution_count": 17,
      "outputs": [
        {
          "output_type": "stream",
          "name": "stdout",
          "text": [
            "['genres', 'keywords', 'tagline', 'cast', 'director']\n"
          ]
        }
      ]
    },
    {
      "cell_type": "code",
      "metadata": {
        "id": "CKIVE6OWKSYk"
      },
      "source": [
        "# replacing the null valuess with null string\n",
        "\n",
        "for feature in selected_features:\n",
        "  movies_data[feature] = movies_data[feature].fillna('')"
      ],
      "execution_count": 18,
      "outputs": []
    },
    {
      "cell_type": "code",
      "metadata": {
        "id": "-AMjrRItLCO1"
      },
      "source": [
        "# combining all the 5 selected features\n",
        "\n",
        "combined_features = movies_data['genres']+' '+movies_data['keywords']+' '+movies_data['tagline']+' '+movies_data['cast']+' '+movies_data['director']"
      ],
      "execution_count": 19,
      "outputs": []
    },
    {
      "cell_type": "code",
      "metadata": {
        "colab": {
          "base_uri": "https://localhost:8080/"
        },
        "id": "ZYjFXx3aLwTh",
        "outputId": "a165c828-bfc8-4117-ddf9-b2757844c9b6"
      },
      "source": [
        "print(combined_features)"
      ],
      "execution_count": 20,
      "outputs": [
        {
          "output_type": "stream",
          "name": "stdout",
          "text": [
            "0       Action Adventure Fantasy Science Fiction cultu...\n",
            "1       Adventure Fantasy Action ocean drug abuse exot...\n",
            "2       Action Adventure Crime spy based on novel secr...\n",
            "3       Action Crime Drama Thriller dc comics crime fi...\n",
            "4       Action Adventure Science Fiction based on nove...\n",
            "                              ...                        \n",
            "2897    Thriller Science Fiction Mystery double life u...\n",
            "2898    Drama History War war crimes mass murder war v...\n",
            "2899    Animation Family Action Adventure Comedy  From...\n",
            "2900    Science Fiction   Hiroyuki Ikeuchi Takuya Kimu...\n",
            "2901    War Drama journalist interpreter georgia europ...\n",
            "Length: 2902, dtype: object\n"
          ]
        }
      ]
    },
    {
      "cell_type": "code",
      "metadata": {
        "id": "BfuttC_gLyfF"
      },
      "source": [
        "# converting the text data to feature vectors\n",
        "\n",
        "vectorizer = TfidfVectorizer()"
      ],
      "execution_count": 21,
      "outputs": []
    },
    {
      "cell_type": "code",
      "metadata": {
        "id": "Leo5rQskMKxL"
      },
      "source": [
        "feature_vectors = vectorizer.fit_transform(combined_features)"
      ],
      "execution_count": 22,
      "outputs": []
    },
    {
      "cell_type": "code",
      "metadata": {
        "colab": {
          "base_uri": "https://localhost:8080/"
        },
        "id": "qNbeeMSnMb2F",
        "outputId": "53ea8a44-cc71-47e3-8a14-ae368994a4c1"
      },
      "source": [
        "print(feature_vectors)"
      ],
      "execution_count": 23,
      "outputs": [
        {
          "output_type": "stream",
          "name": "stdout",
          "text": [
            "  (0, 1611)\t0.17221894784568656\n",
            "  (0, 5263)\t0.11644439372909768\n",
            "  (0, 8814)\t0.1921204506213619\n",
            "  (0, 6909)\t0.16030109297432038\n",
            "  (0, 5922)\t0.23174035356540162\n",
            "  (0, 9890)\t0.1569607365680705\n",
            "  (0, 11304)\t0.1962416668526501\n",
            "  (0, 9511)\t0.20266389384950995\n",
            "  (0, 9016)\t0.21292914649227862\n",
            "  (0, 11742)\t0.20844055497721534\n",
            "  (0, 11557)\t0.22778113525669846\n",
            "  (0, 9039)\t0.14964206967627752\n",
            "  (0, 7761)\t0.26471044229332946\n",
            "  (0, 7557)\t0.09122702393845371\n",
            "  (0, 11553)\t0.12439048522579056\n",
            "  (0, 10329)\t0.06967511167005394\n",
            "  (0, 3324)\t0.2414106437051432\n",
            "  (0, 9654)\t0.2154202492095482\n",
            "  (0, 2146)\t0.24753929238283384\n",
            "  (0, 11240)\t0.12353943967114835\n",
            "  (0, 9729)\t0.33029994402013\n",
            "  (0, 3947)\t0.16457535111363558\n",
            "  (0, 2044)\t0.2362289450804649\n",
            "  (0, 2465)\t0.2414106437051432\n",
            "  (0, 3663)\t0.10074767851972181\n",
            "  :\t:\n",
            "  (2901, 5130)\t0.26502202044479917\n",
            "  (2901, 1577)\t0.24283706395062077\n",
            "  (2901, 3395)\t0.22985969632139613\n",
            "  (2901, 11746)\t0.2520446528155745\n",
            "  (2901, 1981)\t0.2520446528155745\n",
            "  (2901, 3281)\t0.2168823286921715\n",
            "  (2901, 4531)\t0.2005327790478879\n",
            "  (2901, 8624)\t0.2005327790478879\n",
            "  (2901, 5442)\t0.1734140563617255\n",
            "  (2901, 10800)\t0.18548978333303942\n",
            "  (2901, 4013)\t0.19652679163426806\n",
            "  (2901, 10645)\t0.16682552943001805\n",
            "  (2901, 2638)\t0.19652679163426806\n",
            "  (2901, 11297)\t0.1868519517451323\n",
            "  (2901, 5701)\t0.19652679163426806\n",
            "  (2901, 11007)\t0.19469737219799313\n",
            "  (2901, 10336)\t0.15122909986754712\n",
            "  (2901, 430)\t0.16199827290942598\n",
            "  (2901, 7609)\t0.15168962762172933\n",
            "  (2901, 3900)\t0.17628219446808568\n",
            "  (2901, 5184)\t0.0962537283974198\n",
            "  (2901, 8944)\t0.1913251901829342\n",
            "  (2901, 3025)\t0.05821545121786405\n",
            "  (2901, 10329)\t0.06634131686918972\n",
            "  (2901, 11240)\t0.23525671984213853\n"
          ]
        }
      ]
    },
    {
      "cell_type": "markdown",
      "metadata": {
        "id": "qEGga5yPMnXO"
      },
      "source": [
        "Cosine Similarity"
      ]
    },
    {
      "cell_type": "code",
      "metadata": {
        "id": "MsKYCs31MeB6"
      },
      "source": [
        "# getting the similarity scores using cosine similarity\n",
        "\n",
        "similarity = cosine_similarity(feature_vectors)"
      ],
      "execution_count": 24,
      "outputs": []
    },
    {
      "cell_type": "code",
      "metadata": {
        "colab": {
          "base_uri": "https://localhost:8080/"
        },
        "id": "46ha1PfTM-oQ",
        "outputId": "e2a025ad-bae8-448e-87f2-45b87252367a"
      },
      "source": [
        "print(similarity)"
      ],
      "execution_count": 25,
      "outputs": [
        {
          "output_type": "stream",
          "name": "stdout",
          "text": [
            "[[1.         0.06693627 0.03576518 ... 0.014322   0.01937822 0.03368582]\n",
            " [0.06693627 1.         0.02982348 ... 0.0196509  0.         0.01219828]\n",
            " [0.03576518 0.02982348 1.         ... 0.01489333 0.         0.        ]\n",
            " ...\n",
            " [0.014322   0.0196509  0.01489333 ... 1.         0.         0.        ]\n",
            " [0.01937822 0.         0.         ... 0.         1.         0.        ]\n",
            " [0.03368582 0.01219828 0.         ... 0.         0.         1.        ]]\n"
          ]
        }
      ]
    },
    {
      "cell_type": "code",
      "metadata": {
        "colab": {
          "base_uri": "https://localhost:8080/"
        },
        "id": "PLkvII-wM_5I",
        "outputId": "6fea76dd-e16e-4303-c7a8-fb952cff501f"
      },
      "source": [
        "print(similarity.shape)"
      ],
      "execution_count": 26,
      "outputs": [
        {
          "output_type": "stream",
          "name": "stdout",
          "text": [
            "(2902, 2902)\n"
          ]
        }
      ]
    },
    {
      "cell_type": "markdown",
      "metadata": {
        "id": "EG3JItMUWeDD"
      },
      "source": [
        "Getting the movie name from the user"
      ]
    },
    {
      "cell_type": "code",
      "metadata": {
        "colab": {
          "base_uri": "https://localhost:8080/"
        },
        "id": "bhSWJgqgNDo7",
        "outputId": "8a877834-84d8-474a-979d-db135454923f"
      },
      "source": [
        "# getting the movie name from the user\n",
        "\n",
        "movie_name = input(' Enter your favourite movie name : ')"
      ],
      "execution_count": 27,
      "outputs": [
        {
          "name": "stdout",
          "output_type": "stream",
          "text": [
            " Enter your favourite movie name : toy story\n"
          ]
        }
      ]
    },
    {
      "cell_type": "code",
      "metadata": {
        "colab": {
          "base_uri": "https://localhost:8080/"
        },
        "id": "VQ8Qvu8vNj4U",
        "outputId": "a47677e9-47fd-43a8-e067-e8705cd66d41"
      },
      "source": [
        "# creating a list with all the movie names given in the dataset\n",
        "\n",
        "list_of_all_titles = movies_data['title'].tolist()\n",
        "print(list_of_all_titles)"
      ],
      "execution_count": 28,
      "outputs": [
        {
          "output_type": "stream",
          "name": "stdout",
          "text": [
            "['Avatar', \"Pirates of the Caribbean: At World's End\", 'Spectre', 'The Dark Knight Rises', 'John Carter', 'Spider-Man 3', 'Tangled', 'Avengers: Age of Ultron', 'Harry Potter and the Half-Blood Prince', 'Batman v Superman: Dawn of Justice', 'Superman Returns', 'Quantum of Solace', \"Pirates of the Caribbean: Dead Man's Chest\", 'The Lone Ranger', 'Man of Steel', 'The Chronicles of Narnia: Prince Caspian', 'The Avengers', 'Pirates of the Caribbean: On Stranger Tides', 'Men in Black 3', 'The Hobbit: The Battle of the Five Armies', 'The Amazing Spider-Man', 'Robin Hood', 'The Hobbit: The Desolation of Smaug', 'The Golden Compass', 'King Kong', 'Titanic', 'Captain America: Civil War', 'Battleship', 'Jurassic World', 'Skyfall', 'Spider-Man 2', 'Iron Man 3', 'Alice in Wonderland', 'X-Men: The Last Stand', 'Monsters University', 'Transformers: Revenge of the Fallen', 'Transformers: Age of Extinction', 'Oz: The Great and Powerful', 'The Amazing Spider-Man 2', 'TRON: Legacy', 'Cars 2', 'Green Lantern', 'Toy Story 3', 'Terminator Salvation', 'Furious 7', 'World War Z', 'X-Men: Days of Future Past', 'Star Trek Into Darkness', 'Jack the Giant Slayer', 'The Great Gatsby', 'Prince of Persia: The Sands of Time', 'Pacific Rim', 'Transformers: Dark of the Moon', 'Indiana Jones and the Kingdom of the Crystal Skull', 'The Good Dinosaur', 'Brave', 'Star Trek Beyond', 'WALL·E', 'Rush Hour 3', '2012', 'A Christmas Carol', 'Jupiter Ascending', 'The Legend of Tarzan', 'The Chronicles of Narnia: The Lion, the Witch and the Wardrobe', 'X-Men: Apocalypse', 'The Dark Knight', 'Up', 'Monsters vs Aliens', 'Iron Man', 'Hugo', 'Wild Wild West', 'The Mummy: Tomb of the Dragon Emperor', 'Suicide Squad', 'Evan Almighty', 'Edge of Tomorrow', 'Waterworld', 'G.I. Joe: The Rise of Cobra', 'Inside Out', 'The Jungle Book', 'Iron Man 2', 'Snow White and the Huntsman', 'Maleficent', 'Dawn of the Planet of the Apes', 'The Lovers', '47 Ronin', 'Captain America: The Winter Soldier', 'Shrek Forever After', 'Tomorrowland', 'Big Hero 6', 'Wreck-It Ralph', 'The Polar Express', 'Independence Day: Resurgence', 'How to Train Your Dragon', 'Terminator 3: Rise of the Machines', 'Guardians of the Galaxy', 'Interstellar', 'Inception', 'Shin Godzilla', 'The Hobbit: An Unexpected Journey', 'The Fast and the Furious', 'The Curious Case of Benjamin Button', 'X-Men: First Class', 'The Hunger Games: Mockingjay - Part 2', \"The Sorcerer's Apprentice\", 'Poseidon', 'Alice Through the Looking Glass', 'Shrek the Third', 'Warcraft', 'Terminator Genisys', 'The Chronicles of Narnia: The Voyage of the Dawn Treader', 'Pearl Harbor', 'Transformers', 'Alexander', 'Harry Potter and the Order of the Phoenix', 'Harry Potter and the Goblet of Fire', 'Hancock', 'I Am Legend', 'Charlie and the Chocolate Factory', 'Ratatouille', 'Batman Begins', 'Madagascar: Escape 2 Africa', 'Night at the Museum: Battle of the Smithsonian', 'X-Men Origins: Wolverine', 'The Matrix Revolutions', 'Frozen', 'The Matrix Reloaded', 'Thor: The Dark World', 'Mad Max: Fury Road', 'Angels & Demons', 'Thor', 'Bolt', 'G-Force', 'Wrath of the Titans', 'Dark Shadows', 'Mission: Impossible - Rogue Nation', 'The Wolfman', 'Bee Movie', 'Kung Fu Panda 2', 'The Last Airbender', 'Mission: Impossible III', 'White House Down', 'Mars Needs Moms', 'Flushed Away', 'Pan', 'Mr. Peabody & Sherman', 'Troy', \"Madagascar 3: Europe's Most Wanted\", 'Die Another Day', 'Ghostbusters', 'Armageddon', 'Men in Black II', 'Beowulf', 'Kung Fu Panda 3', 'Mission: Impossible - Ghost Protocol', 'Rise of the Guardians', 'Fun with Dick and Jane', 'The Last Samurai', 'Exodus: Gods and Kings', 'Star Trek', 'Spider-Man', 'How to Train Your Dragon 2', 'Gods of Egypt', 'Stealth', 'Watchmen', 'Lethal Weapon 4', 'Hulk', 'G.I. Joe: Retaliation', 'Sahara', 'Final Fantasy: The Spirits Within', 'Captain America: The First Avenger', 'The World Is Not Enough', 'Master and Commander: The Far Side of the World', 'The Twilight Saga: Breaking Dawn - Part 2', 'Happy Feet Two', 'The Incredible Hulk', 'The BFG', 'The Revenant', 'Turbo', 'Rango', 'Penguins of Madagascar', 'The Bourne Ultimatum', 'Kung Fu Panda', 'Ant-Man', 'The Hunger Games: Catching Fire', 'Home', 'War of the Worlds', 'Bad Boys II', 'Puss in Boots', 'Salt', 'Noah', 'The Adventures of Tintin', 'Harry Potter and the Prisoner of Azkaban', 'Australia', 'After Earth', 'Dinosaur', 'Night at the Museum: Secret of the Tomb', 'Megamind', \"Harry Potter and the Philosopher's Stone\", 'R.I.P.D.', 'Pirates of the Caribbean: The Curse of the Black Pearl', 'The Hunger Games: Mockingjay - Part 1', 'The Da Vinci Code', 'Rio 2', 'X2', 'Fast Five', 'Sherlock Holmes: A Game of Shadows', 'Clash of the Titans', 'Total Recall', 'The 13th Warrior', 'The Bourne Legacy', 'Batman & Robin', 'How the Grinch Stole Christmas', 'The Day After Tomorrow', 'Mission: Impossible II', 'The Perfect Storm', 'Fantastic 4: Rise of the Silver Surfer', 'Life of Pi', 'Ghost Rider', 'Jason Bourne', \"Charlie's Angels: Full Throttle\", 'Prometheus', 'Stuart Little 2', 'Elysium', 'The Chronicles of Riddick', 'RoboCop', 'Speed Racer', 'How Do You Know', 'Knight and Day', 'Oblivion', 'Star Wars: Episode III - Revenge of the Sith', 'Star Wars: Episode II - Attack of the Clones', 'Monsters, Inc.', 'The Wolverine', 'Star Wars: Episode I - The Phantom Menace', 'The Croods', 'Asterix at the Olympic Games', 'Windtalkers', \"The Huntsman: Winter's War\", 'Teenage Mutant Ninja Turtles', 'Gravity', \"Dante's Peak\", 'Teenage Mutant Ninja Turtles: Out of the Shadows', 'Fantastic Four', 'Night at the Museum', 'San Andreas', 'Tomorrow Never Dies', 'The Patriot', \"Ocean's Twelve\", 'Mr. & Mrs. Smith', 'Insurgent', 'The Aviator', \"Gulliver's Travels\", 'The Green Hornet', '300: Rise of an Empire', 'The Smurfs', 'Home on the Range', 'Allegiant', 'Real Steel', 'The Smurfs 2', 'Speed 2: Cruise Control', \"Ender's Game\", 'Live Free or Die Hard', 'The Lord of the Rings: The Fellowship of the Ring', 'Around the World in 80 Days', 'Ali', 'The Cat in the Hat', 'I, Robot', 'Kingdom of Heaven', 'Stuart Little', 'The Princess and the Frog', 'The Martian', 'The Island', 'Town & Country', 'Gone in Sixty Seconds', 'Gladiator', 'Minority Report', 'Harry Potter and the Chamber of Secrets', 'Casino Royale', 'Planet of the Apes', 'Terminator 2: Judgment Day', 'Public Enemies', 'American Gangster', 'True Lies', 'The Taking of Pelham 1 2 3', 'Little Fockers', 'The Other Guys', 'Eraser', 'Django Unchained', 'The Hunchback of Notre Dame', \"The Emperor's New Groove\", 'The Expendables 2', 'National Treasure', 'Eragon', 'Where the Wild Things Are', 'Epic', 'The Tourist', 'End of Days', 'Blood Diamond', 'The Wolf of Wall Street', 'Batman Forever', 'Starship Troopers', 'Cloud Atlas', \"Legend of the Guardians: The Owls of Ga'Hoole\", 'Catwoman', 'Hercules', 'Treasure Planet', 'Land of the Lost', 'The Expendables 3', 'Point Break', 'Son of the Mask', 'In the Heart of the Sea', 'The Adventures of Pluto Nash', 'Green Zone', 'The Peanuts Movie', 'The Spanish Prisoner', 'The Mummy Returns', 'Gangs of New York', 'The Flowers of War', \"Surf's Up\", 'The Stepford Wives', 'Black Hawk Down', 'The Campaign', 'The Fifth Element', 'Sex and the City 2', 'The Road to El Dorado', 'Ice Age: Continental Drift', 'Cinderella', 'The Lovely Bones', 'Finding Nemo', 'The Lord of the Rings: The Return of the King', 'The Lord of the Rings: The Two Towers', 'Seventh Son', 'Lara Croft: Tomb Raider', 'Transcendence', 'Jurassic Park III', 'Rise of the Planet of the Apes', 'The Spiderwick Chronicles', 'A Good Day to Die Hard', 'The Alamo', 'The Incredibles', 'Cutthroat Island', 'Percy Jackson & the Olympians: The Lightning Thief', 'Men in Black', 'Toy Story 2', 'Unstoppable', 'Rush Hour 2', 'What Lies Beneath', 'Cloudy with a Chance of Meatballs', 'Ice Age: Dawn of the Dinosaurs', 'The Secret Life of Walter Mitty', \"Charlie's Angels\", 'The Departed', 'Mulan', 'Tropic Thunder', 'The Girl with the Dragon Tattoo', 'Die Hard: With a Vengeance', 'Sherlock Holmes', 'Ben-Hur', 'Atlantis: The Lost Empire', 'Alvin and the Chipmunks: The Road Chip', 'Valkyrie', \"You Don't Mess with the Zohan\", 'Pixels', 'A.I. Artificial Intelligence', 'The Haunted Mansion', 'Contact', 'Hollow Man', 'The Interpreter', 'Percy Jackson: Sea of Monsters', 'Lara Croft Tomb Raider: The Cradle of Life', 'Now You See Me 2', 'The Saint', 'Spy Game', 'Mission to Mars', 'Rio', 'Bicentennial Man', 'Volcano', \"The Devil's Own\", 'K-19: The Widowmaker', 'Conan the Barbarian', 'Cinderella Man', 'The Nutcracker: The Untold Story', 'Seabiscuit', 'Twister', 'Cast Away', 'Happy Feet', 'The Bourne Supremacy', 'Air Force One', \"Ocean's Eleven\", 'The Three Musketeers', 'Hotel Transylvania', 'Enchanted', 'Safe House', '102 Dalmatians', 'Tower Heist', 'The Holiday', 'Enemy of the State', \"It's Complicated\", \"Ocean's Thirteen\", 'Open Season', 'Divergent', 'Enemy at the Gates', 'The Rundown', 'Last Action Hero', 'Memoirs of a Geisha', 'The Fast and the Furious: Tokyo Drift', 'Arthur Christmas', 'Meet Joe Black', 'Collateral Damage', 'All That Jazz', 'Mirror Mirror', 'Scott Pilgrim vs. the World', 'The Core', 'Nutty Professor II: The Klumps', 'Scooby-Doo', 'Dredd', 'Click', 'Creepshow', 'Cats & Dogs 2 : The Revenge of Kitty Galore', 'Jumper', 'Hellboy II: The Golden Army', 'Zodiac', 'The 6th Day', 'Bruce Almighty', 'The Expendables', 'Mission: Impossible', 'The Hunger Games', 'The Hangover Part II', 'Batman Returns', 'Over the Hedge', 'Lilo & Stitch', \"Charlotte's Web\", 'Deep Impact', 'RED 2', 'The Longest Yard', 'Alvin and the Chipmunks: Chipwrecked', 'Grown Ups 2', 'Get Smart', \"Something's Gotta Give\", 'Shutter Island', 'Four Christmases', 'Robots', 'Face/Off', 'Bedtime Stories', 'Road to Perdition', 'Just Go with It', 'Con Air', 'Eagle Eye', 'Cold Mountain', 'The Book of Eli', 'Flubber', 'The Haunting', 'Space Jam', 'The Pink Panther', 'The Day the Earth Stood Still', 'Conspiracy Theory', 'Fury', 'Six Days Seven Nights', 'Yogi Bear', 'Spirit: Stallion of the Cimarron', 'Zookeeper', 'Lost in Space', 'The Manchurian Candidate', 'Déjà Vu', 'Hotel Transylvania 2', 'Fantasia 2000', 'The Time Machine', 'Mighty Joe Young', 'Swordfish', 'The Legend of Zorro', 'What Dreams May Come', 'Little Nicky', 'The Brothers Grimm', 'Mars Attacks!', 'Evolution', 'The Edge', 'Surrogates', 'Thirteen Days', 'Daylight', 'Walking With Dinosaurs', 'Battlefield Earth', 'Looney Tunes: Back in Action', 'Nine', 'Timeline', 'The Postman', 'Babe: Pig in the City', 'The Last Witch Hunter', 'Red Planet', 'Arthur and the Invisibles', 'Oceans', 'A Sound of Thunder', 'Pompeii', 'Top Cat Begins', 'A Beautiful Mind', 'The Lion King', 'Journey 2: The Mysterious Island', 'Cloudy with a Chance of Meatballs 2', 'Red Dragon', 'Hidalgo', 'Jack and Jill', '2 Fast 2 Furious', 'The Little Prince', 'The Invasion', 'The Adventures of Rocky & Bullwinkle', 'The Secret Life of Pets', 'The League of Extraordinary Gentlemen', 'Despicable Me 2', 'Independence Day', 'The Lost World: Jurassic Park', 'Madagascar', 'Children of Men', 'X-Men', 'Wanted', 'The Rock', 'Ice Age: The Meltdown', '50 First Dates', 'Hairspray', 'Exorcist: The Beginning', 'Inspector Gadget', 'Now You See Me', 'Grown Ups', 'The Terminal', 'Hotel for Dogs', 'Vertical Limit', \"Charlie Wilson's War\", 'Shark Tale', 'Dreamgirls', 'Be Cool', 'Munich', 'Tears of the Sun', 'Killers', 'The Man from U.N.C.L.E.', 'Spanglish', 'Monster House', 'Bandits', 'First Knight', 'Anna and the King', 'Immortals', 'Hostage', 'Titan A.E.', 'Hollywood Homicide', 'Soldier', 'Carriers', 'Monkeybone', 'Flight of the Phoenix', 'Unbreakable', 'Minions', 'Sucker Punch', 'Snake Eyes', 'Sphere', 'The Angry Birds Movie', \"Fool's Gold\", 'Funny People', 'The Kingdom', 'Talladega Nights: The Ballad of Ricky Bobby', 'Dr. Dolittle 2', 'Braveheart', 'Jarhead', 'The Simpsons Movie', 'The Majestic', 'Driven', 'Two Brothers', 'The Village', 'Doctor Dolittle', 'Signs', 'Shrek 2', 'Cars', 'Runaway Bride', 'xXx', 'The SpongeBob Movie: Sponge Out of Water', 'Ransom', 'Inglourious Basterds', 'Hook', 'Die Hard 2', 'S.W.A.T.', 'Vanilla Sky', 'Lady in the Water', 'AVP: Alien vs. Predator', 'Alvin and the Chipmunks: The Squeakquel', 'We Were Soldiers', 'Olympus Has Fallen', 'Star Trek: Insurrection', 'Battle: Los Angeles', 'Big Fish', 'Wolf', 'War Horse', 'The Monuments Men', 'The Abyss', 'Wall Street: Money Never Sleeps', 'Dracula Untold', 'The Siege', 'Stardust', 'Seven Years in Tibet', 'The Dilemma', 'Bad Company', 'Doom', 'I Spy', 'Underworld: Awakening', 'Rock of Ages', \"Hart's War\", 'Killer Elite', 'Rollerball', 'Ballistic: Ecks vs. Sever', 'Hard Rain', 'Osmosis Jones', \"Legends of Oz: Dorothy's Return\", 'Blackhat', 'Sky Captain and the World of Tomorrow', 'Basic Instinct 2', 'Escape Plan', 'The Legend of Hercules', 'The Sum of All Fears', 'The Twilight Saga: Eclipse', 'The Score', 'Despicable Me', 'Money Train', 'Ted 2', 'Agora', 'Mystery Men', 'Hall Pass', 'The Insider', 'The Finest Hours', 'Body of Lies', 'Dinner for Schmucks', 'Abraham Lincoln: Vampire Hunter', 'Entrapment', 'The X Files', 'The Last Legion', 'Saving Private Ryan', 'Need for Speed', 'What Women Want', 'Ice Age', 'Dreamcatcher', 'Lincoln', 'The Matrix', 'Apollo 13', 'The Santa Clause 2', 'Les Misérables', \"You've Got Mail\", 'Step Brothers', 'The Mask of Zorro', 'Due Date', 'Unbroken', 'Space Cowboys', 'Cliffhanger', 'Broken Arrow', 'The Kid', 'World Trade Center', 'Mona Lisa Smile', 'The Dictator', 'Eyes Wide Shut', 'Annie', 'Focus', 'This Means War', 'Blade: Trinity', 'Red Dawn', 'Primary Colors', 'Resident Evil: Retribution', 'Death Race', 'The Long Kiss Goodnight', 'Proof of Life', 'Zathura: A Space Adventure', 'Fight Club', 'We Are Marshall', 'Hudson Hawk', 'Lucky Numbers', 'I, Frankenstein', 'Oliver Twist', 'Elektra', 'Sin City: A Dame to Kill For', 'Random Hearts', 'Everest', 'Perfume: The Story of a Murderer', 'Austin Powers in Goldmember', 'Astro Boy', 'Jurassic Park', 'Wyatt Earp', 'Clear and Present Danger', 'Dragon Blade', 'Little Man', 'U-571', 'The American President', 'The Love Guru', '3000 Miles to Graceland', 'The Hateful Eight', 'Blades of Glory', 'Hop', '300', 'Meet the Fockers', 'Marley & Me', 'The Green Mile', 'Wild Hogs', 'Chicken Little', 'Gone Girl', 'The Bourne Identity', 'GoldenEye', \"The General's Daughter\", 'The Truman Show', 'The Prince of Egypt', 'Daddy Day Care', '2 Guns', 'Cats & Dogs', 'The Italian Job', 'Two Weeks Notice', 'Antz', 'Couples Retreat', 'Days of Thunder', 'Cheaper by the Dozen 2', 'Maze Runner: The Scorch Trials', 'Eat Pray Love', 'The Family Man', 'RED', 'Any Given Sunday', 'The Horse Whisperer', 'Collateral', 'The Scorpion King', 'Ladder 49', 'Jack Reacher', 'Deep Blue Sea', 'This Is It', 'Contagion', 'Kangaroo Jack', 'Coraline', 'The Happening', 'Man on Fire', 'The Shaggy Dog', 'Starsky & Hutch', 'Jingle All the Way', 'Hellboy', 'A Civil Action', 'ParaNorman', 'The Jackal', 'Paycheck', 'Up Close & Personal', 'The Tale of Despereaux', 'The Tuxedo', 'Under Siege 2: Dark Territory', 'Jack Ryan: Shadow Recruit', 'Joy', 'London Has Fallen', 'Alien: Resurrection', 'Shooter', 'The Boxtrolls', 'Practical Magic', 'The Lego Movie', 'Miss Congeniality 2: Armed and Fabulous', 'Reign of Fire', 'Gangster Squad', 'Year One', 'Invictus', 'State of Play', 'Duplicity', 'My Favorite Martian', 'The Sentinel', 'Planet 51', 'Star Trek: Nemesis', 'Intolerable Cruelty', 'Trouble with the Curve', 'Edge of Darkness', 'The Relic', 'Analyze That', 'Righteous Kill', 'Mercury Rising', 'The Soloist', 'The Legend of Bagger Vance', 'Almost Famous', 'Garfield: A Tail of Two Kitties', 'xXx: State of the Union', 'Priest', 'Sinbad: Legend of the Seven Seas', 'Event Horizon', 'Dragonfly', 'The Black Dahlia', 'Flyboys', 'The Last Castle', 'Supernova', \"Winter's Tale\", 'The Mortal Instruments: City of Bones', 'Meet Dave', 'Dark Water', 'Edtv', 'Inkheart', 'The Spirit', 'Mortdecai', 'In the Name of the King: A Dungeon Siege Tale', 'Beyond Borders', 'The Monkey King 2', 'The Great Raid', 'Deadpool', 'Holy Man', 'American Sniper', 'Goosebumps', 'Just Like Heaven', 'The Flintstones in Viva Rock Vegas', 'Rambo III', 'Leatherheads', 'The Ridiculous 6', 'Did You Hear About the Morgans?', 'The Internship', 'Resident Evil: Afterlife', 'Red Tails', \"The Devil's Advocate\", \"That's My Boy\", 'DragonHeart', 'After the Sunset', 'Ghost Rider: Spirit of Vengeance', \"Captain Corelli's Mandolin\", 'The Pacifier', 'Walking Tall', 'Forrest Gump', 'Alvin and the Chipmunks', 'Meet the Parents', 'Pocahontas', 'Superman', 'The Nutty Professor', 'Hitch', 'George of the Jungle', 'American Wedding', 'Captain Phillips', 'Date Night', 'Casper', 'The Equalizer', 'Maid in Manhattan', 'Crimson Tide', 'The Pursuit of Happyness', 'Flightplan', 'Disclosure', 'City of Angels', 'Kill Bill: Vol. 1', 'Bowfinger', 'Kill Bill: Vol. 2', 'Tango & Cash', 'Death Becomes Her', 'Shanghai Noon', 'Executive Decision', \"Mr. Popper's Penguins\", 'The Forbidden Kingdom', 'Free Birds', 'Alien³', 'Evita', 'Ronin', 'The Ghost and the Darkness', 'Paddington', 'The Watch', 'The Hunted', 'Instinct', 'Stuck on You', 'Semi-Pro', 'The Pirates! In an Adventure with Scientists!', 'Changeling', 'Chain Reaction', 'The Fan', 'The Phantom of the Opera', 'Elizabeth: The Golden Age', 'Æon Flux', 'Gods and Generals', 'Turbulence', 'Imagine That', 'Muppets Most Wanted', 'Thunderbirds', 'Burlesque', 'A Very Long Engagement', 'Lolita', 'D-Tox', 'Blade II', 'Seven Pounds', 'Bullet to the Head', 'The Godfather: Part III', 'Elizabethtown', 'You, Me and Dupree', 'Superman II', 'Gigli', \"All the King's Men\", 'Shaft', 'Anastasia', 'Moulin Rouge!', 'Domestic Disturbance', 'Black Mass', 'Flags of Our Fathers', 'Law Abiding Citizen', 'Grindhouse', 'Beloved', 'Lucky You', 'Catch Me If You Can', 'Zero Dark Thirty', 'The Break-Up', 'Mamma Mia!', \"Valentine's Day\", 'The Dukes of Hazzard', 'The Thin Red Line', 'The Change-Up', 'Man on the Moon', 'Casino', 'From Paris with Love', 'Bulletproof Monk', 'Me, Myself & Irene', 'Barnyard', 'Deck the Halls', 'The Twilight Saga: New Moon', 'Shrek', 'The Adjustment Bureau', 'Robin Hood: Prince of Thieves', 'Jerry Maguire', 'Ted', 'As Good as It Gets', 'Patch Adams', 'Anchorman 2: The Legend Continues', 'Mr. Deeds', 'Super 8', 'Erin Brockovich', 'How to Lose a Guy in 10 Days', '22 Jump Street', 'Interview with the Vampire', 'Yes Man', 'Central Intelligence', 'Stepmom', \"Daddy's Home\", 'Into the Woods', 'Inside Man', 'Payback', 'Congo', 'We Bought a Zoo', 'Knowing', 'Failure to Launch', 'The Ring Two', 'Crazy, Stupid, Love.', 'Garfield', 'Christmas with the Kranks', 'Moneyball', 'Outbreak', 'Non-Stop', 'Race to Witch Mountain', 'V for Vendetta', 'Shanghai Knights', 'Curious George', 'Herbie Fully Loaded', \"Don't Say a Word\", 'Hansel & Gretel: Witch Hunters', 'Unfaithful', 'I Am Number Four', 'Syriana', '13 Hours: The Secret Soldiers of Benghazi', 'The Book of Life', 'Firewall', 'Absolute Power', 'G.I. Jane', 'The Game', 'Silent Hill', 'The Replacements', 'American Reunion', 'The Negotiator', 'Into the Storm', 'Beverly Hills Cop III', 'Gremlins 2: The New Batch', 'The Judge', 'The Peacemaker', 'Resident Evil: Apocalypse', 'Bridget Jones: The Edge of Reason', 'Out of Time', 'On Deadly Ground', 'The Adventures of Sharkboy and Lavagirl', 'The Beach', 'Raising Helen', 'Ninja Assassin', 'For Love of the Game', 'Striptease', 'Marmaduke', 'Hereafter', 'Murder by Numbers', 'Assassins', 'Hannibal Rising', 'The Story of Us', 'The Host', 'Basic', 'Blood Work', 'The International', 'Escape from L.A.', 'The Iron Giant', 'The Life Aquatic with Steve Zissou', 'Free State of Jones', 'The Life of David Gale', 'Man of the House', 'Run All Night', 'Eastern Promises', 'Into the Blue', 'The Messenger: The Story of Joan of Arc', 'Your Highness', 'Dream House', 'Mad City', \"Baby's Day Out\", 'The Scarlet Letter', 'Fair Game', 'Domino', 'Jade', 'Gamer', 'Beautiful Creatures', 'Death to Smoochy', 'Zoolander 2', 'The Big Bounce', 'What Planet Are You From?', 'Drive Angry', 'Street Fighter: The Legend of Chun-Li', 'The One', 'The Adventures of Ford Fairlane', 'The Boat That Rocked', 'Traffic', 'Indiana Jones and the Last Crusade', 'Anna Karenina', 'Chappie', 'The Bone Collector', 'Panic Room', 'The Tooth Fairy', 'Three Kings', 'Child 44', 'Rat Race', 'K-PAX', 'Kate & Leopold', 'Bedazzled', 'The Cotton Club', '3:10 to Yuma', 'Taken 3', 'Out of Sight', 'The Cable Guy', 'Earth', 'Dick Tracy', 'The Thomas Crown Affair', 'Riding in Cars with Boys', 'First Blood', 'Solaris', \"Happily N'Ever After\", 'Mary Reilly', \"My Best Friend's Wedding\", \"America's Sweethearts\", 'Insomnia', 'Star Trek: First Contact', 'Jonah Hex', 'Courage Under Fire', 'Liar Liar', 'The Infiltrator', 'Inchon', 'The Flintstones', 'Taken 2', 'Scary Movie 3', 'Miss Congeniality', 'Journey to the Center of the Earth', 'The Princess Diaries 2: Royal Engagement', 'The Pelican Brief', 'The Client', 'The Bucket List', 'Patriot Games', 'Monster-in-Law', 'Prisoners', 'Training Day', 'Galaxy Quest', 'Scary Movie 2', 'The Muppets', 'Blade', 'Coach Carter', 'Changing Lanes', 'Anaconda', 'Coyote Ugly', 'Love Actually', \"A Bug's Life\", 'From Hell', 'The Specialist', 'Tin Cup', 'Yours, Mine and Ours', 'Kicking & Screaming', \"The Hitchhiker's Guide to the Galaxy\", 'Fat Albert', 'Resident Evil: Extinction', 'Blended', 'Last Holiday', 'The River Wild', 'The Indian in the Cupboard', 'Savages', 'Cellular', 'Johnny English', 'The Ant Bully', 'Dune', 'Across the Universe', 'Revolutionary Road', '16 Blocks', 'Babylon A.D.', 'The Glimmer Man', 'Multiplicity', 'Aliens in the Attic', 'The Pledge', 'The Producers', 'The Phantom', 'All the Pretty Horses', 'Nixon', 'The Ghost Writer', 'Deep Rising', 'Miracle at St. Anna', 'Curse of the Golden Flower', 'Bangkok Dangerous', 'Big Trouble', 'Love in the Time of Cholera', 'Shadow Conspiracy', 'Johnny English Reborn', 'Foodfight!', 'Argo', 'The Fugitive', 'The Bounty Hunter', 'Sleepers', 'Rambo: First Blood Part II', 'The Juror', 'Pinocchio', \"Heaven's Gate\", 'Underworld: Evolution', 'Victor Frankenstein', 'Finding Forrester', '28 Days', 'Unleashed', 'The Sweetest Thing', 'The Firm', 'Charlie St. Cloud', 'The Mechanic', '21 Jump Street', 'Notting Hill', 'Chicken Run', 'Along Came Polly', 'Boomerang', 'The Heat', 'Cleopatra', 'Here Comes the Boom', 'High Crimes', 'The Mirror Has Two Faces', 'The Mothman Prophecies', 'Brüno', 'Licence to Kill', 'Red Riding Hood', '15 Minutes', 'Super Mario Bros.', 'Lord of War', 'Hero', 'One for the Money', 'The Interview', \"The Warrior's Way\", 'Micmacs', '8 Mile', 'Why I Did (Not) Eat My Father', \"A Knight's Tale\", 'The Medallion', 'The Sixth Sense', 'Man on a Ledge', 'The Big Year', 'The Karate Kid', 'American Hustle', 'The Proposal', 'Double Jeopardy', 'Back to the Future Part II', 'Lucy', 'Fifty Shades of Grey', 'Spy Kids 3-D: Game Over', 'A Time to Kill', 'Cheaper by the Dozen', 'Lone Survivor', 'A League of Their Own', 'The Conjuring 2', 'The Social Network', \"He's Just Not That Into You\", 'Scary Movie 4', 'Scream 3', 'Back to the Future Part III', 'Get Hard', 'Dracula', 'Julie & Julia', '42', 'The Talented Mr. Ripley', 'Dumb and Dumber To', 'Eight Below', 'The Intern', 'Ride Along 2', 'The Last of the Mohicans', 'Ray', 'Sin City', 'Vantage Point', 'I Love You, Man', 'Shallow Hal', 'JFK', \"Big Momma's House 2\", 'The Mexican', '17 Again', 'The Other Woman', 'The Final Destination', 'Bridge of Spies', 'Behind Enemy Lines', 'Get Him to the Greek', 'Shall We Dance?', 'Small Soldiers', 'Spawn', 'The Count of Monte Cristo', 'The Lincoln Lawyer', 'Unknown', 'The Prestige', 'Horrible Bosses 2', 'Escape from Planet Earth', 'Apocalypto', 'The Living Daylights', 'Predators', 'Legal Eagles', 'Secret Window', 'The Lake House', 'The Skeleton Key', 'The Odd Life of Timothy Green', 'Made of Honor', 'Jersey Boys', 'The Rainmaker', 'Gothika', 'Amistad', 'Medicine Man', 'Aliens vs Predator: Requiem', 'Ri¢hie Ri¢h', 'Autumn in New York', 'Music and Lyrics', 'Paul', 'The Guilt Trip', 'Scream 4', '8MM', 'The Doors', 'Sex Tape', 'Hanging Up', 'Final Destination 5', 'Mickey Blue Eyes', 'Pay It Forward', 'Fever Pitch', 'Drillbit Taylor', 'A Million Ways to Die in the West', 'The Shadow', 'Extremely Loud & Incredibly Close', 'Morning Glory', \"Get Rich or Die Tryin'\", 'The Art of War', 'Rent', 'Bless the Child', 'The Out-of-Towners', 'The Island of Dr. Moreau', 'The Musketeer', 'The Other Boleyn Girl', 'Sweet November', 'The Reaping', 'Mean Streets', 'Renaissance Man', 'Colombiana', 'Quest for Camelot', 'City By The Sea', 'At First Sight', 'Torque', 'City Hall', 'Showgirls', 'Marie Antoinette', 'Kiss of Death', 'Get Carter', 'The Impossible', 'Ishtar', 'Fantastic Mr. Fox', 'Life or Something Like It', 'Memoirs of an Invisible Man', 'Amélie', 'New York Minute', 'Alfie', 'Big Miracle', 'The Deep End of the Ocean', 'FearDotCom', \"Cirque du Freak: The Vampire's Assistant\", 'Duplex', 'Soul Men', 'Raise the Titanic', 'Universal Soldier: The Return', 'Pandorum', 'Impostor', 'Extreme Ops', 'Just Visiting', 'Sunshine', 'A Thousand Words', 'Delgo', 'The Gunman', 'Stormbreaker', 'Disturbia', 'Hackers', 'The Hunting Party', 'The Hudsucker Proxy', 'The Warlords', 'Nomad: The Warrior', 'Snowpiercer', 'A Monster in Paris', 'The Last Shot', 'The Crow', 'Baahubali: The Beginning', \"The Time Traveler's Wife\", 'Because I Said So', 'Frankenweenie', 'Serenity', 'Against the Ropes', 'Superman III', 'Grudge Match', 'Red Cliff', 'Sweet Home Alabama', 'The Ugly Truth', 'Sgt. Bilko', 'Spy Kids 2: The Island of Lost Dreams', 'Star Trek: Generations', 'The Grandmaster', 'Water for Elephants', \"Dragon Nest: Warriors' Dawn\", 'The Hurricane', 'Enough', 'Heartbreakers', 'Paul Blart: Mall Cop 2', 'Angel Eyes', 'Joe Somebody', 'The Ninth Gate', 'Extreme Measures', 'Rock Star', 'Precious', 'White Squall', 'The Thing', 'Riddick', 'Switchback', 'Texas Rangers', 'City of Ember', 'The Master', 'Virgin Territory', 'The Express', 'The 5th Wave', 'Creed', 'The Town', \"What to Expect When You're Expecting\", 'Burn After Reading', \"Nim's Island\", 'Rush', 'Magnolia', 'Cop Out', 'How to Be Single', 'Dolphin Tale', 'Twilight', 'John Q', 'Blue Streak', \"We're the Millers\", 'The Inhabited Island', 'Breakdown', 'Never Say Never Again', 'Hot Tub Time Machine', 'Dolphin Tale 2', 'Reindeer Games', 'A Man Apart', 'Aloha', 'Ghosts of Mississippi', 'Snow Falling on Cedars', 'The Rite', 'Gattaca', \"Isn't She Great\", 'Space Chimps', 'Head of State', 'The Hangover', 'Ip Man 3', 'Austin Powers: The Spy Who Shagged Me', 'Batman', 'There Be Dragons', 'Lethal Weapon 3', 'The Blind Side', 'Spy Kids', 'Horrible Bosses', 'True Grit', 'The Devil Wears Prada', 'Star Trek: The Motion Picture', 'Identity Thief', 'Cape Fear', '21', 'Trainwreck', 'Guess Who', 'The English Patient', 'L.A. Confidential', 'Sky High', 'In & Out', 'Species', 'A Nightmare on Elm Street', 'The Cell', 'The Man in the Iron Mask', 'Secretariat', 'TMNT', 'Radio', 'Friends with Benefits', 'Neighbors 2: Sorority Rising', 'Saving Mr. Banks', 'Malcolm X', 'This Is 40', 'Old Dogs', 'Underworld: Rise of the Lycans', 'License to Wed', 'The Benchwarmers', 'Must Love Dogs', 'Donnie Brasco', 'Resident Evil', 'Poltergeist', 'The Ladykillers', 'Max Payne', 'In Time', 'The Back-Up Plan', 'Something Borrowed', 'Black Knight', 'The Bad News Bears', 'Street Fighter', 'The Pianist', 'The Nativity Story', 'House of Wax', 'Closer', 'J. Edgar', 'Mirrors', 'Queen of the Damned', 'Predator 2', 'Untraceable', 'Blast from the Past', 'Flash Gordon', 'Jersey Girl', 'Alex Cross', 'Midnight in the Garden of Good and Evil', 'Heist', 'Nanny McPhee and the Big Bang', 'Hoffa', 'The X Files: I Want to Believe', 'Ella Enchanted', 'Concussion', 'Abduction', 'Valiant', 'Wonder Boys', 'Superhero Movie', 'Broken City', 'Cursed', 'Premium Rush', 'Hot Pursuit', 'The Four Feathers', 'Parker', 'Wimbledon', 'Furry Vengeance', 'Bait', 'Krull', 'Lions for Lambs', 'Flight of the Intruder', 'Walk Hard: The Dewey Cox Story', 'The Shipping News', 'American Outlaws', 'The Young Victoria', 'Whiteout', 'The Tree of Life', 'Knock Off', 'Sabotage', 'The Order', 'Punisher: War Zone', 'Zoom', 'The Walk', 'Warriors of Virtue', 'A Good Year', 'Radio Flyer', 'Bound by Honor', \"Smilla's Sense of Snow\", 'Femme Fatale', 'Lion of the Desert', 'The Horseman on the Roof', 'Ride with the Devil', 'Biutiful', 'Bandidas', 'Black Water Transit', 'The Maze Runner', 'Unfinished Business', 'The Age of Innocence', 'The Fountain', 'Chill Factor', 'Stolen', 'Ponyo', 'The Longest Ride', \"The Astronaut's Wife\", 'I Dreamed of Africa', 'Playing for Keeps', 'Mandela: Long Walk to Freedom', 'Reds', 'A Few Good Men', 'Exit Wounds', \"Big Momma's House\", 'Thunder and the House of Magic', 'The Darkest Hour', 'Step Up Revolution', 'Snakes on a Plane', 'The Watcher', 'The Punisher', 'Goal!: The Dream Begins', 'Safe', 'Pushing Tin', 'Return of the Jedi', 'Doomsday', 'The Reader', 'Wanderlust', 'Elf', 'Phenomenon', 'Snow Dogs', 'Scrooged', 'Nacho Libre', 'Bridesmaids', 'This Is the End', 'Stigmata', 'Men of Honor', 'Takers', 'The Big Wedding', 'Big Mommas: Like Father, Like Son', 'Source Code', 'Alive', 'The Number 23', 'The Young and Prodigious T.S. Spivet', '1941', 'Dreamer: Inspired By a True Story', 'A History of Violence', 'Transporter 2', 'The Quick and the Dead', 'Laws of Attraction', 'Bringing Out the Dead', 'Repo Men', 'Dragon Wars: D-War', 'Bogus', 'The Incredible Burt Wonderstone', \"Cats Don't Dance\", 'Cradle Will Rock', 'The Good German', 'George and the Dragon', 'Apocalypse Now', 'Going the Distance', \"Mr. Holland's Opus\", 'Criminal', 'Out of Africa', 'Flight', 'Moonraker', 'The Grand Budapest Hotel', 'Hearts in Atlantis', 'Arachnophobia', 'Frequency', 'Vacation', 'Get Shorty', 'Chicago', 'Big Daddy', 'American Pie 2', 'Toy Story', 'Speed', 'The Vow', 'Extraordinary Measures', 'Remember the Titans', 'The Hunt for Red October', 'The Butler', 'DodgeBall: A True Underdog Story', 'The Addams Family', 'Ace Ventura: When Nature Calls', 'The Princess Diaries', 'The First Wives Club', 'Se7en', 'District 9', 'The SpongeBob SquarePants Movie', 'Mystic River', 'Million Dollar Baby', 'Analyze This', 'The Notebook', '27 Dresses', 'Hannah Montana: The Movie', 'Rugrats in Paris: The Movie', 'The Prince of Tides', 'Legends of the Fall', 'Up in the Air', 'About Schmidt', 'Warm Bodies', 'Looper', 'Down to Earth', 'Babe', 'Hope Springs', 'Forgetting Sarah Marshall', 'Four Brothers', 'Baby Mama', 'Hope Floats', 'Bride Wars', 'Without a Paddle', '13 Going on 30', 'Midnight in Paris', 'The Nut Job', 'Blow', 'Message in a Bottle', 'Star Trek V: The Final Frontier', 'Like Mike', 'The Naked Gun 33⅓: The Final Insult', 'A View to a Kill', 'The Curse of the Were-Rabbit', 'P.S. I Love You', 'Racing Stripes', 'Atonement', 'Letters to Juliet', 'Black Rain', 'The Three Stooges', 'Corpse Bride', 'Glory Road', 'Sicario', 'Southpaw', 'Drag Me to Hell', 'The Age of Adaline', 'Secondhand Lions', 'Step Up 3D', 'Blue Crush', 'Stranger Than Fiction', '30 Days of Night', 'The Cabin in the Woods', 'Meet the Spartans', 'Midnight Run', 'The Running Man', 'Little Shop of Horrors', 'Hanna', 'Mortal Kombat: Annihilation', 'Larry Crowne', 'Carrie', 'Take the Lead', 'Gridiron Gang', \"What's the Worst That Could Happen?\", '9', 'Side Effects', 'The Prince & Me', 'Winnie the Pooh', 'Dumb and Dumberer: When Harry Met Lloyd', 'Bulworth', 'Get on Up', 'One True Thing', 'Virtuosity', 'My Super Ex-Girlfriend', 'Deliver Us from Evil', 'Sanctum', 'Little Black Book', 'The Five-Year Engagement', 'Mr. 3000', 'The Next Three Days', 'Ultraviolet', 'Assault on Precinct 13', 'The Replacement Killers', 'Fled', 'Eight Legged Freaks', 'Love & Other Drugs', '88 Minutes', 'North Country', 'The Whole Ten Yards', 'Splice', 'Howard the Duck', 'Pride and Glory', 'The Cave', 'Alex & Emma', 'Wicker Park', 'Fright Night', 'The New World', 'Wing Commander', 'In Dreams', 'Dragonball Evolution', 'The Last Stand', 'Godsend', 'Chasing Liberty', 'Hoodwinked Too! Hood VS. Evil', 'An Unfinished Life', 'The Imaginarium of Doctor Parnassus', \"Barney's Version\", 'Runner Runner', 'Antitrust', 'Glory', 'Once Upon a Time in America', 'Dead Man Down', 'The Merchant of Venice', 'The Good Thief', 'Supercross', 'Miss Potter', 'The Promise', 'DOA: Dead or Alive', 'The Assassination of Jesse James by the Coward Robert Ford', '1911', 'Little Nicholas', 'Wild Card', 'Machine Gun Preacher', 'Animals United', 'Goodbye Bafana', 'United Passions', 'Grace of Monaco', 'Savva. Heart of the Warrior', \"Ripley's Game\", 'Sausage Party', 'Pitch Perfect 2', 'Walk the Line', 'Keeping the Faith', 'The Borrowers', 'Frost/Nixon', 'Confessions of a Dangerous Mind', 'Serving Sara', 'The Boss', 'Cry Freedom', 'Mumford', 'Seed of Chucky', 'The Jacket', 'Aladdin', 'Straight Outta Compton', 'Indiana Jones and the Temple of Doom', 'The Rugrats Movie', 'Along Came a Spider', 'Florence Foster Jenkins', 'Once Upon a Time in Mexico', 'Die Hard', 'Role Models', 'The Big Short', 'Taking Woodstock', 'Miracle', 'Dawn of the Dead', 'The Wedding Planner', 'Space Pirate Captain Harlock', 'The Royal Tenenbaums', 'Identity', 'Last Vegas', 'For Your Eyes Only', 'Serendipity', 'Timecop', 'Zoolander', 'Safe Haven', 'Hocus Pocus', 'No Reservations', 'Kick-Ass', '30 Minutes or Less', 'Dracula 2000', 'Alexander and the Terrible, Horrible, No Good, Very Bad Day', 'Pride & Prejudice', 'Blade Runner', 'Rob Roy', '3 Days to Kill', 'We Own the Night', 'Lost Souls', 'Winged Migration', 'Just My Luck', 'Mystery, Alaska', 'The Spy Next Door', 'A Simple Wish', 'Ghosts of Mars', 'Our Brand Is Crisis', 'Pride and Prejudice and Zombies', 'Kundun', 'How to Lose Friends & Alienate People', 'Kick-Ass 2', 'Alatriste', 'Brick Mansions', 'Octopussy', 'Knocked Up', \"My Sister's Keeper\", 'Welcome Home Roscoe Jenkins', 'A Passage to India', 'Notes on a Scandal', 'Rendition', 'Star Trek VI: The Undiscovered Country', 'Divine Secrets of the Ya-Ya Sisterhood', 'Kiss the Girls', 'The Blues Brothers', 'The Sisterhood of the Traveling Pants 2', 'Joyful Noise', 'About a Boy', 'Lake Placid', 'Lucky Number Slevin', 'The Right Stuff', 'Anonymous', 'The NeverEnding Story', 'Dark City', 'The Duchess', 'Return to Oz', 'The Newton Boys', 'Case 39', 'Suspect Zero', 'Martian Child', 'Spy Kids: All the Time in the World', 'Money Monster', 'The 51st State', 'Flawless', 'Mindhunters', 'What Just Happened', 'The Statement', 'The Magic Flute', 'Paul Blart: Mall Cop', 'Freaky Friday', 'The 40 Year Old Virgin', 'Shakespeare in Love', 'A Walk Among the Tombstones', 'Kindergarten Cop', 'Pineapple Express', 'Ever After: A Cinderella Story', 'Open Range', 'Flatliners', 'A Bridge Too Far', 'Red Eye', 'Final Destination 2', 'O Brother, Where Art Thou?', 'Legion', 'Pain & Gain', 'In Good Company', 'Clockstoppers', 'Silverado', 'Brothers', 'Agent Cody Banks 2: Destination London', \"New Year's Eve\", 'Original Sin', 'The Raven', 'Welcome to Mooseport', 'Highlander: The Final Dimension', 'Blood and Wine', 'Snow White: A Tale of Terror', 'The Curse of the Jade Scorpion', 'Accidental Love', 'Flipper', 'Self/less', 'The Constant Gardener', 'The Passion of the Christ', 'Mrs. Doubtfire', 'Rain Man', 'Gran Torino', 'W.', 'Taken', 'The Best of Me', 'The Bodyguard', \"Schindler's List\", 'The Help', 'The Fifth Estate', 'Scooby-Doo 2: Monsters Unleashed', 'Forbidden Kingdom', 'Freddy vs. Jason', 'The Face of an Angel', 'Jimmy Neutron: Boy Genius', 'Cloverfield', 'Teenage Mutant Ninja Turtles II: The Secret of the Ooze', 'The Untouchables', 'No Country for Old Men', 'Ride Along', \"Bridget Jones's Diary\", 'Chocolat', 'Legally Blonde 2: Red, White & Blonde', 'Parental Guidance', 'No Strings Attached', 'Tombstone', 'Romeo Must Die', 'The Omen', 'Final Destination 3', 'The Lucky One', 'Bridge to Terabithia', 'Finding Neverland', 'A Madea Christmas', 'The Grey', 'Hide and Seek', 'Anchorman: The Legend of Ron Burgundy', 'GoodFellas', 'Agent Cody Banks', 'Nanny McPhee', 'Scarface', 'Nothing to Lose', 'The Last Emperor', 'Contraband', 'Money Talks', 'There Will Be Blood', 'The Wild Thornberrys Movie', 'Rugrats Go Wild', 'Undercover Brother', 'The Sisterhood of the Traveling Pants', 'Kiss of the Dragon', 'The House Bunny', 'Beauty Shop', 'Million Dollar Arm', 'The Giver', 'What a Girl Wants', 'Jeepers Creepers 2', 'Good Luck Chuck', 'Cradle 2 the Grave', 'The Hours', \"She's the Man\", \"Mr. Bean's Holiday\", 'Anacondas: The Hunt for the Blood Orchid', 'Blood Ties', 'August Rush', 'Elizabeth', 'Bride of Chucky', 'Tora! Tora! Tora!', 'Spice World', 'The Sitter', 'Dance Flick', 'The Shawshank Redemption', 'Crocodile Dundee in Los Angeles', 'Kingpin', 'The Gambler', 'August: Osage County', 'Ice Princess', 'A Lot Like Love', 'Eddie the Eagle', 'He Got Game', 'Don Juan DeMarco', 'Dear John', 'The Losers', \"Don't Be Afraid of the Dark\", 'War', 'Punch-Drunk Love', 'EuroTrip', 'Half Past Dead', 'Unaccompanied Minors', 'Bright Lights, Big City', 'The Adventures of Pinocchio', 'The Greatest Game Ever Played', 'The Box', 'The Ruins', 'The Next Best Thing', 'My Soul to Take', 'The Girl Next Door', 'Maximum Risk', 'Stealing Harvard', 'Legend', 'Hot Rod', 'Shark Night', \"Angela's Ashes\", 'Draft Day', 'Lifeforce', 'The Conspirator', 'Lords of Dogtown', 'The 33', 'Big Trouble in Little China', 'Fly Me to the Moon', 'Warrior', 'Michael Collins', 'Gettysburg', 'Stop-Loss', 'Abandon', 'Brokedown Palace', 'The Possession', 'Mrs. Winterbourne', 'Straw Dogs', 'The Hoax', 'Stone Cold', 'The Road', 'Sheena', 'Underclassman', \"Say It Isn't So\", \"The World's Fastest Indian\", 'Tank Girl', \"King's Ransom\", 'Blindness', 'BloodRayne', 'Carnage', 'Where the Truth Lies', 'Cirque du Soleil: Worlds Away', 'Without Limits', 'Me and Orson Welles', 'The Best Offer', 'The Bad Lieutenant: Port of Call - New Orleans', \"A Turtle's Tale: Sammy's Adventures\", 'Little White Lies', 'Love Ranch', \"The True Story of Puss 'n Boots\", 'Space Dogs', 'The Counselor', 'Ironclad', 'Waterloo', 'Kung Fu Jungle', 'Red Sky', 'Dangerous Liaisons', 'On the Road', 'Star Trek IV: The Voyage Home', 'Rocky Balboa', 'Scream 2', 'Jane Got a Gun', 'Think Like a Man Too', 'The Whole Nine Yards', 'Footloose', 'Old School', 'The Fisher King', 'I Still Know What You Did Last Summer', 'Return to Me', 'Zack and Miri Make a Porno', 'Nurse Betty', 'The Men Who Stare at Goats', 'Double Take', 'Girl, Interrupted', 'Win a Date with Tad Hamilton!', 'Muppets from Space', 'The Wiz', 'Ready to Rumble', 'Play It to the Bone', \"I Don't Know How She Does It\", 'Piranha 3D', 'Beyond the Sea', 'Meet the Deedles', 'The Thief and the Cobbler', 'The Bridge of San Luis Rey', 'Faster', \"Howl's Moving Castle\", 'Zombieland', 'The Waterboy', 'The Empire Strikes Back', 'Bad Boys', 'The Naked Gun 2½: The Smell of Fear', 'Final Destination', 'The Ides of March', 'Pitch Black', 'Someone Like You...', 'Her', 'Joy Ride', 'The Adventurer: The Curse of the Midas Box', 'Anywhere But Here', 'The Crew', 'Haywire', 'Jaws: The Revenge', \"Marvin's Room\", 'The Longshots', 'The End of the Affair', 'Harley Davidson and the Marlboro Man', 'In the Valley of Elah', 'Coco Before Chanel', 'Forsaken', 'Cheri', 'Vanity Fair', 'Bodyguards and Assassins', '1408', 'Spaceballs', 'The Water Diviner', 'Ghost', \"There's Something About Mary\", 'The Santa Clause', 'The Rookie', 'The Game Plan', 'The Bridges of Madison County', 'The Animal', 'Gandhi', 'The Hundred-Foot Journey', 'The Net', 'I Am Sam', 'Son of God', 'Underworld', 'Derailed', 'The Informant!', 'Shadowlands', 'Deuce Bigalow: European Gigolo', 'Delivery Man', 'Our Kind of Traitor', 'Saving Silverman', 'Diary of a Wimpy Kid: Dog Days', 'Summer of Sam', 'Jay and Silent Bob Strike Back', 'The Glass House', 'Hail, Caesar!', 'Josie and the Pussycats', 'Homefront', 'The Little Vampire', 'I Heart Huckabees', 'RoboCop 3', 'Megiddo: The Omega Code 2', 'Darling Lili', 'Dudley Do-Right', 'The Transporter Refueled', 'The Libertine', 'Black Book', 'Joyeux Noël', 'Hit & Run', 'Mad Money', 'Before I Go to Sleep', 'Sorcerer', 'Stone', 'Moliere', 'Out of the Furnace', 'Michael Clayton', 'My Fellow Americans', 'Arlington Road', 'Underdogs', 'To Rome with Love', 'Firefox', 'South Park: Bigger, Longer & Uncut', 'Death at a Funeral', 'Teenage Mutant Ninja Turtles III', 'Hardball', 'Silver Linings Playbook', 'Freedom Writers', 'For Colored Girls', 'The Transporter', 'Never Back Down', 'The Rage: Carrie 2', 'Away We Go', 'Swing Vote', 'Moonlight Mile', 'Tinker Tailor Soldier Spy', 'Molly', 'The Beaver', 'The Best Little Whorehouse in Texas', 'eXistenZ', 'Raiders of the Lost Ark', 'Home Alone 2: Lost in New York', 'Close Encounters of the Third Kind', 'Pulse', 'Beverly Hills Cop II', 'Bringing Down the House', 'The Silence of the Lambs', \"Wayne's World\", 'Jackass 3D', 'Jaws 2', 'Beverly Hills Chihuahua', 'The Conjuring', 'Are We There Yet?', 'Tammy', 'School of Rock', 'Mortal Kombat', 'White Chicks', 'The Descendants', 'Holes', 'The Last Song', '12 Years a Slave', 'Drumline', 'Why Did I Get Married Too?', 'Edward Scissorhands', 'Me Before You', \"Madea's Witness Protection\", 'The French Connection', 'Bad Moms', 'Date Movie', 'Return to Never Land', 'Selma', 'The Jungle Book 2', 'Boogeyman', 'Premonition', 'The Tigger Movie', 'Orphan', 'Max', 'Epic Movie', 'Spotlight', 'Lakeview Terrace', 'The Grudge 2', 'How Stella Got Her Groove Back', \"Bill & Ted's Bogus Journey\", 'Man of the Year', 'The Black Hole', 'The American', 'Selena', 'Vampires Suck', 'Babel', 'This Is Where I Leave You', 'Doubt', 'Team America: World Police', 'Texas Chainsaw 3D', 'Copycat', 'Scary Movie 5', 'Paint Your Wagon', 'Milk', 'Risen', 'Ghost Ship', 'A Very Harold & Kumar Christmas', 'Wild Things', 'The Stepfather', 'The Debt', 'High Fidelity', 'One Missed Call', 'Eye for an Eye', 'The Bank Job', 'Eternal Sunshine of the Spotless Mind', 'You Again', 'Street Kings', \"The World's End\", 'Nancy Drew', 'Daybreakers', \"She's Out of My League\", 'Monte Carlo', 'Stay Alive', 'Quigley Down Under', 'Alpha and Omega', 'The Covenant', 'Stick It', 'Shorts', 'To Die For', 'Nerve', 'Appaloosa', 'Vampires', 'Psycho', \"My Best Friend's Girl\", 'Endless Love', 'Georgia Rule', 'Under the Rainbow', 'Ladyhawke', 'Simon Birch', 'Reign Over Me', 'Into the Wild', 'School for Scoundrels', 'Silent Hill: Revelation 3D', 'From Dusk Till Dawn', \"Pooh's Heffalump Movie\", 'Home for the Holidays', 'Kung Fu Hustle', 'The Country Bears', 'The Kite Runner', '21 Grams', 'Paparazzi', 'A Guy Thing', 'Loser', 'Capitalism: A Love Story', 'The Greatest Story Ever Told', 'Secret in Their Eyes', 'Disaster Movie', 'Armored', 'The Man Who Knew Too Little', \"What's Your Number?\", 'Lockout', 'Envy', 'Crank: High Voltage', 'Bullets Over Broadway', 'One Night with the King', 'The Quiet American', 'The Weather Man', 'Undisputed', 'Ghost Town', '12 Rounds', 'Let Me In', '3 Ninjas Kick Back', 'Be Kind Rewind', 'Mrs Henderson Presents', 'Triple 9', 'Deconstructing Harry', 'Three to Tango', 'Burnt', \"We're No Angels\", 'Everyone Says I Love You', 'Death Sentence', \"Everybody's Fine\", 'Superbabies: Baby Geniuses 2', 'The Man', 'Code Name: The Cleaner', 'Connie and Carla', 'Sweet Charity', 'Inherent Vice', 'Doogal', 'Battle of the Year', 'An American Carol', 'Machete Kills', 'Willard', 'Strange Wilderness', 'Topsy-Turvy', 'Little Boy', 'A Dangerous Method', 'A Scanner Darkly', 'Chasing Mavericks', 'Alone in the Dark', 'Bandslam', 'Birth', 'A Most Violent Year', 'Passchendaele', 'Flash of Genius', \"I'm Not There.\", 'The Cold Light of Day', 'The Brothers Bloom', 'Synecdoche, New York', 'Princess Mononoke', 'Bon voyage', \"Can't Stop the Music\", 'The Proposition', 'My All American', 'Marci X', 'Equilibrium', 'The Children of Huang Shi', 'The Yards', 'The Oogieloves in the Big Balloon Adventure', 'By the Sea', 'Steamboy', 'The Game of Their Lives', 'All Good Things', 'Rapa Nui', 'CJ7', 'The Visitors II: The Corridors of Time', 'Dylan Dog: Dead of Night', 'People I Know', 'The Tempest', 'Regression', 'Three Kingdoms: Resurrection of the Dragon', 'Butterfly on a Wheel', 'Zambezia', 'Ramanujan', 'Dwegons', 'Hands of Stone', 'Survivor', 'The Frozen Ground', 'The Painted Veil', 'The Baader Meinhof Complex', 'Dances with Wolves', 'Bad Teacher', 'Sea of Love', 'A Cinderella Story', 'Scream', 'Thir13en Ghosts', 'The Shining', 'Back to the Future', 'House on Haunted Hill', 'I Can Do Bad All By Myself', 'Fight Valley', 'The Switch', 'Just Married', \"The Devil's Double\", 'Thomas and the Magic Railroad', 'The Crazies', 'Spirited Away', 'Firestorm', 'The Bounty', 'The Book Thief', 'Sex Drive', 'Leap Year', 'The Fall of the Roman Empire', 'Take Me Home Tonight', \"Won't Back Down\", 'The Nutcracker', 'Kansas City', 'Indignation', 'The Amityville Horror', 'Adaptation.', 'Land of the Dead', 'Out of Inferno', 'Fear and Loathing in Las Vegas', 'The Invention of Lying', 'Neighbors', 'The Mask', 'Big', 'Borat: Cultural Learnings of America for Make Benefit Glorious Nation of Kazakhstan', 'Legally Blonde', 'Star Trek III: The Search for Spock', 'The Exorcism of Emily Rose', 'Deuce Bigalow: Male Gigolo', 'Left Behind', 'The Family Stone', 'Barbershop 2:  Back in Business', 'Bad Santa', 'Austin Powers: International Man of Mystery', 'My Big Fat Greek Wedding 2', 'Diary of a Wimpy Kid: Rodrick Rules', 'Predator', 'Amadeus', 'Prom Night', 'Mean Girls', 'Under the Tuscan Sun', 'Gosford Park', 'Peggy Sue Got Married', 'Birdman', 'Blue Jasmine', 'United 93', 'Honey', 'Spy Hard', 'The Fog', 'Soul Surfer', 'Catch-22', 'Observe and Report', 'Conan the Destroyer', 'Raging Bull', 'Love Happens', 'Young Sherlock Holmes', 'Fame', '127 Hours', 'Small Time Crooks', 'Center Stage', 'Love the Coopers', 'Catch That Kid', 'Life as a House', 'Steve Jobs', 'I Love You, Beth Cooper', 'Youth in Revolt', 'The Legend of the Lone Ranger', 'The Tailor of Panama', 'Blow Out', 'Getaway', 'The Ice Storm', 'And So It Goes', 'Troop Beverly Hills', 'Being Julia', 'Nine 1/2 Weeks', 'Dragonslayer', 'The Last Station', 'Ed Wood', 'Labor Day', 'Mongol: The Rise of Genghis Khan', 'RockNRolla', 'Megaforce', 'Hamlet', \"Mao's Last Dancer\", 'Midnight Special', 'Anything Else', 'The Railway Man', 'The White Ribbon', 'Restoration', 'The Wraith', 'Salton Sea', 'Metallica: Through the Never', 'The Informers', 'Carlos', 'I Come with the Rain', \"One Man's Hero\", 'Day of the Dead', 'I Am Wrath', 'Renaissance', 'Red Sonja', 'Red Lights', 'Superbad', 'Madea Goes to Jail', 'Wolves', 'Step Up 2: The Streets', 'Hoodwinked!', 'Hotel Rwanda', 'Hitman', 'Black Nativity', 'The Prince', 'City of Ghosts', 'The Others', 'Aliens', 'My Fair Lady', 'I Know What You Did Last Summer', \"Let's Be Cops\", 'Sideways', 'Beerfest', 'Halloween', 'Good Boy!', 'The Best Man Holiday', \"Smokin' Aces\", 'Saw: The Final Chapter', '40 Days and 40 Nights', 'A Night at the Roxbury', 'Beastly', 'The Hills Have Eyes', 'Dickie Roberts: Former Child Star', 'McFarland, USA', 'Lottery Ticket', 'ATL', 'Pitch Perfect', 'Summer Catch', 'A Simple Plan', 'They', 'Larry the Cable Guy: Health Inspector', 'The Adventures of Elmo in Grouchland', \"Brooklyn's Finest\", '55 Days at Peking', 'Evil Dead', 'My Life in Ruins', 'American Dreamz', 'Superman IV: The Quest for Peace', 'How She Move', 'Running Scared', 'Bobby Jones: Stroke of Genius', 'Shanghai Surprise', 'The Illusionist', 'Roar', 'Veronica Guerin', 'Escobar: Paradise Lost', 'Southland Tales', 'Dragon Hunters', 'Damnation Alley', 'The Apparition', 'My Girl', 'Fur: An Imaginary Portrait of Diane Arbus', 'Wall Street', 'Sense and Sensibility', 'Becoming Jane', 'Sydney White', 'House of Sand and Fog', 'Dead Poets Society', 'Dumb and Dumber', 'When Harry Met Sally...', 'The Verdict', 'Road Trip', 'Varsity Blues', 'The Artist', 'The Unborn', 'Moonrise Kingdom', 'The Texas Chainsaw Massacre: The Beginning', 'The Young Messiah', 'The Master of Disguise', \"Pan's Labyrinth\", 'See Spot Run', 'Baby Boy', 'The Roommate', 'Joe Dirt', 'Double Impact', 'Hot Fuzz', 'The Women', 'Vicky Cristina Barcelona', 'Arn: The Knight Templar', 'Boys and Girls', 'White Oleander', \"Jennifer's Body\", 'Drowning Mona', 'Radio Days', 'Remember Me', 'How to Deal', 'My Stepmother is an Alien', 'Philadelphia', 'The Thirteenth Floor', 'The Cookout', 'Meteor', 'Duets', 'Hollywood Ending', 'Detroit Rock City', 'Highlander', 'Things We Lost in the Fire', 'Steel', 'The Immigrant', 'The White Countess', 'Trance', 'Soul Plane', 'Welcome to the Sticks', 'Good', 'Enter the Void', 'Vamps', \"Hachi: A Dog's Tale\", 'Zulu', 'The Homesman', 'Juwanna Mann', 'Ararat', 'Madison', 'Slow Burn', 'Wasabi', 'Slither', 'Beverly Hills Cop', 'Home Alone', 'Three Men and a Baby', 'Tootsie', 'Top Gun', 'Crouching Tiger, Hidden Dragon', 'American Beauty', \"The King's Speech\", 'Twins', 'The Yellow Handkerchief', 'The Color Purple', 'Tidal Wave', 'The Imitation Game', 'Private Benjamin', \"Coal Miner's Daughter\", 'Diary of a Wimpy Kid', 'Mama', \"National Lampoon's Vacation\", 'Bad Grandpa', 'The Queen', 'Beetlejuice', 'Why Did I Get Married?', 'Little Women', 'The Woman in Black', 'When a Stranger Calls', 'Big Fat Liar', 'The Deer Hunter', 'Wag the Dog', 'The Lizzie McGuire Movie', 'Snitch', 'Krampus', 'The Faculty', \"What's Love Got to Do with It\", 'Cop Land', 'Not Another Teen Movie', 'End of Watch', 'The Skulls', 'The Theory of Everything', \"Malibu's Most Wanted\", 'Where the Heart Is', 'Lawrence of Arabia', 'Halloween II', 'Wild', 'The Last House on the Left', 'The Wedding Date', 'Halloween: Resurrection', 'The Princess Bride', 'The Great Debaters', 'Drive', 'Confessions of a Teenage Drama Queen', 'The Object of My Affection', '28 Weeks Later', 'When the Game Stands Tall', 'Because of Winn-Dixie', 'Love & Basketball', 'Grosse Pointe Blank', 'All About Steve', 'Book of Shadows: Blair Witch 2', 'The Craft', 'Match Point', 'Ramona and Beezus', 'The Remains of the Day', 'Boogie Nights', 'Nowhere to Run', 'Flicka', 'The Hills Have Eyes 2', 'Urban Legends: Final Cut', 'Tuck Everlasting', 'The Marine', 'Keanu', 'Country Strong', 'Disturbing Behavior', 'The Place Beyond the Pines', 'The November Man', 'Eye of the Beholder', 'The Hurt Locker', 'Firestarter', 'Killing Them Softly', 'A Most Wanted Man', 'Freddy Got Fingered', \"VeggieTales: The Pirates Who Don't Do Anything\", 'U2 3D', 'Highlander: Endgame', 'Idlewild', 'One Day', 'Whip It', 'Knockaround Guys', 'Confidence', 'The Muse', 'De-Lovely', 'New York Stories', \"Barney's Great Adventure\", 'The Man with the Iron Fists', 'Home Fries', 'Here On Earth', 'Brazil', 'Raise Your Voice', 'The Big Lebowski', 'Black Snake Moan', 'Dark Blue', 'A Mighty Heart', 'Whatever It Takes', 'Boat Trip', 'The Importance of Being Earnest', 'The Love Letter', 'Hoot', 'In Bruges', 'Peeples', 'The Rocker', 'Post Grad', 'Promised Land', 'Whatever Works', 'The In Crowd', 'The Three Burials of Melquiades Estrada', 'Jakob the Liar', 'Kiss Kiss Bang Bang', 'Idle Hands', 'Mulholland Drive', 'Blood and Chocolate', 'You Will Meet a Tall Dark Stranger', 'Never Let Me Go', 'The Company', 'Transsiberian', 'The Clan of the Cave Bear', 'Crazy in Alabama', 'Funny Games', 'Listening', \"Felicia's Journey\", 'Metropolis', 'District B13', \"Things to Do in Denver When You're Dead\", 'The Assassin', 'Buffalo Soldiers', 'The Return', 'Ong Bak 2', 'Centurion', 'Silent Trigger', 'The Midnight Meat Train', 'Winnie Mandela', 'The Son of No One', \"All The Queen's Men\", 'The Good Night', 'Bathory: Countess of Blood', 'Khumba', 'Automata', 'Dungeons & Dragons: Wrath of the Dragon God', 'Chiamatemi Francesco - Il Papa della gente', 'Shinjuku Incident', 'Pandaemonium', 'Groundhog Day', 'Magic Mike XXL', 'Romeo + Juliet', \"Sarah's Key\", 'Freedom', 'Unforgiven', 'Manderlay', 'Slumdog Millionaire', 'Fatal Attraction', 'Pretty Woman', 'Crocodile Dundee II', 'Broken Horses', 'Born on the Fourth of July', 'Cool Runnings', 'My Bloody Valentine', 'Stomp the Yard', 'The Spy Who Loved Me', 'Urban Legend', 'Good Deeds', 'White Fang', 'Superstar', 'The Iron Lady', 'Jonah: A VeggieTales Movie', 'Poetic Justice', 'All About the Benjamins', 'Vampire in Brooklyn', 'Exorcist II: The Heretic', 'An American Haunting', \"My Boss's Daughter\", 'A Perfect Getaway', 'Our Family Wedding', 'Dead Man on Campus', 'Tea with Mussolini', 'Thinner', 'New York, New York', 'Crooklyn', 'I Think I Love My Wife', 'Jason X', 'Bobby', 'Head Over Heels', 'Fun Size', 'The Diving Bell and the Butterfly', 'Little Children', 'Gossip', 'A Walk on the Moon', 'Catch a Fire', 'Soul Survivors', 'Jefferson in Paris', 'Easy Virtue', 'Caravans', 'Mr. Turner', 'Wild Grass', 'Amen.', 'Reign of Assassins', 'The Lucky Ones', 'Margaret', 'Stan Helsing', 'Flipped', 'Brokeback Mountain', 'Clueless', 'Far from Heaven', 'Hot Tub Time Machine 2', 'Quills', 'Seven Psychopaths', \"The Caveman's Valentine\", 'Downfall', 'The Sea Inside', 'Under the Skin', 'Good Morning, Vietnam', 'The Last Godfather', 'Justin Bieber: Never Say Never', 'Black Swan', 'The Godfather: Part II', 'Save the Last Dance', 'A Nightmare on Elm Street 4: The Dream Master', 'Miracles from Heaven', 'Dude, Where’s My Car?', 'Young Guns', 'St. Vincent', 'About Last Night', '10 Things I Hate About You', 'The New Guy', \"National Lampoon's Loaded Weapon 1\", 'The Shallows', 'The Butterfly Effect', 'Snow Day', 'This Christmas', 'Baby Geniuses', 'The Big Hit', 'Harriet the Spy', \"Child's Play 2\", 'No Good Deed', 'The Mist', 'Ex Machina', 'Being John Malkovich', 'Two Can Play That Game', 'Earth to Echo', 'Crazy/Beautiful', 'Letters from Iwo Jima', 'The Astronaut Farmer', 'Woo', 'Room', 'Dirty Work', 'Serial Mom', 'Dick', 'Light It Up', '54', 'Bubble Boy', 'Birthday Girl', '21 & Over', \"Paris, je t'aime\", 'Resurrecting the Champ', 'Admission', 'The Widow of Saint-Pierre', 'Chloe', 'Faithful', 'Find Me Guilty', 'The Perks of Being a Wallflower', 'Excessive Force', 'Infamous', 'The Claim', 'The Vatican Tapes', 'Attack the Block', 'In the Land of Blood and Honey', 'The Call', 'Operation Chromite', 'The Crocodile Hunter: Collision Course', 'I Love You Phillip Morris', 'Quest for Fire', 'Antwone Fisher', \"The Emperor's Club\", 'True Romance', 'Womb', 'Glengarry Glen Ross', 'The Killer Inside Me', 'Cat People', 'Sorority Row', 'The Prisoner of Zenda', 'Lars and the Real Girl', 'The Boy in the Striped Pyjamas', 'Dancer in the Dark', 'Oscar and Lucinda', 'The Funeral', 'Solitary Man', 'Machete', 'Casino Jack', 'The Land Before Time', 'Tae Guk Gi: The Brotherhood of War', 'The Perfect Game', 'The Exorcist', 'Jaws', 'American Pie', 'Ernest & Celestine', 'The Golden Child', 'Think Like a Man', 'Barbershop', 'Star Trek II: The Wrath of Khan', 'Ace Ventura: Pet Detective', 'WarGames', 'Witness', 'Act of Valor', 'Step Up', 'Beavis and Butt-Head Do America', 'Jackie Brown', 'Harold & Kumar Escape from Guantanamo Bay', 'Chronicle', 'Yentl', 'Time Bandits', 'Crossroads', 'Project X', 'Patton', 'One Hour Photo', 'Quarantine', 'The Eye', 'Johnson Family Vacation', 'How High', 'The Muppet Christmas Carol', 'Frida', 'Katy Perry: Part of Me', 'The Fault in Our Stars', 'Rounders', 'Top Five', 'Prophecy', 'Stir of Echoes', 'Philomena', 'The Upside of Anger', 'The Boys from Brazil', 'Aquamarine', 'Paper Towns', \"My Baby's Daddy\", 'Nebraska', 'Tales from the Crypt: Demon Knight', \"Max Keeble's Big Move\", 'Young Adult', 'Crank', \"Def Jam's How to Be a Player\", 'Living Out Loud', 'Just Wright', 'Rachel Getting Married', 'The Postman Always Rings Twice', 'Girl with a Pearl Earring', 'Das Boot', 'Sorority Boys', 'About Time', 'House of Flying Daggers', 'Arbitrage', 'Project Almanac', 'Cadillac Records', 'Screwed', 'Fortress', 'For Your Consideration', 'Celebrity', 'Running with Scissors', 'From Justin to Kelly', 'Girl 6', 'In the Cut', 'Two Lovers', 'Last Orders', 'The Host', 'The Pursuit of D.B. Cooper', 'Ravenous', 'Charlie Bartlett', 'The Great Beauty', 'The Dangerous Lives of Altar Boys', 'Stoker', '2046', 'Married Life', 'Duma', 'Ondine', 'Brother', 'Welcome to Collinwood', 'Critical Care', 'The Life Before Her Eyes', 'Darling Companion', 'Trade', 'Fateless', 'Breakfast of Champions', 'A Woman, a Gun and a Noodle Shop', 'Cypher', 'City of Life and Death', 'Legend of a Rabbit', 'Space Battleship Yamato', '5 Days of War']\n"
          ]
        }
      ]
    },
    {
      "cell_type": "code",
      "metadata": {
        "colab": {
          "base_uri": "https://localhost:8080/"
        },
        "id": "u1HTkBLIOBjf",
        "outputId": "d9cace56-4a1c-4bce-97ac-4e0e1898c4e6"
      },
      "source": [
        "# finding the close match for the movie name given by the user\n",
        "\n",
        "find_close_match = difflib.get_close_matches(movie_name, list_of_all_titles)\n",
        "print(find_close_match)"
      ],
      "execution_count": 29,
      "outputs": [
        {
          "output_type": "stream",
          "name": "stdout",
          "text": [
            "['Toy Story', 'Toy Story 3', 'Toy Story 2']\n"
          ]
        }
      ]
    },
    {
      "cell_type": "code",
      "metadata": {
        "colab": {
          "base_uri": "https://localhost:8080/"
        },
        "id": "CgiC-enuOfXx",
        "outputId": "5d3a54ed-2dff-419a-affd-073bc6f461ae"
      },
      "source": [
        "close_match = find_close_match[0]\n",
        "print(close_match)"
      ],
      "execution_count": 30,
      "outputs": [
        {
          "output_type": "stream",
          "name": "stdout",
          "text": [
            "Toy Story\n"
          ]
        }
      ]
    },
    {
      "cell_type": "code",
      "metadata": {
        "colab": {
          "base_uri": "https://localhost:8080/"
        },
        "id": "CNXJfY-FOw1I",
        "outputId": "082f82ed-9d06-4042-ace7-3f990de100fd"
      },
      "source": [
        "# finding the index of the movie with title\n",
        "\n",
        "index_of_the_movie = movies_data[movies_data.title == close_match]['index'].values[0]\n",
        "print(index_of_the_movie)"
      ],
      "execution_count": 31,
      "outputs": [
        {
          "output_type": "stream",
          "name": "stdout",
          "text": [
            "1541\n"
          ]
        }
      ]
    },
    {
      "cell_type": "code",
      "metadata": {
        "colab": {
          "base_uri": "https://localhost:8080/"
        },
        "id": "dyUeQZpvPbkx",
        "outputId": "72d8b492-f18a-495d-8c46-b6c633cdd058"
      },
      "source": [
        "# getting a list of similar movies\n",
        "\n",
        "similarity_score = list(enumerate(similarity[index_of_the_movie]))\n",
        "print(similarity_score)"
      ],
      "execution_count": 32,
      "outputs": [
        {
          "output_type": "stream",
          "name": "stdout",
          "text": [
            "[(0, 0.0), (1, 0.0), (2, 0.0), (3, 0.023313015683685715), (4, 0.0), (5, 0.0), (6, 0.029545383124903474), (7, 0.0), (8, 0.032612743174230394), (9, 0.0), (10, 0.0), (11, 0.0), (12, 0.0), (13, 0.0), (14, 0.0), (15, 0.010232213826183653), (16, 0.0), (17, 0.0), (18, 0.0053559108676013096), (19, 0.0), (20, 0.0), (21, 0.0), (22, 0.0), (23, 0.0), (24, 0.03895580137506648), (25, 0.0), (26, 0.0), (27, 0.0), (28, 0.0), (29, 0.0), (30, 0.04766043717684022), (31, 0.02890005136931269), (32, 0.03588485717418231), (33, 0.0), (34, 0.06189556191030347), (35, 0.0), (36, 0.0), (37, 0.011248054911584836), (38, 0.0), (39, 0.0), (40, 0.1515999719535767), (41, 0.027038837463528156), (42, 0.30013368208301167), (43, 0.0), (44, 0.0), (45, 0.0), (46, 0.0), (47, 0.036677027815802565), (48, 0.010980187284494172), (49, 0.0), (50, 0.0), (51, 0.0), (52, 0.011668515686188248), (53, 0.03655116219755853), (54, 0.06339576168726437), (55, 0.03641754065287196), (56, 0.0), (57, 0.05271785485985009), (58, 0.006460203296720796), (59, 0.01231024421967585), (60, 0.049827543391518285), (61, 0.0), (62, 0.0), (63, 0.00992576547301784), (64, 0.0), (65, 0.0), (66, 0.05075341979099112), (67, 0.030425451660025797), (68, 0.0), (69, 0.059186340782452176), (70, 0.0055439288068598975), (71, 0.016881761953708857), (72, 0.0), (73, 0.0683374736693044), (74, 0.02065201801912517), (75, 0.0), (76, 0.02934057598022796), (77, 0.06311478635784966), (78, 0.012023801338492806), (79, 0.026548515739573328), (80, 0.0), (81, 0.031057671790234092), (82, 0.0), (83, 0.0), (84, 0.0), (85, 0.0), (86, 0.02938412532283295), (87, 0.010544517203796726), (88, 0.03403185998190854), (89, 0.04076053361833265), (90, 0.09109338920805261), (91, 0.0), (92, 0.03048868295958876), (93, 0.0), (94, 0.0), (95, 0.0), (96, 0.020436948620758337), (97, 0.0), (98, 0.0), (99, 0.0), (100, 0.0), (101, 0.0), (102, 0.0), (103, 0.005791731484675884), (104, 0.0), (105, 0.0), (106, 0.03674869673312954), (107, 0.0), (108, 0.0), (109, 0.007705587195856174), (110, 0.0), (111, 0.06329473350687166), (112, 0.0), (113, 0.011048283018832655), (114, 0.009821781606995837), (115, 0.0), (116, 0.0), (117, 0.04058199862641372), (118, 0.032567446374884096), (119, 0.0), (120, 0.07354392607389663), (121, 0.057594685145324176), (122, 0.0), (123, 0.0), (124, 0.02620477982344241), (125, 0.0), (126, 0.01949586568864444), (127, 0.021739050721680458), (128, 0.06846531236720504), (129, 0.02123854469528976), (130, 0.05242917484961892), (131, 0.017630710191855425), (132, 0.0), (133, 0.04360538743331944), (134, 0.019510090418268185), (135, 0.0), (136, 0.056799550824780116), (137, 0.030472912470590866), (138, 0.010224007290670141), (139, 0.018943739176446248), (140, 0.0), (141, 0.07403603888464719), (142, 0.03792876058396402), (143, 0.011103439759482914), (144, 0.02917138042735677), (145, 0.0), (146, 0.026032414744402904), (147, 0.0), (148, 0.03806185105577952), (149, 0.0), (150, 0.005427410293093055), (151, 0.030467257376507344), (152, 0.03329816330066831), (153, 0.01928294739043135), (154, 0.02951402949195604), (155, 0.032987792370098384), (156, 0.017056413645013677), (157, 0.01345904872182799), (158, 0.0), (159, 0.0), (160, 0.024563579300457952), (161, 0.0), (162, 0.0), (163, 0.0), (164, 0.005788831094372366), (165, 0.0), (166, 0.0), (167, 0.00572591279641678), (168, 0.017983749399412774), (169, 0.0), (170, 0.0), (171, 0.0), (172, 0.0), (173, 0.041499895591923665), (174, 0.04993601098294937), (175, 0.010169338707478862), (176, 0.01885518887206935), (177, 0.030757744620645754), (178, 0.03245478016501807), (179, 0.07036458190338256), (180, 0.0), (181, 0.03658965297351782), (182, 0.028160300130579616), (183, 0.0), (184, 0.14055832526201611), (185, 0.04817058847752645), (186, 0.00492754799632095), (187, 0.027866859105323473), (188, 0.0), (189, 0.0), (190, 0.0175388187387237), (191, 0.010378328657961915), (192, 0.0), (193, 0.0), (194, 0.04626756634372809), (195, 0.05759416688439806), (196, 0.0588939363063833), (197, 0.03251498428353271), (198, 0.005631898898272288), (199, 0.0), (200, 0.0), (201, 0.06848702561842947), (202, 0.0336795109587689), (203, 0.0), (204, 0.0), (205, 0.0), (206, 0.0), (207, 0.0), (208, 0.012344111843157254), (209, 0.0), (210, 0.0), (211, 0.045935554182573356), (212, 0.0), (213, 0.03699198044215413), (214, 0.013100542511200837), (215, 0.029418836181207993), (216, 0.0), (217, 0.0), (218, 0.0), (219, 0.006301170727090936), (220, 0.0), (221, 0.08345826265117487), (222, 0.0), (223, 0.0), (224, 0.0), (225, 0.02390470435523242), (226, 0.006321899313386486), (227, 0.02598519448970004), (228, 0.01946190718407839), (229, 0.0), (230, 0.0), (231, 0.04460682958316041), (232, 0.0), (233, 0.0), (234, 0.04617652174712962), (235, 0.014910381255942753), (236, 0.012825486424632578), (237, 0.0), (238, 0.00519369533608833), (239, 0.026217683740592915), (240, 0.0), (241, 0.005433027510436232), (242, 0.0), (243, 0.05905727649963566), (244, 0.0), (245, 0.0), (246, 0.0), (247, 0.0), (248, 0.005938102455082187), (249, 0.0), (250, 0.01192646120926156), (251, 0.005946468085812082), (252, 0.0057122698115781405), (253, 0.0), (254, 0.07681815598534182), (255, 0.032016423534130395), (256, 0.0), (257, 0.044420812947999704), (258, 0.05303550688966599), (259, 0.0), (260, 0.0), (261, 0.0), (262, 0.0), (263, 0.033316561245480956), (264, 0.0), (265, 0.04429441430634007), (266, 0.0), (267, 0.0), (268, 0.04660412044490447), (269, 0.04270342481326031), (270, 0.0), (271, 0.0), (272, 0.0436990285548674), (273, 0.0), (274, 0.0), (275, 0.019465506435168728), (276, 0.010973743445727824), (277, 0.0), (278, 0.04930688165959231), (279, 0.0), (280, 0.0), (281, 0.0), (282, 0.01833144728136426), (283, 0.02141822652028476), (284, 0.016241878585995687), (285, 0.005177169237322676), (286, 0.0), (287, 0.032899963180321706), (288, 0.06039581352354853), (289, 0.04575147551126084), (290, 0.0), (291, 0.0), (292, 0.00876504351348943), (293, 0.009727081794476814), (294, 0.031969072909301795), (295, 0.0), (296, 0.0), (297, 0.010993451014531062), (298, 0.005865704676783597), (299, 0.030100747993624707), (300, 0.0), (301, 0.14774315229034174), (302, 0.028841551804326983), (303, 0.0), (304, 0.012109831479980097), (305, 0.02940018027259757), (306, 0.005663576429633808), (307, 0.0), (308, 0.0), (309, 0.018503219058694145), (310, 0.0), (311, 0.005801426436220035), (312, 0.0), (313, 0.026122353924552928), (314, 0.0), (315, 0.011277896177522955), (316, 0.0), (317, 0.0), (318, 0.03126257827971868), (319, 0.006022029712029835), (320, 0.020949309717007328), (321, 0.00538171595730721), (322, 0.0), (323, 0.007316763920299685), (324, 0.058541771720096863), (325, 0.03553592125659191), (326, 0.010800543396265188), (327, 0.0), (328, 0.02401034525410187), (329, 0.0), (330, 0.0), (331, 0.0), (332, 0.0), (333, 0.0), (334, 0.0), (335, 0.03349697448998186), (336, 0.01927790686958999), (337, 0.008538535543889149), (338, 0.012792204859255446), (339, 0.031247605821761802), (340, 0.0), (341, 0.010322442907919041), (342, 0.0051238245586126925), (343, 0.3615430722334525), (344, 0.0), (345, 0.0062796762963791795), (346, 0.0), (347, 0.040626381647744), (348, 0.046743782973952056), (349, 0.00527774557184737), (350, 0.06075573554977447), (351, 0.04222942522551468), (352, 0.027024141121793504), (353, 0.004484372414708928), (354, 0.0), (355, 0.01319656452891728), (356, 0.0), (357, 0.0), (358, 0.05613061880059051), (359, 0.033052605939117526), (360, 0.019868032541865418), (361, 0.017785684438021476), (362, 0.006112089190687275), (363, 0.0), (364, 0.023684830749407523), (365, 0.030219818696523966), (366, 0.0), (367, 0.0), (368, 0.009187815504911667), (369, 0.0), (370, 0.005719009935810362), (371, 0.0), (372, 0.0), (373, 0.06087235640718606), (374, 0.056037347586305165), (375, 0.005085699089628838), (376, 0.027066253718057747), (377, 0.0), (378, 0.011818851420030753), (379, 0.010937384484006777), (380, 0.028570800811446025), (381, 0.02858455336453611), (382, 0.0), (383, 0.0), (384, 0.061572647188962035), (385, 0.023669998611984572), (386, 0.0), (387, 0.0), (388, 0.0), (389, 0.0), (390, 0.03493492418375611), (391, 0.014898404831708439), (392, 0.0), (393, 0.03441690181295957), (394, 0.00568198183200946), (395, 0.004633955017178352), (396, 0.0), (397, 0.018220593846798572), (398, 0.0), (399, 0.02552611041820397), (400, 0.0), (401, 0.0), (402, 0.005464063978553311), (403, 0.02678726470306271), (404, 0.0), (405, 0.0), (406, 0.0592097853475437), (407, 0.0), (408, 0.012952486257367547), (409, 0.0), (410, 0.005268390428827375), (411, 0.004293645595592643), (412, 0.0), (413, 0.029816370319148244), (414, 0.005471810014735086), (415, 0.0), (416, 0.005265088223032016), (417, 0.004953702403901634), (418, 0.016694613459983285), (419, 0.0), (420, 0.012263867410921534), (421, 0.0), (422, 0.0), (423, 0.05756624512969967), (424, 0.0), (425, 0.022600981021464697), (426, 0.0), (427, 0.005683157068633413), (428, 0.029889903591732544), (429, 0.02999776083514632), (430, 0.025923206725815565), (431, 0.02887784514903624), (432, 0.0), (433, 0.020328384347447243), (434, 0.005920897858155778), (435, 0.03556965958162691), (436, 0.005941879782523298), (437, 0.006229334235858537), (438, 0.0061647526151189114), (439, 0.0), (440, 0.020372774877642694), (441, 0.03385341642698983), (442, 0.051055708067872504), (443, 0.014627083876908677), (444, 0.05612038269200399), (445, 0.005211249324258937), (446, 0.02467070090901491), (447, 0.032021952662314744), (448, 0.00814074815652662), (449, 0.0), (450, 0.015920690484847004), (451, 0.0), (452, 0.02955438838241987), (453, 0.0635857874974469), (454, 0.011020866035683688), (455, 0.0), (456, 0.0), (457, 0.015572120586350456), (458, 0.055387093357207956), (459, 0.03368929461079773), (460, 0.016364035288951917), (461, 0.011369298657220207), (462, 0.0), (463, 0.0), (464, 0.03600002734127147), (465, 0.031802859781376425), (466, 0.0), (467, 0.012100390690747516), (468, 0.040505698676455704), (469, 0.0), (470, 0.0), (471, 0.02211619963886994), (472, 0.005398469431960084), (473, 0.032825114220155105), (474, 0.04447952277397153), (475, 0.0), (476, 0.0), (477, 0.05438169739307454), (478, 0.0), (479, 0.04520691742989418), (480, 0.013150061457484779), (481, 0.033669870672271875), (482, 0.0), (483, 0.0), (484, 0.01801791620158668), (485, 0.014344227322368064), (486, 0.0), (487, 0.01762092557109116), (488, 0.034879526743069475), (489, 0.007647686809998064), (490, 0.0), (491, 0.0), (492, 0.029185032810922593), (493, 0.0), (494, 0.02595747633682172), (495, 0.0), (496, 0.03857340843732594), (497, 0.0), (498, 0.0), (499, 0.034597832321455496), (500, 0.012157219008950657), (501, 0.0189691386561011), (502, 0.0), (503, 0.03588108148971084), (504, 0.02938864613486765), (505, 0.0), (506, 0.03639559768531009), (507, 0.0), (508, 0.0), (509, 0.028220471036338714), (510, 0.0), (511, 0.0), (512, 0.0), (513, 0.01034774216726292), (514, 0.03543559234256626), (515, 0.00979879188733759), (516, 0.02699225606514579), (517, 0.0), (518, 0.018482751518985565), (519, 0.0), (520, 0.00494535210445576), (521, 0.07293662462380872), (522, 0.043248802216273974), (523, 0.0), (524, 0.06713952272237642), (525, 0.030867794064968455), (526, 0.0), (527, 0.015294196322462907), (528, 0.0), (529, 0.0), (530, 0.028778887374352264), (531, 0.005143578952415858), (532, 0.015853355613226247), (533, 0.09733392100851848), (534, 0.00641537239605778), (535, 0.0), (536, 0.0192416789907033), (537, 0.0), (538, 0.0), (539, 0.04614186379332218), (540, 0.007080274393189083), (541, 0.0), (542, 0.0), (543, 0.030931919912544528), (544, 0.012671688724636308), (545, 0.011380815282862609), (546, 0.03238251967920138), (547, 0.0), (548, 0.011903519729745654), (549, 0.0), (550, 0.02886076365274697), (551, 0.005323360671648529), (552, 0.004906802184697549), (553, 0.0), (554, 0.02846117221716728), (555, 0.015791818509998758), (556, 0.0), (557, 0.0), (558, 0.039877543178210864), (559, 0.025402776065710297), (560, 0.0), (561, 0.007347134133219909), (562, 0.0), (563, 0.016271831246678643), (564, 0.0), (565, 0.03719729022271992), (566, 0.1095497299192565), (567, 0.005748708738806056), (568, 0.0), (569, 0.06296816466503377), (570, 0.0), (571, 0.0), (572, 0.01584644068396176), (573, 0.0), (574, 0.0), (575, 0.02045218021079697), (576, 0.0), (577, 0.0), (578, 0.03374013612646551), (579, 0.04644267364346976), (580, 0.0), (581, 0.0), (582, 0.02711007376380921), (583, 0.026310661985532547), (584, 0.0), (585, 0.04438068390981878), (586, 0.0110656607040345), (587, 0.0), (588, 0.0), (589, 0.0), (590, 0.0), (591, 0.011362481767224568), (592, 0.0), (593, 0.07842802933140995), (594, 0.005594313500436787), (595, 0.0), (596, 0.005768728531020697), (597, 0.0), (598, 0.026386548393141238), (599, 0.0), (600, 0.0), (601, 0.013747447401409624), (602, 0.01186250640378118), (603, 0.0), (604, 0.03371654635705028), (605, 0.06601650114690122), (606, 0.0), (607, 0.0), (608, 0.0), (609, 0.030182539764549602), (610, 0.0), (611, 0.0), (612, 0.0), (613, 0.0), (614, 0.030282569567130484), (615, 0.005071525658855326), (616, 0.005080924032887525), (617, 0.0), (618, 0.004775086676807392), (619, 0.047201893171818166), (620, 0.0), (621, 0.0), (622, 0.0), (623, 0.005482181663275251), (624, 0.0), (625, 0.0), (626, 0.014032961006167095), (627, 0.0), (628, 0.07777244756539231), (629, 0.0), (630, 0.004680721927511455), (631, 0.04370955518705911), (632, 0.03379475849846695), (633, 0.008484976488067272), (634, 0.0), (635, 0.06894191939998058), (636, 0.07456672033104263), (637, 0.022651551485399345), (638, 0.07014933111829147), (639, 0.017811598261353263), (640, 0.0), (641, 0.005465453087837916), (642, 0.0), (643, 0.0), (644, 0.012818699460665836), (645, 0.02587632346678542), (646, 0.013760753487173972), (647, 0.0), (648, 0.0), (649, 0.006229197934448054), (650, 0.01783119254526213), (651, 0.01709728331266728), (652, 0.005254015825373663), (653, 0.05788757651283853), (654, 0.0), (655, 0.013426067139388445), (656, 0.017555324386622988), (657, 0.0), (658, 0.03213979638613073), (659, 0.026409607878708784), (660, 0.0), (661, 0.04120221232594108), (662, 0.0), (663, 0.0), (664, 0.005596772989612309), (665, 0.03916471883675085), (666, 0.0), (667, 0.010540196577471067), (668, 0.0), (669, 0.0), (670, 0.0), (671, 0.011846632459248883), (672, 0.020633534498963723), (673, 0.004179112200031834), (674, 0.03682954448284542), (675, 0.0), (676, 0.0), (677, 0.0), (678, 0.014541035011239765), (679, 0.052333320701812715), (680, 0.0), (681, 0.00489740770238536), (682, 0.011065998286971903), (683, 0.00492171965893404), (684, 0.0), (685, 0.005579820076544737), (686, 0.05442587515972101), (687, 0.0), (688, 0.01581601902496687), (689, 0.018744696638059125), (690, 0.06487187846297841), (691, 0.07119621550458233), (692, 0.030454598272969514), (693, 0.027364586135995753), (694, 0.0), (695, 0.025217724414229824), (696, 0.013802862291516957), (697, 0.034759062710115425), (698, 0.03145060131807412), (699, 0.017316944306933913), (700, 0.005608466766887452), (701, 0.015620618094391914), (702, 0.0), (703, 0.015352168588012884), (704, 0.06935920893140428), (705, 0.005194522570204278), (706, 0.022096488479014634), (707, 0.048246946538496094), (708, 0.0), (709, 0.0), (710, 0.030439580236404792), (711, 0.01570636833896959), (712, 0.0), (713, 0.0), (714, 0.02056464456062471), (715, 0.0), (716, 0.01238705223345946), (717, 0.021017993744302046), (718, 0.0), (719, 0.0), (720, 0.0), (721, 0.005115097574871436), (722, 0.027788528256071848), (723, 0.010480318676179415), (724, 0.0), (725, 0.07704853953623014), (726, 0.005706284489216529), (727, 0.12580487744380123), (728, 0.011436631572620861), (729, 0.012851700442258904), (730, 0.029343862016201906), (731, 0.0), (732, 0.014130451791513739), (733, 0.0), (734, 0.02762167574844252), (735, 0.005800419167527856), (736, 0.0), (737, 0.0), (738, 0.0062692614004216584), (739, 0.0), (740, 0.0), (741, 0.0), (742, 0.09363081540885812), (743, 0.014232228330212367), (744, 0.0650158077800601), (745, 0.01683202523400872), (746, 0.0), (747, 0.0), (748, 0.00586899785637142), (749, 0.0), (750, 0.0), (751, 0.026174851072881623), (752, 0.1085855812646465), (753, 0.0), (754, 0.0291996105505956), (755, 0.0), (756, 0.005381318990575269), (757, 0.01327688561668086), (758, 0.046464090507038584), (759, 0.0195947117741872), (760, 0.006166933185323321), (761, 0.0), (762, 0.010888952683814167), (763, 0.0), (764, 0.0), (765, 0.026719210666748736), (766, 0.06346141273709899), (767, 0.0), (768, 0.0), (769, 0.07614969811107031), (770, 0.0), (771, 0.01968165665267384), (772, 0.0), (773, 0.0), (774, 0.0), (775, 0.0), (776, 0.0), (777, 0.0), (778, 0.016206837508494165), (779, 0.04087546477951732), (780, 0.004400516177635286), (781, 0.009791352300555112), (782, 0.005408159841316102), (783, 0.005468360866224857), (784, 0.02510891742036231), (785, 0.0), (786, 0.0), (787, 0.010720908207738808), (788, 0.031333649753121154), (789, 0.010485330222528483), (790, 0.0), (791, 0.01813862366194142), (792, 0.005089415407136582), (793, 0.016665324376157916), (794, 0.0), (795, 0.017064873284939084), (796, 0.007326194863023261), (797, 0.012057956982101853), (798, 0.042113320670526956), (799, 0.03565432414674734), (800, 0.0), (801, 0.0), (802, 0.005054838414620048), (803, 0.0), (804, 0.005681059619042393), (805, 0.0), (806, 0.026006934430943457), (807, 0.027812450997039634), (808, 0.0), (809, 0.05797174130675887), (810, 0.06217730344815793), (811, 0.005429138724644383), (812, 0.039927642248711065), (813, 0.0), (814, 0.023568436877172444), (815, 0.011941188832396749), (816, 0.030391981529313647), (817, 0.005113186858326411), (818, 0.06433624415629345), (819, 0.047912073443005826), (820, 0.08935981284933187), (821, 0.0), (822, 0.006030775050626178), (823, 0.0), (824, 0.0), (825, 0.0), (826, 0.0), (827, 0.0), (828, 0.0), (829, 0.005871654388519337), (830, 0.0), (831, 0.004724155958538617), (832, 0.036384948708908786), (833, 0.024608122604373166), (834, 0.013102095800614088), (835, 0.04824981624896316), (836, 0.0), (837, 0.03666821899985596), (838, 0.0), (839, 0.0), (840, 0.011968399573076112), (841, 0.035910275694944524), (842, 0.01833949983273197), (843, 0.040723020724454696), (844, 0.01256376990409826), (845, 0.0), (846, 0.004817354576476458), (847, 0.005064724717472371), (848, 0.037141505517202036), (849, 0.012656069967100175), (850, 0.0), (851, 0.010482552385058956), (852, 0.0), (853, 0.02212195977508926), (854, 0.0), (855, 0.0), (856, 0.0), (857, 0.005711418768982848), (858, 0.016973380600295258), (859, 0.013885358492633042), (860, 0.0), (861, 0.0), (862, 0.0), (863, 0.0506411461486048), (864, 0.0), (865, 0.0), (866, 0.0), (867, 0.0), (868, 0.005526199889449781), (869, 0.006290648940616378), (870, 0.0), (871, 0.0), (872, 0.0), (873, 0.012790332298537467), (874, 0.03789784468650754), (875, 0.03832256810428464), (876, 0.023222772539154682), (877, 0.0), (878, 0.05625990934182627), (879, 0.0), (880, 0.0), (881, 0.0), (882, 0.0), (883, 0.06147689557547767), (884, 0.0), (885, 0.005782836036275662), (886, 0.005207595372801839), (887, 0.005654243062777327), (888, 0.005405891169017553), (889, 0.028295251098523936), (890, 0.048450859410712366), (891, 0.030876294490045638), (892, 0.1001866402821995), (893, 0.011990115301711693), (894, 0.0049037036530712955), (895, 0.03889171480926033), (896, 0.041303406510134505), (897, 0.030067812082763466), (898, 0.0), (899, 0.04928387595532382), (900, 0.013874373868571972), (901, 0.0), (902, 0.024730357316815835), (903, 0.08838991375096403), (904, 0.04284279343929582), (905, 0.026404017803035112), (906, 0.0056078027574145975), (907, 0.04764028743314419), (908, 0.0), (909, 0.0), (910, 0.005381937841343037), (911, 0.01144482034766957), (912, 0.020926461758138563), (913, 0.035375104000603), (914, 0.0049153657880121856), (915, 0.0), (916, 0.006448472075212461), (917, 0.005958588252031157), (918, 0.0), (919, 0.0), (920, 0.025694383299328483), (921, 0.01873100245463675), (922, 0.0), (923, 0.028337983256020882), (924, 0.02919735832978159), (925, 0.005610074961197381), (926, 0.034345103228077725), (927, 0.0861554067255661), (928, 0.0), (929, 0.0), (930, 0.0), (931, 0.011165159386369175), (932, 0.00930821729740799), (933, 0.005449592138958876), (934, 0.029178511430174785), (935, 0.016498779177740258), (936, 0.0), (937, 0.0), (938, 0.0), (939, 0.037833611472752555), (940, 0.0), (941, 0.011004122928943786), (942, 0.035652467057903925), (943, 0.0), (944, 0.0), (945, 0.0), (946, 0.0), (947, 0.0), (948, 0.005178857878351775), (949, 0.016219211637176278), (950, 0.011219526841130627), (951, 0.0), (952, 0.019919898503396188), (953, 0.018460470912662973), (954, 0.0), (955, 0.0), (956, 0.0), (957, 0.03134303521263747), (958, 0.013315377875013374), (959, 0.011054605777376615), (960, 0.010953874777829954), (961, 0.0), (962, 0.017485943646784245), (963, 0.0), (964, 0.012030638362549763), (965, 0.0), (966, 0.04826078325505839), (967, 0.0), (968, 0.0), (969, 0.0), (970, 0.0), (971, 0.005897543501305438), (972, 0.0), (973, 0.046693741108368284), (974, 0.0), (975, 0.021914818295265086), (976, 0.013354467545815919), (977, 0.056428999898065955), (978, 0.005433454570520106), (979, 0.0), (980, 0.0), (981, 0.0055696434879997), (982, 0.0), (983, 0.0), (984, 0.013835162060644075), (985, 0.01420220777663664), (986, 0.006251315352064174), (987, 0.025239047675730836), (988, 0.012097238744483667), (989, 0.014518296493273037), (990, 0.0), (991, 0.0), (992, 0.0), (993, 0.0), (994, 0.023612891670043913), (995, 0.0), (996, 0.005415121084147664), (997, 0.005058750178250844), (998, 0.0062959144770613484), (999, 0.014052095762206802), (1000, 0.0), (1001, 0.0), (1002, 0.0), (1003, 0.004699764462607843), (1004, 0.0243634377286406), (1005, 0.017875664502226652), (1006, 0.01130489766547632), (1007, 0.0), (1008, 0.0), (1009, 0.0), (1010, 0.0), (1011, 0.0), (1012, 0.005924633512116301), (1013, 0.01921065468987337), (1014, 0.005151103630575285), (1015, 0.0), (1016, 0.005027652536432105), (1017, 0.004434901655953305), (1018, 0.0), (1019, 0.0), (1020, 0.0), (1021, 0.03516215020418275), (1022, 0.03880989106032814), (1023, 0.0), (1024, 0.004359375816664238), (1025, 0.011662993225679558), (1026, 0.004247356723520245), (1027, 0.0), (1028, 0.0), (1029, 0.029274465549278556), (1030, 0.011016711912428655), (1031, 0.004888583795985635), (1032, 0.014142071203871898), (1033, 0.0), (1034, 0.0), (1035, 0.012959751786788206), (1036, 0.0), (1037, 0.05733371005581825), (1038, 0.011755642202512188), (1039, 0.0), (1040, 0.08015294334140798), (1041, 0.0), (1042, 0.006071367302152854), (1043, 0.005487978809318956), (1044, 0.014409700499514632), (1045, 0.026297518229367177), (1046, 0.008416590996760365), (1047, 0.03418351086678477), (1048, 0.005665353360903727), (1049, 0.0), (1050, 0.005551588719841843), (1051, 0.0), (1052, 0.01715147777024642), (1053, 0.08664798268499534), (1054, 0.036586363364035646), (1055, 0.028057105329944577), (1056, 0.0), (1057, 0.0), (1058, 0.0), (1059, 0.0), (1060, 0.020465633976058197), (1061, 0.0110087329590245), (1062, 0.03188799703373164), (1063, 0.010982050748644076), (1064, 0.0), (1065, 0.03076403694573513), (1066, 0.03338616598064279), (1067, 0.013328644376260855), (1068, 0.05875663111296341), (1069, 0.01979422853849357), (1070, 0.0), (1071, 0.022999843296412414), (1072, 0.00523418959030901), (1073, 0.0130629921751436), (1074, 0.06950249130020546), (1075, 0.0), (1076, 0.0), (1077, 0.014544772794349004), (1078, 0.04759503071178478), (1079, 0.0), (1080, 0.028407785738579147), (1081, 0.0453249616921988), (1082, 0.0), (1083, 0.0), (1084, 0.012327148067084352), (1085, 0.0046918964503323835), (1086, 0.05477373484265771), (1087, 0.0), (1088, 0.005880536277597931), (1089, 0.0), (1090, 0.0), (1091, 0.029305835729969098), (1092, 0.021300338096489898), (1093, 0.0), (1094, 0.013865329789233733), (1095, 0.0), (1096, 0.0), (1097, 0.06093235224428921), (1098, 0.0), (1099, 0.0), (1100, 0.005262973776699718), (1101, 0.048367201062113466), (1102, 0.01193990359665786), (1103, 0.0), (1104, 0.0), (1105, 0.03111334713386357), (1106, 0.0), (1107, 0.0), (1108, 0.052697964523292576), (1109, 0.01050739129636722), (1110, 0.0), (1111, 0.0), (1112, 0.0), (1113, 0.005524736934673318), (1114, 0.0), (1115, 0.012489852430645322), (1116, 0.020462736021438728), (1117, 0.0), (1118, 0.0), (1119, 0.03053433743957981), (1120, 0.02957211149458058), (1121, 0.02852199880527862), (1122, 0.017771924522724716), (1123, 0.0053337152480955625), (1124, 0.011558170246463694), (1125, 0.0), (1126, 0.0045822174628105195), (1127, 0.029173875315315567), (1128, 0.00451982023701467), (1129, 0.0), (1130, 0.005053840049109733), (1131, 0.012041973099017991), (1132, 0.0), (1133, 0.013293151044755338), (1134, 0.0270534124684252), (1135, 0.0), (1136, 0.0), (1137, 0.017011991222911478), (1138, 0.0046989630287477685), (1139, 0.0), (1140, 0.004737852462322688), (1141, 0.0), (1142, 0.034110497273230664), (1143, 0.0), (1144, 0.018892507901331623), (1145, 0.0), (1146, 0.0), (1147, 0.038435188492723135), (1148, 0.02006786093497121), (1149, 0.0), (1150, 0.01134367182472716), (1151, 0.0), (1152, 0.03815648656538163), (1153, 0.0), (1154, 0.0), (1155, 0.014467114237826598), (1156, 0.0), (1157, 0.07602019955133078), (1158, 0.0), (1159, 0.06365498183898784), (1160, 0.0), (1161, 0.05999776254293787), (1162, 0.0060735507019014), (1163, 0.005231865681128774), (1164, 0.0), (1165, 0.013741646477309008), (1166, 0.006368083116894457), (1167, 0.0), (1168, 0.0), (1169, 0.0), (1170, 0.0), (1171, 0.0728820872020956), (1172, 0.03914626064699048), (1173, 0.006111067994599387), (1174, 0.029016444167721346), (1175, 0.0), (1176, 0.0), (1177, 0.0), (1178, 0.0), (1179, 0.019931968594846403), (1180, 0.004881510028255283), (1181, 0.0), (1182, 0.017772004661137056), (1183, 0.006787677026659734), (1184, 0.004878606168649793), (1185, 0.0693928962014276), (1186, 0.028179872529882202), (1187, 0.05992602771351779), (1188, 0.011960608174479224), (1189, 0.0054446861318420536), (1190, 0.05492836621681938), (1191, 0.1073080274466366), (1192, 0.011511594651849947), (1193, 0.02521645323638381), (1194, 0.0), (1195, 0.0), (1196, 0.0), (1197, 0.006100613960821072), (1198, 0.03302577418517108), (1199, 0.009164790319844544), (1200, 0.05082354515569064), (1201, 0.0), (1202, 0.01725493557915625), (1203, 0.05781144748077981), (1204, 0.0), (1205, 0.013648861264474151), (1206, 0.016667996071623357), (1207, 0.005069074811880296), (1208, 0.0), (1209, 0.0), (1210, 0.011141031172318178), (1211, 0.0), (1212, 0.010313926762701708), (1213, 0.011013239056797977), (1214, 0.033029128713241485), (1215, 0.0), (1216, 0.010487973564882323), (1217, 0.004847791592163514), (1218, 0.043461078025911766), (1219, 0.0), (1220, 0.0), (1221, 0.0), (1222, 0.04336165408753233), (1223, 0.01469957033236131), (1224, 0.0), (1225, 0.01089007725110268), (1226, 0.0438614844975105), (1227, 0.011305074248229347), (1228, 0.051637483070361444), (1229, 0.0053122157153277895), (1230, 0.013290939706979664), (1231, 0.06707743079501988), (1232, 0.005057725273247037), (1233, 0.0490903448259493), (1234, 0.0), (1235, 0.0), (1236, 0.0), (1237, 0.015130968548992206), (1238, 0.012603762361746026), (1239, 0.03741147174719337), (1240, 0.0282328790832096), (1241, 0.0), (1242, 0.0), (1243, 0.025676461755750963), (1244, 0.0048873059272632035), (1245, 0.0), (1246, 0.12816419449759953), (1247, 0.0), (1248, 0.0), (1249, 0.0), (1250, 0.011201847915795008), (1251, 0.0), (1252, 0.0), (1253, 0.0), (1254, 0.0), (1255, 0.027138115439885896), (1256, 0.006002809141484876), (1257, 0.10134039905187692), (1258, 0.007733875842033882), (1259, 0.021210648006664015), (1260, 0.005190029536879605), (1261, 0.00565945448462509), (1262, 0.004887651837326744), (1263, 0.021753451697920374), (1264, 0.04962296599129424), (1265, 0.0), (1266, 0.012177354145162975), (1267, 0.007745670603653123), (1268, 0.007501716967534927), (1269, 0.0), (1270, 0.01807016267252004), (1271, 0.026730893067693256), (1272, 0.0), (1273, 0.0), (1274, 0.004433649232091051), (1275, 0.0), (1276, 0.005436822778534743), (1277, 0.030965341052650284), (1278, 0.0), (1279, 0.010367019729377449), (1280, 0.0), (1281, 0.0), (1282, 0.0), (1283, 0.04389555407020229), (1284, 0.0), (1285, 0.0), (1286, 0.010166764773892228), (1287, 0.033825214060505496), (1288, 0.007398410795338339), (1289, 0.0), (1290, 0.0), (1291, 0.0), (1292, 0.023166749491094978), (1293, 0.0545494546408717), (1294, 0.0), (1295, 0.0), (1296, 0.004461138307750249), (1297, 0.005467977771902035), (1298, 0.010530300301736356), (1299, 0.004951327579545952), (1300, 0.010892818643476385), (1301, 0.013084464839937004), (1302, 0.010827371341788312), (1303, 0.0), (1304, 0.0), (1305, 0.0), (1306, 0.0341212468213449), (1307, 0.011139003772822563), (1308, 0.0), (1309, 0.005977637322531155), (1310, 0.014195273326993718), (1311, 0.029719975452751228), (1312, 0.1027802085710054), (1313, 0.0), (1314, 0.0), (1315, 0.005165948155720735), (1316, 0.0), (1317, 0.013115930304125513), (1318, 0.012238705961624491), (1319, 0.0), (1320, 0.0), (1321, 0.0), (1322, 0.010670873295616912), (1323, 0.0), (1324, 0.00543979935480533), (1325, 0.0), (1326, 0.0), (1327, 0.0), (1328, 0.0), (1329, 0.005464813817033005), (1330, 0.018672288731256616), (1331, 0.01629243272628207), (1332, 0.0), (1333, 0.02955900813844911), (1334, 0.005291163690831555), (1335, 0.00607149472802581), (1336, 0.05561596688367414), (1337, 0.0), (1338, 0.0), (1339, 0.005510264551825955), (1340, 0.005668144607224383), (1341, 0.0), (1342, 0.0), (1343, 0.0), (1344, 0.017639056674235144), (1345, 0.010549298138765754), (1346, 0.012712225283693323), (1347, 0.0), (1348, 0.016962324421581576), (1349, 0.0), (1350, 0.0), (1351, 0.0), (1352, 0.0), (1353, 0.0199888587334863), (1354, 0.02860881874707237), (1355, 0.005395168633481996), (1356, 0.005229118562208286), (1357, 0.0), (1358, 0.006381323415379484), (1359, 0.02485461287394084), (1360, 0.0), (1361, 0.005062171373201502), (1362, 0.041666236811961986), (1363, 0.014961468729084763), (1364, 0.005316848605760005), (1365, 0.0), (1366, 0.00484675493538069), (1367, 0.0), (1368, 0.007626106503220221), (1369, 0.027006775442060225), (1370, 0.023734454037545233), (1371, 0.0061496876689414535), (1372, 0.044265915545232404), (1373, 0.0), (1374, 0.0), (1375, 0.01595461692098025), (1376, 0.03266160496720787), (1377, 0.0), (1378, 0.009774658342956061), (1379, 0.0), (1380, 0.07419519604158897), (1381, 0.08276389069590759), (1382, 0.03971814019503236), (1383, 0.03489146570660947), (1384, 0.08475184396684834), (1385, 0.00565753249455045), (1386, 0.10646365641904788), (1387, 0.0), (1388, 0.015884819449143772), (1389, 0.031165820526886386), (1390, 0.0), (1391, 0.01685663602303567), (1392, 0.03205587322045606), (1393, 0.02089621828770475), (1394, 0.0), (1395, 0.0), (1396, 0.0), (1397, 0.06155094596707836), (1398, 0.013767244123203895), (1399, 0.0), (1400, 0.009776784938938798), (1401, 0.0526245359785817), (1402, 0.026395977731705395), (1403, 0.011072641957154811), (1404, 0.0), (1405, 0.009360697913257417), (1406, 0.0), (1407, 0.0), (1408, 0.0), (1409, 0.0), (1410, 0.0), (1411, 0.0), (1412, 0.0), (1413, 0.04046942655334813), (1414, 0.0046425876736185786), (1415, 0.0), (1416, 0.005312726648919295), (1417, 0.03182926360146664), (1418, 0.015010903722099485), (1419, 0.0), (1420, 0.0055649218451589), (1421, 0.013498467269575596), (1422, 0.0), (1423, 0.01715395915007898), (1424, 0.0), (1425, 0.013557795056775483), (1426, 0.10506931065526004), (1427, 0.005807976256663403), (1428, 0.004838245219828489), (1429, 0.036303809405843275), (1430, 0.005078111613524664), (1431, 0.0), (1432, 0.01806555720624283), (1433, 0.0), (1434, 0.0), (1435, 0.00492944518790646), (1436, 0.00537234933595009), (1437, 0.0), (1438, 0.0), (1439, 0.0427109280581774), (1440, 0.032917945425218274), (1441, 0.033503159415598095), (1442, 0.0), (1443, 0.0), (1444, 0.041236013588937415), (1445, 0.06504798674030403), (1446, 0.0), (1447, 0.0), (1448, 0.0), (1449, 0.0), (1450, 0.0), (1451, 0.08226829741027156), (1452, 0.0), (1453, 0.00941793960817464), (1454, 0.02086676068903885), (1455, 0.013227410390848272), (1456, 0.0), (1457, 0.04748179623540625), (1458, 0.0), (1459, 0.0), (1460, 0.0), (1461, 0.06951776704259402), (1462, 0.025426833763460506), (1463, 0.004880517529098661), (1464, 0.0), (1465, 0.0), (1466, 0.005704270747988303), (1467, 0.0), (1468, 0.0), (1469, 0.0060450933713682205), (1470, 0.0), (1471, 0.025997543343089), (1472, 0.0), (1473, 0.0), (1474, 0.0), (1475, 0.006001989133082986), (1476, 0.0), (1477, 0.0), (1478, 0.024180278099291075), (1479, 0.0), (1480, 0.0035419606807994687), (1481, 0.02643574282166468), (1482, 0.0), (1483, 0.0), (1484, 0.0), (1485, 0.028283747307913), (1486, 0.012484470822947484), (1487, 0.0), (1488, 0.01435712271614692), (1489, 0.02491654009303167), (1490, 0.0), (1491, 0.0), (1492, 0.0), (1493, 0.005394640800268478), (1494, 0.015446673541456632), (1495, 0.012028845068755923), (1496, 0.041776821902916206), (1497, 0.04796072112355199), (1498, 0.03490400218797278), (1499, 0.05040992476855067), (1500, 0.037371113881043014), (1501, 0.0), (1502, 0.0), (1503, 0.015587417339829305), (1504, 0.016185963245757853), (1505, 0.02562830591700256), (1506, 0.0), (1507, 0.011662004943562345), (1508, 0.024413086443860407), (1509, 0.011504814961891766), (1510, 0.01829267497339498), (1511, 0.024978652265697517), (1512, 0.018881286088735422), (1513, 0.0), (1514, 0.0), (1515, 0.005611136984413549), (1516, 0.03992100393039138), (1517, 0.0), (1518, 0.0), (1519, 0.016753759331994536), (1520, 0.07669852745792327), (1521, 0.034387835140673735), (1522, 0.05411032428513857), (1523, 0.0), (1524, 0.02461471664887614), (1525, 0.0), (1526, 0.010941576963909844), (1527, 0.009107747976226018), (1528, 0.0), (1529, 0.0), (1530, 0.04844008689753665), (1531, 0.0), (1532, 0.005506806302153229), (1533, 0.0), (1534, 0.004467656956687883), (1535, 0.03139399150881126), (1536, 0.016377469689279035), (1537, 0.018546401976663414), (1538, 0.00489296251196227), (1539, 0.0050401355892272974), (1540, 0.04343576192111916), (1541, 1.0), (1542, 0.0), (1543, 0.0), (1544, 0.05807556627395616), (1545, 0.0), (1546, 0.013721593820911765), (1547, 0.0), (1548, 0.0055311463155037115), (1549, 0.004991619301957611), (1550, 0.032154265945004874), (1551, 0.013604777597954105), (1552, 0.0767954180719836), (1553, 0.011767314431866521), (1554, 0.0), (1555, 0.054187801871479827), (1556, 0.023043774787593452), (1557, 0.0), (1558, 0.004346194525744591), (1559, 0.0), (1560, 0.005476249257661128), (1561, 0.013121378681483584), (1562, 0.04421307567893715), (1563, 0.0), (1564, 0.0), (1565, 0.0), (1566, 0.005260783386887975), (1567, 0.004970872099816749), (1568, 0.0), (1569, 0.007473975702988438), (1570, 0.013460784096034992), (1571, 0.005171183925289351), (1572, 0.005914385103346087), (1573, 0.011866338428632028), (1574, 0.005434316550140354), (1575, 0.00906701500044057), (1576, 0.038494728142579406), (1577, 0.005094391472312209), (1578, 0.004822227085709671), (1579, 0.04745463408485704), (1580, 0.04042619711008125), (1581, 0.0), (1582, 0.01208821905844772), (1583, 0.0), (1584, 0.02341584091252303), (1585, 0.005185114697913361), (1586, 0.012810283583631926), (1587, 0.05205429512451859), (1588, 0.0), (1589, 0.004984886830241516), (1590, 0.0), (1591, 0.009882737217990373), (1592, 0.011978687374337183), (1593, 0.006394197767202824), (1594, 0.042474706002318126), (1595, 0.0), (1596, 0.0), (1597, 0.0), (1598, 0.0), (1599, 0.0), (1600, 0.05543258418587148), (1601, 0.0), (1602, 0.05425636436742127), (1603, 0.011441776696788798), (1604, 0.0), (1605, 0.0), (1606, 0.00532132592672605), (1607, 0.04293894709469171), (1608, 0.0238972664642184), (1609, 0.02976155272524358), (1610, 0.020415696405257495), (1611, 0.009677764727679748), (1612, 0.13304822187691728), (1613, 0.0), (1614, 0.013497136892616007), (1615, 0.0), (1616, 0.016381506658553497), (1617, 0.06304745808674256), (1618, 0.0), (1619, 0.005193368134498182), (1620, 0.0828833208261581), (1621, 0.04024240288683229), (1622, 0.00458615095186553), (1623, 0.03139784009317539), (1624, 0.03506971968621288), (1625, 0.0), (1626, 0.0047297728021156666), (1627, 0.0), (1628, 0.0), (1629, 0.005891133296558714), (1630, 0.010227885972753792), (1631, 0.0053670283522634366), (1632, 0.0), (1633, 0.04834468002604062), (1634, 0.0), (1635, 0.0), (1636, 0.019266391747080315), (1637, 0.023235412711148748), (1638, 0.005111754291547933), (1639, 0.0), (1640, 0.0), (1641, 0.005906087230120288), (1642, 0.0), (1643, 0.02908106889761502), (1644, 0.01090220344219227), (1645, 0.0), (1646, 0.005755506598023348), (1647, 0.0), (1648, 0.005236719579629732), (1649, 0.0), (1650, 0.0), (1651, 0.02847955842387604), (1652, 0.0), (1653, 0.0), (1654, 0.0), (1655, 0.005092513746352425), (1656, 0.05009582589272212), (1657, 0.0), (1658, 0.0), (1659, 0.03856025964599289), (1660, 0.0), (1661, 0.05694638083251477), (1662, 0.0), (1663, 0.0), (1664, 0.0), (1665, 0.0), (1666, 0.0), (1667, 0.0), (1668, 0.009409435999516609), (1669, 0.0), (1670, 0.0), (1671, 0.0), (1672, 0.0), (1673, 0.005579957982798503), (1674, 0.0), (1675, 0.0), (1676, 0.02872714596771866), (1677, 0.0), (1678, 0.028941062048539565), (1679, 0.03303841847651943), (1680, 0.014790253788775168), (1681, 0.01265407335088322), (1682, 0.02456000454534032), (1683, 0.005562433791341104), (1684, 0.0), (1685, 0.004664749154104089), (1686, 0.06901716209133282), (1687, 0.0), (1688, 0.005616080629935491), (1689, 0.005133866847283267), (1690, 0.0055425346828817884), (1691, 0.05174280550644405), (1692, 0.006711066886430141), (1693, 0.03568460684386839), (1694, 0.01287916059480525), (1695, 0.03768140770653658), (1696, 0.0), (1697, 0.0), (1698, 0.03138201231178548), (1699, 0.0), (1700, 0.004545643958649395), (1701, 0.0), (1702, 0.012320093391244062), (1703, 0.040439576180626984), (1704, 0.006262954866477098), (1705, 0.005163838170023048), (1706, 0.0), (1707, 0.0), (1708, 0.00503376119945594), (1709, 0.019136210992235517), (1710, 0.025849727018328564), (1711, 0.025965525956071284), (1712, 0.040478346899103956), (1713, 0.01214870318847515), (1714, 0.01831086495989915), (1715, 0.0), (1716, 0.004443951085918588), (1717, 0.0), (1718, 0.01374645050465062), (1719, 0.005455465406845363), (1720, 0.0), (1721, 0.04855254887413299), (1722, 0.0), (1723, 0.015083918468760747), (1724, 0.0), (1725, 0.0), (1726, 0.031573585023416395), (1727, 0.0), (1728, 0.0), (1729, 0.01325365177536553), (1730, 0.0), (1731, 0.018664476490245375), (1732, 0.006017543751560165), (1733, 0.017527907501079458), (1734, 0.014705530071349159), (1735, 0.01043949756464869), (1736, 0.004970170726058249), (1737, 0.005612660484600136), (1738, 0.0), (1739, 0.005489263601269293), (1740, 0.028738108331374704), (1741, 0.0), (1742, 0.0), (1743, 0.011329885060591969), (1744, 0.005614313402762551), (1745, 0.0), (1746, 0.014093055881291262), (1747, 0.0), (1748, 0.0), (1749, 0.0), (1750, 0.0), (1751, 0.005578441632421492), (1752, 0.0), (1753, 0.028903373109112406), (1754, 0.08344652767252375), (1755, 0.006077515051621034), (1756, 0.005348260649331082), (1757, 0.005547469301681343), (1758, 0.0), (1759, 0.0), (1760, 0.0), (1761, 0.046558945508110995), (1762, 0.0), (1763, 0.0), (1764, 0.010247916980671953), (1765, 0.0), (1766, 0.0), (1767, 0.0), (1768, 0.010135040193815085), (1769, 0.01902176286781414), (1770, 0.0), (1771, 0.0050761794962493716), (1772, 0.007204331100398482), (1773, 0.0), (1774, 0.006101861032159346), (1775, 0.0), (1776, 0.0059488971492901365), (1777, 0.017488731975127195), (1778, 0.004335608060448147), (1779, 0.005934966719341879), (1780, 0.030989744135935696), (1781, 0.0), (1782, 0.005031422916787992), (1783, 0.005440605991248256), (1784, 0.005336756254173012), (1785, 0.0), (1786, 0.0), (1787, 0.0), (1788, 0.0), (1789, 0.0), (1790, 0.058436686989688576), (1791, 0.0), (1792, 0.0), (1793, 0.004769927165502312), (1794, 0.01043205092460022), (1795, 0.09219858525961219), (1796, 0.03398139561367777), (1797, 0.07167816688896801), (1798, 0.005352677929233151), (1799, 0.0), (1800, 0.011363665325799539), (1801, 0.007066042664710422), (1802, 0.0), (1803, 0.0), (1804, 0.04143783682649622), (1805, 0.07996157168389541), (1806, 0.011015901276149417), (1807, 0.009476747091594167), (1808, 0.0), (1809, 0.0), (1810, 0.02505165254359912), (1811, 0.011901016475853513), (1812, 0.01891064850733143), (1813, 0.0), (1814, 0.0), (1815, 0.0), (1816, 0.0), (1817, 0.0), (1818, 0.0), (1819, 0.0), (1820, 0.0), (1821, 0.005064703279947), (1822, 0.0), (1823, 0.0), (1824, 0.0), (1825, 0.044443158102483296), (1826, 0.0), (1827, 0.01412129480635981), (1828, 0.0), (1829, 0.0), (1830, 0.04096045804146842), (1831, 0.028638641876760053), (1832, 0.005367301275428808), (1833, 0.0053537863289618145), (1834, 0.02872295445828913), (1835, 0.07291912914660928), (1836, 0.0), (1837, 0.0), (1838, 0.0), (1839, 0.0), (1840, 0.0), (1841, 0.03811250384026904), (1842, 0.0), (1843, 0.005066127767335846), (1844, 0.0), (1845, 0.01222974085621834), (1846, 0.032526081929509426), (1847, 0.0), (1848, 0.0), (1849, 0.015422678725528046), (1850, 0.0), (1851, 0.043709531107828235), (1852, 0.008517124303247314), (1853, 0.010308387355926943), (1854, 0.005168515895404679), (1855, 0.0), (1856, 0.08757099219365824), (1857, 0.0813709516335898), (1858, 0.005753349360529762), (1859, 0.03503005197526462), (1860, 0.0), (1861, 0.004735006559015171), (1862, 0.006361587270926564), (1863, 0.0), (1864, 0.0), (1865, 0.005472375151081809), (1866, 0.0), (1867, 0.004954933385407069), (1868, 0.06225083925175376), (1869, 0.0), (1870, 0.01380298899818036), (1871, 0.01546540453187054), (1872, 0.0), (1873, 0.01291831276702692), (1874, 0.0), (1875, 0.0), (1876, 0.0047319212334480006), (1877, 0.0), (1878, 0.004505600595194252), (1879, 0.005972854278179552), (1880, 0.005439394387542535), (1881, 0.025136599895517798), (1882, 0.004940286965035906), (1883, 0.004822208567442646), (1884, 0.01351250033797927), (1885, 0.04164312025764187), (1886, 0.04760349844405344), (1887, 0.03860699474909717), (1888, 0.004563899212352445), (1889, 0.03193123664370114), (1890, 0.0042859869291944465), (1891, 0.0), (1892, 0.0), (1893, 0.0), (1894, 0.013545393321821954), (1895, 0.006372895799199836), (1896, 0.005135580993555212), (1897, 0.03214468220073623), (1898, 0.017205270408438913), (1899, 0.0), (1900, 0.025796212210093122), (1901, 0.013522563811127306), (1902, 0.0), (1903, 0.041908844872832036), (1904, 0.05393838254506604), (1905, 0.012375982592422445), (1906, 0.0396348956573869), (1907, 0.0), (1908, 0.03577853436126484), (1909, 0.021318135044960156), (1910, 0.005463389826419994), (1911, 0.0), (1912, 0.010699817505345037), (1913, 0.05487076399835207), (1914, 0.0), (1915, 0.0), (1916, 0.04281954053769949), (1917, 0.0), (1918, 0.01969303332761247), (1919, 0.00704799951427999), (1920, 0.03355427867801819), (1921, 0.0), (1922, 0.023217492471983278), (1923, 0.0), (1924, 0.0), (1925, 0.0), (1926, 0.0), (1927, 0.0051198778000097695), (1928, 0.0), (1929, 0.005501689193845007), (1930, 0.0), (1931, 0.013310070903068256), (1932, 0.019800511889542214), (1933, 0.05505448335107156), (1934, 0.008550569149690388), (1935, 0.030197445981523838), (1936, 0.0047056888357869765), (1937, 0.006974274938667639), (1938, 0.0), (1939, 0.0), (1940, 0.027352896372286294), (1941, 0.0), (1942, 0.00918104965759423), (1943, 0.0), (1944, 0.005093935508511663), (1945, 0.024996529284505298), (1946, 0.03987406844565463), (1947, 0.05403329932294136), (1948, 0.03652337635706421), (1949, 0.0), (1950, 0.02014072831823132), (1951, 0.02570697007500534), (1952, 0.0), (1953, 0.0), (1954, 0.0), (1955, 0.0), (1956, 0.0), (1957, 0.01159400235180161), (1958, 0.021751296785197913), (1959, 0.0), (1960, 0.0), (1961, 0.0), (1962, 0.0), (1963, 0.049096392168596015), (1964, 0.0047807245174013675), (1965, 0.024781803585317883), (1966, 0.00485742919226234), (1967, 0.004055597717175702), (1968, 0.0), (1969, 0.042939239073152384), (1970, 0.005125134809337811), (1971, 0.0047516174809288944), (1972, 0.0053797119437261195), (1973, 0.005215523968088089), (1974, 0.0), (1975, 0.010980451790518092), (1976, 0.043988395799824165), (1977, 0.007834296201601114), (1978, 0.0063012365045349746), (1979, 0.03525799939130959), (1980, 0.013966867890917906), (1981, 0.004987419346834221), (1982, 0.011697335895994072), (1983, 0.053610489743832354), (1984, 0.03377157765554904), (1985, 0.0), (1986, 0.023364680463123375), (1987, 0.016229683208072616), (1988, 0.005434438790401836), (1989, 0.02772911584345656), (1990, 0.0), (1991, 0.005698259676640518), (1992, 0.0051417659463267595), (1993, 0.0), (1994, 0.0), (1995, 0.024120973128789965), (1996, 0.004730845180331851), (1997, 0.0), (1998, 0.043178847600687124), (1999, 0.011292210197712435), (2000, 0.005487844557652289), (2001, 0.007847037213310383), (2002, 0.0), (2003, 0.0), (2004, 0.0), (2005, 0.013109458469062845), (2006, 0.056823294142429405), (2007, 0.023401066063403888), (2008, 0.0), (2009, 0.0), (2010, 0.0), (2011, 0.007637352279374642), (2012, 0.0), (2013, 0.0), (2014, 0.01113996330828979), (2015, 0.016833316463203966), (2016, 0.0), (2017, 0.0), (2018, 0.012371239027101567), (2019, 0.07707382360320444), (2020, 0.023940932863206504), (2021, 0.014153844892763764), (2022, 0.02211695213751893), (2023, 0.01576850234809546), (2024, 0.012108316735178312), (2025, 0.009320475660001399), (2026, 0.0), (2027, 0.0), (2028, 0.0), (2029, 0.0), (2030, 0.0), (2031, 0.0059596027904015745), (2032, 0.013032261371577614), (2033, 0.004536514023554475), (2034, 0.005601592305660968), (2035, 0.0), (2036, 0.03803492873205565), (2037, 0.01792314843258171), (2038, 0.012512531501110166), (2039, 0.004945003734012619), (2040, 0.0), (2041, 0.005761787721364365), (2042, 0.004367354450487167), (2043, 0.0), (2044, 0.06969114879659496), (2045, 0.06486190724752622), (2046, 0.05901551598374227), (2047, 0.0), (2048, 0.005404674165937712), (2049, 0.015995921406398626), (2050, 0.0), (2051, 0.011602023200721436), (2052, 0.0), (2053, 0.0), (2054, 0.02858811837453354), (2055, 0.006537878212939143), (2056, 0.0), (2057, 0.0), (2058, 0.012398835496302862), (2059, 0.005857313512024475), (2060, 0.0), (2061, 0.020110167894165972), (2062, 0.020529323723112794), (2063, 0.029993184663224898), (2064, 0.014577570650903364), (2065, 0.08067141715785163), (2066, 0.0), (2067, 0.019833519826457355), (2068, 0.0124861247526309), (2069, 0.014788171993372637), (2070, 0.021567457440635623), (2071, 0.0062301655647996335), (2072, 0.0), (2073, 0.0), (2074, 0.0), (2075, 0.0), (2076, 0.0), (2077, 0.018859945420332105), (2078, 0.005129673784589836), (2079, 0.0), (2080, 0.011423301721436092), (2081, 0.020300761800313958), (2082, 0.0), (2083, 0.027215745205031665), (2084, 0.02736156996938519), (2085, 0.041826392621857195), (2086, 0.026932471911731346), (2087, 0.0), (2088, 0.029421635096534456), (2089, 0.020076061815502023), (2090, 0.005336081182466127), (2091, 0.0), (2092, 0.004365081189607176), (2093, 0.039423960184530746), (2094, 0.0), (2095, 0.012727629934590968), (2096, 0.0), (2097, 0.04098247597593676), (2098, 0.005764390847888698), (2099, 0.005105839616270541), (2100, 0.0), (2101, 0.040746751627486075), (2102, 0.005401277866348224), (2103, 0.039157986225904995), (2104, 0.018101948181875785), (2105, 0.0), (2106, 0.0047227481323791785), (2107, 0.0057157899117163844), (2108, 0.027108496067552397), (2109, 0.0), (2110, 0.0055594821561964405), (2111, 0.0), (2112, 0.017531964777594874), (2113, 0.011748917257968183), (2114, 0.05255162989381777), (2115, 0.018980498227503605), (2116, 0.04069500346823881), (2117, 0.0), (2118, 0.0), (2119, 0.07453210886677235), (2120, 0.0), (2121, 0.01041213576350046), (2122, 0.006163548773685114), (2123, 0.03380168945270383), (2124, 0.0), (2125, 0.044070735074543635), (2126, 0.004999964201905538), (2127, 0.0151089762089811), (2128, 0.006041131453477762), (2129, 0.01004365333055572), (2130, 0.0), (2131, 0.0), (2132, 0.005027285369313383), (2133, 0.0), (2134, 0.06258085171200937), (2135, 0.04751022762820949), (2136, 0.021328419010944705), (2137, 0.011751159512547188), (2138, 0.0), (2139, 0.005831649607165798), (2140, 0.005101172249452223), (2141, 0.0), (2142, 0.019330635240083764), (2143, 0.0), (2144, 0.016305789127558465), (2145, 0.012635400547981578), (2146, 0.0), (2147, 0.03236324985437361), (2148, 0.01872289502054784), (2149, 0.0), (2150, 0.012157236346787476), (2151, 0.0), (2152, 0.06556153717666026), (2153, 0.0053994973514668995), (2154, 0.0), (2155, 0.0052088081811836094), (2156, 0.010933302595713196), (2157, 0.0), (2158, 0.03597110683952384), (2159, 0.00477786087726768), (2160, 0.0), (2161, 0.017959870338522598), (2162, 0.030072785961934457), (2163, 0.03118036496162446), (2164, 0.004502842362379042), (2165, 0.017616815172154764), (2166, 0.0054457383504983884), (2167, 0.0), (2168, 0.0), (2169, 0.012200519441150593), (2170, 0.010618397300059916), (2171, 0.03971702159366764), (2172, 0.0), (2173, 0.014488703834453269), (2174, 0.005568753973324363), (2175, 0.011208173392685091), (2176, 0.04860045884709714), (2177, 0.03953281288158625), (2178, 0.0), (2179, 0.005388023030103436), (2180, 0.0), (2181, 0.0), (2182, 0.07475900071115432), (2183, 0.02237280114240662), (2184, 0.004280606523564816), (2185, 0.02395970398578129), (2186, 0.0), (2187, 0.009318041812037117), (2188, 0.023756564931558116), (2189, 0.12921983804330753), (2190, 0.014487588479308432), (2191, 0.0), (2192, 0.0), (2193, 0.0), (2194, 0.0050226500684192), (2195, 0.0), (2196, 0.005230140483327594), (2197, 0.005530837281996556), (2198, 0.0), (2199, 0.04697029692760844), (2200, 0.0), (2201, 0.05952182838418474), (2202, 0.012770399710129816), (2203, 0.0), (2204, 0.0051145823700156036), (2205, 0.0), (2206, 0.005065712422099656), (2207, 0.025770788397853253), (2208, 0.040694510712260275), (2209, 0.06949672672387905), (2210, 0.004930209535826414), (2211, 0.006251306404158156), (2212, 0.013791842606547656), (2213, 0.07206819252274617), (2214, 0.005634321978210732), (2215, 0.01312075061992894), (2216, 0.004963353201226176), (2217, 0.08004406036183664), (2218, 0.013607391927792548), (2219, 0.00986109049170145), (2220, 0.01563173174544219), (2221, 0.0044831910664974006), (2222, 0.006666298931967084), (2223, 0.005167181195148992), (2224, 0.01588809991882025), (2225, 0.005213397852529707), (2226, 0.012540326041465114), (2227, 0.0), (2228, 0.0052027146029527726), (2229, 0.0), (2230, 0.0), (2231, 0.04270854099690516), (2232, 0.03149814856226133), (2233, 0.005688499366026796), (2234, 0.0), (2235, 0.01951045838136071), (2236, 0.0), (2237, 0.0), (2238, 0.014350165009868188), (2239, 0.08743938810126156), (2240, 0.0), (2241, 0.0), (2242, 0.0), (2243, 0.011509450957839024), (2244, 0.0), (2245, 0.005751782965881816), (2246, 0.0), (2247, 0.01502689150965433), (2248, 0.00567723548154743), (2249, 0.011068912185594833), (2250, 0.013025271004440021), (2251, 0.0), (2252, 0.006496984145406895), (2253, 0.0), (2254, 0.0), (2255, 0.01067446609030451), (2256, 0.014113013394522231), (2257, 0.0), (2258, 0.05777071777646025), (2259, 0.0), (2260, 0.0), (2261, 0.0), (2262, 0.05557793000716377), (2263, 0.0047551833610863774), (2264, 0.005419438837057178), (2265, 0.0), (2266, 0.022857584982365675), (2267, 0.0), (2268, 0.0), (2269, 0.0), (2270, 0.03646591948381721), (2271, 0.0), (2272, 0.04571652762234091), (2273, 0.0), (2274, 0.0), (2275, 0.012893671297397515), (2276, 0.011109485801137518), (2277, 0.0), (2278, 0.00878785778489833), (2279, 0.005839519695857599), (2280, 0.013328108452331946), (2281, 0.04828068673606819), (2282, 0.0), (2283, 0.02326422021223112), (2284, 0.0), (2285, 0.01485504675774445), (2286, 0.0), (2287, 0.0060143119603301085), (2288, 0.0), (2289, 0.011612569624150184), (2290, 0.054225880077469465), (2291, 0.0), (2292, 0.03766287939242896), (2293, 0.0), (2294, 0.023882431939787323), (2295, 0.0), (2296, 0.0), (2297, 0.0), (2298, 0.05041467131470412), (2299, 0.014712215037618163), (2300, 0.0), (2301, 0.005696675280737318), (2302, 0.0), (2303, 0.017536315745966473), (2304, 0.0), (2305, 0.0), (2306, 0.009423596198250034), (2307, 0.024175186556063252), (2308, 0.01229447029635267), (2309, 0.0), (2310, 0.004870305720411707), (2311, 0.00528792954950312), (2312, 0.028424174588618713), (2313, 0.06707773578482455), (2314, 0.1294587484952345), (2315, 0.005689871648139238), (2316, 0.031051964040109892), (2317, 0.0), (2318, 0.02071868513428175), (2319, 0.005010892837747021), (2320, 0.0), (2321, 0.006913501115361553), (2322, 0.006311259260001786), (2323, 0.016825894384531147), (2324, 0.005199040683340073), (2325, 0.08386566807288669), (2326, 0.01853036181744909), (2327, 0.011457023302525234), (2328, 0.018979057660308635), (2329, 0.010795929024725787), (2330, 0.06689733865932394), (2331, 0.004878741829723274), (2332, 0.0), (2333, 0.03789811556465069), (2334, 0.005080224358995555), (2335, 0.0344697355176623), (2336, 0.0), (2337, 0.009894023576201044), (2338, 0.005015643442607573), (2339, 0.04017599924405127), (2340, 0.0), (2341, 0.006198570534645822), (2342, 0.005602685207417025), (2343, 0.0), (2344, 0.05071359784622215), (2345, 0.0), (2346, 0.00928205879253436), (2347, 0.00633076233159005), (2348, 0.0), (2349, 0.06590394042649343), (2350, 0.0), (2351, 0.05823628771697269), (2352, 0.011312224155441144), (2353, 0.0), (2354, 0.0), (2355, 0.005197481418774745), (2356, 0.006236803590299402), (2357, 0.009169206270293252), (2358, 0.010966404234751353), (2359, 0.05553107565531562), (2360, 0.0), (2361, 0.04337256509525203), (2362, 0.00558078914606707), (2363, 0.015129785468318356), (2364, 0.005581882051454581), (2365, 0.0), (2366, 0.00998754515051993), (2367, 0.0), (2368, 0.031137424933615602), (2369, 0.02339954445480917), (2370, 0.0), (2371, 0.040325500157995554), (2372, 0.0), (2373, 0.0), (2374, 0.0), (2375, 0.0), (2376, 0.06592738160184763), (2377, 0.0), (2378, 0.0), (2379, 0.0), (2380, 0.0), (2381, 0.0), (2382, 0.0), (2383, 0.0), (2384, 0.0), (2385, 0.0), (2386, 0.019314526291838024), (2387, 0.0), (2388, 0.011982745717076951), (2389, 0.01715670320716861), (2390, 0.0), (2391, 0.0), (2392, 0.005877551609839763), (2393, 0.005925592699686831), (2394, 0.013449074929229388), (2395, 0.0), (2396, 0.06113725010934705), (2397, 0.024389984034835666), (2398, 0.0), (2399, 0.0), (2400, 0.012636052001716766), (2401, 0.0), (2402, 0.0), (2403, 0.0), (2404, 0.009374358858754681), (2405, 0.026074288268832922), (2406, 0.03912216968931808), (2407, 0.004059089414652086), (2408, 0.005030298932234795), (2409, 0.012942141670210778), (2410, 0.03346878025760011), (2411, 0.04427965864746845), (2412, 0.005535109259027187), (2413, 0.0), (2414, 0.005717493522512012), (2415, 0.018498646316906307), (2416, 0.0), (2417, 0.00950158255375117), (2418, 0.00511650579427295), (2419, 0.0), (2420, 0.005676053382287964), (2421, 0.0), (2422, 0.03826185966981547), (2423, 0.006285988301955052), (2424, 0.03077112621688977), (2425, 0.0), (2426, 0.005684270511076458), (2427, 0.011523545321104632), (2428, 0.028483193875482225), (2429, 0.0), (2430, 0.0), (2431, 0.004695064952785575), (2432, 0.013936943298296672), (2433, 0.0), (2434, 0.0), (2435, 0.0), (2436, 0.036528253921536254), (2437, 0.0354725664270363), (2438, 0.0), (2439, 0.0), (2440, 0.024912579426796314), (2441, 0.009761261578819855), (2442, 0.005787440743675753), (2443, 0.025302447281015758), (2444, 0.0), (2445, 0.019673252903959926), (2446, 0.042137736995078064), (2447, 0.0), (2448, 0.013395803219258165), (2449, 0.020424728013887016), (2450, 0.0), (2451, 0.005877335461865469), (2452, 0.0), (2453, 0.0), (2454, 0.033684365573559964), (2455, 0.041055940879707424), (2456, 0.0), (2457, 0.005317291579083991), (2458, 0.005372660038738356), (2459, 0.015991394906942576), (2460, 0.0), (2461, 0.004384208395986863), (2462, 0.0), (2463, 0.0), (2464, 0.015937923000018415), (2465, 0.0), (2466, 0.0316644342277353), (2467, 0.05847184874817505), (2468, 0.03953539663594612), (2469, 0.0045891868240679), (2470, 0.0), (2471, 0.033808435970638984), (2472, 0.006088146052781117), (2473, 0.03238894425844277), (2474, 0.0), (2475, 0.005443635789715431), (2476, 0.011762804585110713), (2477, 0.005014605537826054), (2478, 0.004976488896235265), (2479, 0.07731751013626095), (2480, 0.03411314689800013), (2481, 0.006193521041512688), (2482, 0.0057031460394226866), (2483, 0.05702202970838546), (2484, 0.0), (2485, 0.0448492789534479), (2486, 0.0), (2487, 0.005621796300976915), (2488, 0.06906593228261002), (2489, 0.0052221582657300415), (2490, 0.0), (2491, 0.0), (2492, 0.028109559756684943), (2493, 0.0), (2494, 0.013076429089724385), (2495, 0.030249242742549802), (2496, 0.023790693150039382), (2497, 0.04196053770043006), (2498, 0.0), (2499, 0.0), (2500, 0.1258518075453641), (2501, 0.11121105461576253), (2502, 0.0), (2503, 0.0), (2504, 0.005460831284563524), (2505, 0.0), (2506, 0.03324697087252101), (2507, 0.0), (2508, 0.0048220164474600796), (2509, 0.03495876198160716), (2510, 0.02036170509131206), (2511, 0.056851422573957984), (2512, 0.033118944833733885), (2513, 0.03260829851244311), (2514, 0.03824783911149357), (2515, 0.0), (2516, 0.0), (2517, 0.028842434288207437), (2518, 0.0049197976538700285), (2519, 0.0), (2520, 0.0), (2521, 0.0), (2522, 0.029880086200921637), (2523, 0.006359267484703996), (2524, 0.013801961860132186), (2525, 0.0588077081242095), (2526, 0.0), (2527, 0.02980218889563357), (2528, 0.005293006137098028), (2529, 0.0), (2530, 0.032681002562643745), (2531, 0.0056113065504017), (2532, 0.0), (2533, 0.0), (2534, 0.02679168134885235), (2535, 0.058178710212812075), (2536, 0.0238243152715318), (2537, 0.04154413473303094), (2538, 0.04651080803714093), (2539, 0.0), (2540, 0.03259777073822058), (2541, 0.0), (2542, 0.0), (2543, 0.0), (2544, 0.004458966700447301), (2545, 0.0), (2546, 0.0), (2547, 0.0), (2548, 0.022611643603668522), (2549, 0.03309624281471754), (2550, 0.0), (2551, 0.00992108126112662), (2552, 0.0), (2553, 0.008925873808272524), (2554, 0.005338550848720476), (2555, 0.0), (2556, 0.013214818345943978), (2557, 0.0), (2558, 0.0), (2559, 0.005403486235249272), (2560, 0.005211197755283649), (2561, 0.009238184148845124), (2562, 0.02547427711861332), (2563, 0.013826596929425821), (2564, 0.004911014090520718), (2565, 0.01786419873719039), (2566, 0.010165886911435495), (2567, 0.0), (2568, 0.0), (2569, 0.03385503899589), (2570, 0.049630841524686775), (2571, 0.0), (2572, 0.011155453326150883), (2573, 0.0), (2574, 0.03554805998903684), (2575, 0.0), (2576, 0.013573185120098554), (2577, 0.011915016375743383), (2578, 0.024536777094847174), (2579, 0.005079875632508688), (2580, 0.023664075315325096), (2581, 0.0), (2582, 0.0), (2583, 0.0), (2584, 0.0), (2585, 0.0), (2586, 0.0), (2587, 0.0), (2588, 0.0), (2589, 0.04067304853766348), (2590, 0.03140128579482128), (2591, 0.0), (2592, 0.0), (2593, 0.0), (2594, 0.029322757263299453), (2595, 0.0), (2596, 0.03516073218017622), (2597, 0.004544416977546808), (2598, 0.005504734974237002), (2599, 0.0), (2600, 0.08116352893128738), (2601, 0.0328500694911727), (2602, 0.0), (2603, 0.005386077740528756), (2604, 0.0), (2605, 0.005320285733999233), (2606, 0.05485829436742384), (2607, 0.017538366723872278), (2608, 0.01153493760717797), (2609, 0.0), (2610, 0.0), (2611, 0.0057227853963288155), (2612, 0.004980187992109486), (2613, 0.0220966662225976), (2614, 0.0065747877917461915), (2615, 0.03539048805198639), (2616, 0.004495089580687328), (2617, 0.006830307849775346), (2618, 0.005719548639622939), (2619, 0.015501439227633862), (2620, 0.012761853280081737), (2621, 0.046596708355091124), (2622, 0.0), (2623, 0.0), (2624, 0.004530430938917971), (2625, 0.005411466163917588), (2626, 0.042431911784332234), (2627, 0.0), (2628, 0.0), (2629, 0.06088638588064877), (2630, 0.0), (2631, 0.0), (2632, 0.0), (2633, 0.011068174987696536), (2634, 0.007558578556301901), (2635, 0.02769325496857294), (2636, 0.04004457831173147), (2637, 0.0), (2638, 0.0), (2639, 0.0), (2640, 0.0), (2641, 0.0), (2642, 0.005617917266289104), (2643, 0.0), (2644, 0.0), (2645, 0.0), (2646, 0.0), (2647, 0.0), (2648, 0.0), (2649, 0.0), (2650, 0.005846896865320763), (2651, 0.005216066371562447), (2652, 0.0), (2653, 0.03071021441987448), (2654, 0.023575836799982916), (2655, 0.030086941755584518), (2656, 0.0), (2657, 0.0), (2658, 0.015238579029112296), (2659, 0.004609186963886308), (2660, 0.031818243652363146), (2661, 0.009818202888032512), (2662, 0.0), (2663, 0.013416338091948313), (2664, 0.0), (2665, 0.0), (2666, 0.0), (2667, 0.0), (2668, 0.005198490125793869), (2669, 0.027210269767017986), (2670, 0.0), (2671, 0.018443008337771703), (2672, 0.015654693223797485), (2673, 0.0), (2674, 0.0), (2675, 0.0), (2676, 0.0), (2677, 0.004105088933978817), (2678, 0.009802958536404057), (2679, 0.04615209748637536), (2680, 0.025916046040256786), (2681, 0.05319428604155667), (2682, 0.012846812270035908), (2683, 0.0052384668985724124), (2684, 0.0549134721376663), (2685, 0.011044991126079632), (2686, 0.010696553726282733), (2687, 0.007743165635989586), (2688, 0.0), (2689, 0.005235238803630282), (2690, 0.025988676969701942), (2691, 0.0060529503351038775), (2692, 0.030345750002366095), (2693, 0.0), (2694, 0.016713419885597415), (2695, 0.006391954667098182), (2696, 0.0), (2697, 0.0), (2698, 0.0050007150608547485), (2699, 0.03902083732504346), (2700, 0.0), (2701, 0.0), (2702, 0.0), (2703, 0.0), (2704, 0.02236418723689601), (2705, 0.0), (2706, 0.0), (2707, 0.006809041180064619), (2708, 0.0), (2709, 0.0), (2710, 0.0), (2711, 0.0), (2712, 0.055155232654117745), (2713, 0.07059645339812863), (2714, 0.0), (2715, 0.005168686407361554), (2716, 0.02271101321245575), (2717, 0.0), (2718, 0.004976231195567901), (2719, 0.0), (2720, 0.005557988461710692), (2721, 0.0), (2722, 0.026738499243261743), (2723, 0.0), (2724, 0.0), (2725, 0.0), (2726, 0.0), (2727, 0.004649639717168055), (2728, 0.006862239878687451), (2729, 0.009436535108791808), (2730, 0.0), (2731, 0.05570948276132992), (2732, 0.009855070710973315), (2733, 0.0), (2734, 0.0), (2735, 0.03430704246585628), (2736, 0.0), (2737, 0.035819881188799835), (2738, 0.005494055960748), (2739, 0.004851073871111371), (2740, 0.014966120066284528), (2741, 0.034295163882924966), (2742, 0.0), (2743, 0.0), (2744, 0.015892181570168022), (2745, 0.04807687466078423), (2746, 0.01275323825057775), (2747, 0.009141021030804091), (2748, 0.01637132536141584), (2749, 0.06777683938403144), (2750, 0.0), (2751, 0.0), (2752, 0.0), (2753, 0.031195168185871737), (2754, 0.007504814609627219), (2755, 0.010341046849565251), (2756, 0.07354060299767803), (2757, 0.0), (2758, 0.004779712587025838), (2759, 0.004879525690260523), (2760, 0.03355798575565492), (2761, 0.11380707328916814), (2762, 0.016338776643983064), (2763, 0.006185419143622985), (2764, 0.0), (2765, 0.0), (2766, 0.04387486684878475), (2767, 0.0056844527956250186), (2768, 0.006367805093685109), (2769, 0.0), (2770, 0.0), (2771, 0.12462933603383852), (2772, 0.0), (2773, 0.0), (2774, 0.009805488437495968), (2775, 0.01639733865013534), (2776, 0.0), (2777, 0.0), (2778, 0.0), (2779, 0.0), (2780, 0.0), (2781, 0.017099056641295872), (2782, 0.0), (2783, 0.0), (2784, 0.008820504931602084), (2785, 0.023481614560289875), (2786, 0.033506859611655775), (2787, 0.0), (2788, 0.0), (2789, 0.0), (2790, 0.0), (2791, 0.0), (2792, 0.0), (2793, 0.024075009657596538), (2794, 0.009725026845484657), (2795, 0.0), (2796, 0.011072647905359811), (2797, 0.005232270823465884), (2798, 0.0), (2799, 0.02749554427980272), (2800, 0.019437291695797648), (2801, 0.009765347150561305), (2802, 0.028384463825889165), (2803, 0.0046711310721569395), (2804, 0.005677674697511322), (2805, 0.05408887634846656), (2806, 0.0), (2807, 0.020095559610864983), (2808, 0.0), (2809, 0.029393925696756203), (2810, 0.00549685712742174), (2811, 0.05680051058684768), (2812, 0.005440781880395363), (2813, 0.035400192224879966), (2814, 0.03511308924425516), (2815, 0.0), (2816, 0.0503903785445106), (2817, 0.024144395078108893), (2818, 0.04058584183282793), (2819, 0.0), (2820, 0.042261767879001925), (2821, 0.023866629396211737), (2822, 0.004657737319316401), (2823, 0.01956201498419758), (2824, 0.034752671172139316), (2825, 0.0), (2826, 0.026975174165370194), (2827, 0.05377614721103023), (2828, 0.0052510019886836444), (2829, 0.0), (2830, 0.0), (2831, 0.012217452717394193), (2832, 0.0), (2833, 0.01963971084351055), (2834, 0.004858269263436374), (2835, 0.07661143406765851), (2836, 0.0), (2837, 0.0), (2838, 0.0), (2839, 0.022886876543699055), (2840, 0.005239616132666281), (2841, 0.01294694920116728), (2842, 0.0), (2843, 0.0), (2844, 0.06514642964442761), (2845, 0.0), (2846, 0.08513657597852098), (2847, 0.029726922010423092), (2848, 0.005850509324860903), (2849, 0.0), (2850, 0.0050928485124508765), (2851, 0.05153372206412951), (2852, 0.05291590535922594), (2853, 0.0), (2854, 0.054754321703057475), (2855, 0.0064713889864236925), (2856, 0.00587887474175189), (2857, 0.0), (2858, 0.013744667849816664), (2859, 0.022318409706128254), (2860, 0.0), (2861, 0.06560872518151412), (2862, 0.005658471514871639), (2863, 0.0), (2864, 0.027914601787281283), (2865, 0.029273475916029686), (2866, 0.0), (2867, 0.007350607014647427), (2868, 0.0), (2869, 0.02376783479653486), (2870, 0.03330646773255157), (2871, 0.005281574579594011), (2872, 0.00612163303782639), (2873, 0.010007485576798964), (2874, 0.0), (2875, 0.0), (2876, 0.10116488373235653), (2877, 0.0), (2878, 0.0), (2879, 0.005688584215811542), (2880, 0.005472992646338105), (2881, 0.005122498227030751), (2882, 0.007139872520627795), (2883, 0.0), (2884, 0.0), (2885, 0.050756181012356086), (2886, 0.009650833823729475), (2887, 0.0), (2888, 0.0), (2889, 0.00537847466569575), (2890, 0.006275353115082401), (2891, 0.0), (2892, 0.0), (2893, 0.0), (2894, 0.0), (2895, 0.006048478290458969), (2896, 0.005600578770357657), (2897, 0.0), (2898, 0.0107313918519877), (2899, 0.06640871454029429), (2900, 0.0), (2901, 0.0)]\n"
          ]
        }
      ]
    },
    {
      "cell_type": "code",
      "metadata": {
        "colab": {
          "base_uri": "https://localhost:8080/"
        },
        "id": "mMrxw-leQNtP",
        "outputId": "3f7d0f46-dd71-42cc-b78d-13dd3dfb7e8c"
      },
      "source": [
        "len(similarity_score)"
      ],
      "execution_count": 33,
      "outputs": [
        {
          "output_type": "execute_result",
          "data": {
            "text/plain": [
              "2902"
            ]
          },
          "metadata": {},
          "execution_count": 33
        }
      ]
    },
    {
      "cell_type": "code",
      "metadata": {
        "colab": {
          "base_uri": "https://localhost:8080/"
        },
        "id": "SkXgFLePQkHL",
        "outputId": "4fd228d0-dc1c-4a1c-8160-3f3e1ae0b940"
      },
      "source": [
        "# sorting the movies based on their similarity score\n",
        "\n",
        "sorted_similar_movies = sorted(similarity_score, key = lambda x:x[1], reverse = True)\n",
        "print(sorted_similar_movies)"
      ],
      "execution_count": 34,
      "outputs": [
        {
          "output_type": "stream",
          "name": "stdout",
          "text": [
            "[(1541, 1.0), (343, 0.3615430722334525), (42, 0.30013368208301167), (40, 0.1515999719535767), (301, 0.14774315229034174), (184, 0.14055832526201611), (1612, 0.13304822187691728), (2314, 0.1294587484952345), (2189, 0.12921983804330753), (1246, 0.12816419449759953), (2500, 0.1258518075453641), (727, 0.12580487744380123), (2771, 0.12462933603383852), (2761, 0.11380707328916814), (2501, 0.11121105461576253), (566, 0.1095497299192565), (752, 0.1085855812646465), (1191, 0.1073080274466366), (1386, 0.10646365641904788), (1426, 0.10506931065526004), (1312, 0.1027802085710054), (1257, 0.10134039905187692), (2876, 0.10116488373235653), (892, 0.1001866402821995), (533, 0.09733392100851848), (742, 0.09363081540885812), (1795, 0.09219858525961219), (90, 0.09109338920805261), (820, 0.08935981284933187), (903, 0.08838991375096403), (1856, 0.08757099219365824), (2239, 0.08743938810126156), (1053, 0.08664798268499534), (927, 0.0861554067255661), (2846, 0.08513657597852098), (1384, 0.08475184396684834), (2325, 0.08386566807288669), (221, 0.08345826265117487), (1754, 0.08344652767252375), (1620, 0.0828833208261581), (1381, 0.08276389069590759), (1451, 0.08226829741027156), (1857, 0.0813709516335898), (2600, 0.08116352893128738), (2065, 0.08067141715785163), (1040, 0.08015294334140798), (2217, 0.08004406036183664), (1805, 0.07996157168389541), (593, 0.07842802933140995), (628, 0.07777244756539231), (2479, 0.07731751013626095), (2019, 0.07707382360320444), (725, 0.07704853953623014), (254, 0.07681815598534182), (1552, 0.0767954180719836), (1520, 0.07669852745792327), (2835, 0.07661143406765851), (769, 0.07614969811107031), (1157, 0.07602019955133078), (2182, 0.07475900071115432), (636, 0.07456672033104263), (2119, 0.07453210886677235), (1380, 0.07419519604158897), (141, 0.07403603888464719), (120, 0.07354392607389663), (2756, 0.07354060299767803), (521, 0.07293662462380872), (1835, 0.07291912914660928), (1171, 0.0728820872020956), (2213, 0.07206819252274617), (1797, 0.07167816688896801), (691, 0.07119621550458233), (2713, 0.07059645339812863), (179, 0.07036458190338256), (638, 0.07014933111829147), (2044, 0.06969114879659496), (1461, 0.06951776704259402), (1074, 0.06950249130020546), (2209, 0.06949672672387905), (1185, 0.0693928962014276), (704, 0.06935920893140428), (2488, 0.06906593228261002), (1686, 0.06901716209133282), (635, 0.06894191939998058), (201, 0.06848702561842947), (128, 0.06846531236720504), (73, 0.0683374736693044), (2749, 0.06777683938403144), (524, 0.06713952272237642), (2313, 0.06707773578482455), (1231, 0.06707743079501988), (2330, 0.06689733865932394), (2899, 0.06640871454029429), (605, 0.06601650114690122), (2376, 0.06592738160184763), (2349, 0.06590394042649343), (2861, 0.06560872518151412), (2152, 0.06556153717666026), (2844, 0.06514642964442761), (1445, 0.06504798674030403), (744, 0.0650158077800601), (690, 0.06487187846297841), (2045, 0.06486190724752622), (818, 0.06433624415629345), (1159, 0.06365498183898784), (453, 0.0635857874974469), (766, 0.06346141273709899), (54, 0.06339576168726437), (111, 0.06329473350687166), (77, 0.06311478635784966), (1617, 0.06304745808674256), (569, 0.06296816466503377), (2134, 0.06258085171200937), (1868, 0.06225083925175376), (810, 0.06217730344815793), (34, 0.06189556191030347), (384, 0.061572647188962035), (1397, 0.06155094596707836), (883, 0.06147689557547767), (2396, 0.06113725010934705), (1097, 0.06093235224428921), (2629, 0.06088638588064877), (373, 0.06087235640718606), (350, 0.06075573554977447), (288, 0.06039581352354853), (1161, 0.05999776254293787), (1187, 0.05992602771351779), (2201, 0.05952182838418474), (406, 0.0592097853475437), (69, 0.059186340782452176), (243, 0.05905727649963566), (2046, 0.05901551598374227), (196, 0.0588939363063833), (2525, 0.0588077081242095), (1068, 0.05875663111296341), (324, 0.058541771720096863), (2467, 0.05847184874817505), (1790, 0.058436686989688576), (2351, 0.05823628771697269), (2535, 0.058178710212812075), (1544, 0.05807556627395616), (809, 0.05797174130675887), (653, 0.05788757651283853), (1203, 0.05781144748077981), (2258, 0.05777071777646025), (121, 0.057594685145324176), (195, 0.05759416688439806), (423, 0.05756624512969967), (1037, 0.05733371005581825), (2483, 0.05702202970838546), (1661, 0.05694638083251477), (2511, 0.056851422573957984), (2006, 0.056823294142429405), (2811, 0.05680051058684768), (136, 0.056799550824780116), (977, 0.056428999898065955), (878, 0.05625990934182627), (358, 0.05613061880059051), (444, 0.05612038269200399), (374, 0.056037347586305165), (2731, 0.05570948276132992), (1336, 0.05561596688367414), (2262, 0.05557793000716377), (2359, 0.05553107565531562), (1600, 0.05543258418587148), (458, 0.055387093357207956), (2712, 0.055155232654117745), (1933, 0.05505448335107156), (1190, 0.05492836621681938), (2684, 0.0549134721376663), (1913, 0.05487076399835207), (2606, 0.05485829436742384), (1086, 0.05477373484265771), (2854, 0.054754321703057475), (1293, 0.0545494546408717), (686, 0.05442587515972101), (477, 0.05438169739307454), (1602, 0.05425636436742127), (2290, 0.054225880077469465), (1555, 0.054187801871479827), (1522, 0.05411032428513857), (2805, 0.05408887634846656), (1947, 0.05403329932294136), (1904, 0.05393838254506604), (2827, 0.05377614721103023), (1983, 0.053610489743832354), (2681, 0.05319428604155667), (258, 0.05303550688966599), (2852, 0.05291590535922594), (57, 0.05271785485985009), (1108, 0.052697964523292576), (1401, 0.0526245359785817), (2114, 0.05255162989381777), (130, 0.05242917484961892), (679, 0.052333320701812715), (1587, 0.05205429512451859), (1691, 0.05174280550644405), (1228, 0.051637483070361444), (2851, 0.05153372206412951), (442, 0.051055708067872504), (1200, 0.05082354515569064), (2885, 0.050756181012356086), (66, 0.05075341979099112), (2344, 0.05071359784622215), (863, 0.0506411461486048), (2298, 0.05041467131470412), (1499, 0.05040992476855067), (2816, 0.0503903785445106), (1656, 0.05009582589272212), (174, 0.04993601098294937), (60, 0.049827543391518285), (2570, 0.049630841524686775), (1264, 0.04962296599129424), (278, 0.04930688165959231), (899, 0.04928387595532382), (1963, 0.049096392168596015), (1233, 0.0490903448259493), (2176, 0.04860045884709714), (1721, 0.04855254887413299), (890, 0.048450859410712366), (1530, 0.04844008689753665), (1101, 0.048367201062113466), (1633, 0.04834468002604062), (2281, 0.04828068673606819), (966, 0.04826078325505839), (835, 0.04824981624896316), (707, 0.048246946538496094), (185, 0.04817058847752645), (2745, 0.04807687466078423), (1497, 0.04796072112355199), (819, 0.047912073443005826), (30, 0.04766043717684022), (907, 0.04764028743314419), (1886, 0.04760349844405344), (1078, 0.04759503071178478), (2135, 0.04751022762820949), (1457, 0.04748179623540625), (1579, 0.04745463408485704), (619, 0.047201893171818166), (2199, 0.04697029692760844), (348, 0.046743782973952056), (973, 0.046693741108368284), (268, 0.04660412044490447), (2621, 0.046596708355091124), (1761, 0.046558945508110995), (2538, 0.04651080803714093), (758, 0.046464090507038584), (579, 0.04644267364346976), (194, 0.04626756634372809), (234, 0.04617652174712962), (2679, 0.04615209748637536), (539, 0.04614186379332218), (211, 0.045935554182573356), (289, 0.04575147551126084), (2272, 0.04571652762234091), (1081, 0.0453249616921988), (479, 0.04520691742989418), (2485, 0.0448492789534479), (231, 0.04460682958316041), (474, 0.04447952277397153), (1825, 0.044443158102483296), (257, 0.044420812947999704), (585, 0.04438068390981878), (265, 0.04429441430634007), (2411, 0.04427965864746845), (1372, 0.044265915545232404), (1562, 0.04421307567893715), (2125, 0.044070735074543635), (1976, 0.043988395799824165), (1283, 0.04389555407020229), (2766, 0.04387486684878475), (1226, 0.0438614844975105), (631, 0.04370955518705911), (1851, 0.043709531107828235), (272, 0.0436990285548674), (133, 0.04360538743331944), (1218, 0.043461078025911766), (1540, 0.04343576192111916), (2361, 0.04337256509525203), (1222, 0.04336165408753233), (522, 0.043248802216273974), (1998, 0.043178847600687124), (1969, 0.042939239073152384), (1607, 0.04293894709469171), (904, 0.04284279343929582), (1916, 0.04281954053769949), (1439, 0.0427109280581774), (2231, 0.04270854099690516), (269, 0.04270342481326031), (1594, 0.042474706002318126), (2626, 0.042431911784332234), (2820, 0.042261767879001925), (351, 0.04222942522551468), (2446, 0.042137736995078064), (798, 0.042113320670526956), (2497, 0.04196053770043006), (1903, 0.041908844872832036), (2085, 0.041826392621857195), (1496, 0.041776821902916206), (1362, 0.041666236811961986), (1885, 0.04164312025764187), (2537, 0.04154413473303094), (173, 0.041499895591923665), (1804, 0.04143783682649622), (896, 0.041303406510134505), (1444, 0.041236013588937415), (661, 0.04120221232594108), (2455, 0.041055940879707424), (2097, 0.04098247597593676), (1830, 0.04096045804146842), (779, 0.04087546477951732), (89, 0.04076053361833265), (2101, 0.040746751627486075), (843, 0.040723020724454696), (2116, 0.04069500346823881), (2208, 0.040694510712260275), (2589, 0.04067304853766348), (347, 0.040626381647744), (2818, 0.04058584183282793), (117, 0.04058199862641372), (468, 0.040505698676455704), (1712, 0.040478346899103956), (1413, 0.04046942655334813), (1703, 0.040439576180626984), (1580, 0.04042619711008125), (2371, 0.040325500157995554), (1621, 0.04024240288683229), (2339, 0.04017599924405127), (2636, 0.04004457831173147), (812, 0.039927642248711065), (1516, 0.03992100393039138), (558, 0.039877543178210864), (1946, 0.03987406844565463), (1382, 0.03971814019503236), (2171, 0.03971702159366764), (1906, 0.0396348956573869), (2468, 0.03953539663594612), (2177, 0.03953281288158625), (2093, 0.039423960184530746), (665, 0.03916471883675085), (2103, 0.039157986225904995), (1172, 0.03914626064699048), (2406, 0.03912216968931808), (2699, 0.03902083732504346), (24, 0.03895580137506648), (895, 0.03889171480926033), (1022, 0.03880989106032814), (1887, 0.03860699474909717), (496, 0.03857340843732594), (1659, 0.03856025964599289), (1576, 0.038494728142579406), (1147, 0.038435188492723135), (875, 0.03832256810428464), (2422, 0.03826185966981547), (2514, 0.03824783911149357), (1152, 0.03815648656538163), (1841, 0.03811250384026904), (148, 0.03806185105577952), (2036, 0.03803492873205565), (142, 0.03792876058396402), (2333, 0.03789811556465069), (874, 0.03789784468650754), (939, 0.037833611472752555), (1695, 0.03768140770653658), (2292, 0.03766287939242896), (1239, 0.03741147174719337), (1500, 0.037371113881043014), (565, 0.03719729022271992), (848, 0.037141505517202036), (213, 0.03699198044215413), (674, 0.03682954448284542), (106, 0.03674869673312954), (47, 0.036677027815802565), (837, 0.03666821899985596), (181, 0.03658965297351782), (1054, 0.036586363364035646), (53, 0.03655116219755853), (2436, 0.036528253921536254), (1948, 0.03652337635706421), (2270, 0.03646591948381721), (55, 0.03641754065287196), (506, 0.03639559768531009), (832, 0.036384948708908786), (1429, 0.036303809405843275), (464, 0.03600002734127147), (2158, 0.03597110683952384), (841, 0.035910275694944524), (32, 0.03588485717418231), (503, 0.03588108148971084), (2737, 0.035819881188799835), (1908, 0.03577853436126484), (1693, 0.03568460684386839), (799, 0.03565432414674734), (942, 0.035652467057903925), (435, 0.03556965958162691), (2574, 0.03554805998903684), (325, 0.03553592125659191), (2437, 0.0354725664270363), (514, 0.03543559234256626), (2813, 0.035400192224879966), (2615, 0.03539048805198639), (913, 0.035375104000603), (1979, 0.03525799939130959), (1021, 0.03516215020418275), (2596, 0.03516073218017622), (2814, 0.03511308924425516), (1624, 0.03506971968621288), (1859, 0.03503005197526462), (2509, 0.03495876198160716), (390, 0.03493492418375611), (1498, 0.03490400218797278), (1383, 0.03489146570660947), (488, 0.034879526743069475), (697, 0.034759062710115425), (2824, 0.034752671172139316), (499, 0.034597832321455496), (2335, 0.0344697355176623), (393, 0.03441690181295957), (1521, 0.034387835140673735), (926, 0.034345103228077725), (2735, 0.03430704246585628), (2741, 0.034295163882924966), (1047, 0.03418351086678477), (1306, 0.0341212468213449), (2480, 0.03411314689800013), (1142, 0.034110497273230664), (88, 0.03403185998190854), (1796, 0.03398139561367777), (2569, 0.03385503899589), (441, 0.03385341642698983), (1287, 0.033825214060505496), (2471, 0.033808435970638984), (2123, 0.03380168945270383), (632, 0.03379475849846695), (1984, 0.03377157765554904), (578, 0.03374013612646551), (604, 0.03371654635705028), (459, 0.03368929461079773), (2454, 0.033684365573559964), (202, 0.0336795109587689), (481, 0.033669870672271875), (2760, 0.03355798575565492), (1920, 0.03355427867801819), (2786, 0.033506859611655775), (1441, 0.033503159415598095), (335, 0.03349697448998186), (2410, 0.03346878025760011), (1066, 0.03338616598064279), (263, 0.033316561245480956), (2870, 0.03330646773255157), (152, 0.03329816330066831), (2506, 0.03324697087252101), (2512, 0.033118944833733885), (2549, 0.03309624281471754), (359, 0.033052605939117526), (1679, 0.03303841847651943), (1214, 0.033029128713241485), (1198, 0.03302577418517108), (155, 0.032987792370098384), (1440, 0.032917945425218274), (287, 0.032899963180321706), (2601, 0.0328500694911727), (473, 0.032825114220155105), (2530, 0.032681002562643745), (1376, 0.03266160496720787), (8, 0.032612743174230394), (2513, 0.03260829851244311), (2540, 0.03259777073822058), (118, 0.032567446374884096), (1846, 0.032526081929509426), (197, 0.03251498428353271), (178, 0.03245478016501807), (2473, 0.03238894425844277), (546, 0.03238251967920138), (2147, 0.03236324985437361), (1550, 0.032154265945004874), (1897, 0.03214468220073623), (658, 0.03213979638613073), (1392, 0.03205587322045606), (447, 0.032021952662314744), (255, 0.032016423534130395), (294, 0.031969072909301795), (1889, 0.03193123664370114), (1062, 0.03188799703373164), (1417, 0.03182926360146664), (2660, 0.031818243652363146), (465, 0.031802859781376425), (2466, 0.0316644342277353), (1726, 0.031573585023416395), (2232, 0.03149814856226133), (698, 0.03145060131807412), (2590, 0.03140128579482128), (1623, 0.03139784009317539), (1535, 0.03139399150881126), (1698, 0.03138201231178548), (957, 0.03134303521263747), (788, 0.031333649753121154), (318, 0.03126257827971868), (339, 0.031247605821761802), (2753, 0.031195168185871737), (2163, 0.03118036496162446), (1389, 0.031165820526886386), (2368, 0.031137424933615602), (1105, 0.03111334713386357), (81, 0.031057671790234092), (2316, 0.031051964040109892), (1780, 0.030989744135935696), (1277, 0.030965341052650284), (543, 0.030931919912544528), (891, 0.030876294490045638), (525, 0.030867794064968455), (2424, 0.03077112621688977), (1065, 0.03076403694573513), (177, 0.030757744620645754), (2653, 0.03071021441987448), (1119, 0.03053433743957981), (92, 0.03048868295958876), (137, 0.030472912470590866), (151, 0.030467257376507344), (692, 0.030454598272969514), (710, 0.030439580236404792), (67, 0.030425451660025797), (816, 0.030391981529313647), (2692, 0.030345750002366095), (614, 0.030282569567130484), (2495, 0.030249242742549802), (365, 0.030219818696523966), (1935, 0.030197445981523838), (609, 0.030182539764549602), (299, 0.030100747993624707), (2655, 0.030086941755584518), (2162, 0.030072785961934457), (897, 0.030067812082763466), (429, 0.02999776083514632), (2063, 0.029993184663224898), (428, 0.029889903591732544), (2522, 0.029880086200921637), (413, 0.029816370319148244), (2527, 0.02980218889563357), (1609, 0.02976155272524358), (2847, 0.029726922010423092), (1311, 0.029719975452751228), (1120, 0.02957211149458058), (1333, 0.02955900813844911), (452, 0.02955438838241987), (6, 0.029545383124903474), (154, 0.02951402949195604), (2088, 0.029421635096534456), (215, 0.029418836181207993), (305, 0.02940018027259757), (2809, 0.029393925696756203), (504, 0.02938864613486765), (86, 0.02938412532283295), (730, 0.029343862016201906), (76, 0.02934057598022796), (2594, 0.029322757263299453), (1091, 0.029305835729969098), (1029, 0.029274465549278556), (2865, 0.029273475916029686), (754, 0.0291996105505956), (924, 0.02919735832978159), (492, 0.029185032810922593), (934, 0.029178511430174785), (1127, 0.029173875315315567), (144, 0.02917138042735677), (1643, 0.02908106889761502), (1174, 0.029016444167721346), (1678, 0.028941062048539565), (1753, 0.028903373109112406), (31, 0.02890005136931269), (431, 0.02887784514903624), (550, 0.02886076365274697), (2517, 0.028842434288207437), (302, 0.028841551804326983), (530, 0.028778887374352264), (1740, 0.028738108331374704), (1676, 0.02872714596771866), (1834, 0.02872295445828913), (1831, 0.028638641876760053), (1354, 0.02860881874707237), (2054, 0.02858811837453354), (381, 0.02858455336453611), (380, 0.028570800811446025), (1121, 0.02852199880527862), (2428, 0.028483193875482225), (1651, 0.02847955842387604), (554, 0.02846117221716728), (2312, 0.028424174588618713), (1080, 0.028407785738579147), (2802, 0.028384463825889165), (923, 0.028337983256020882), (889, 0.028295251098523936), (1485, 0.028283747307913), (1240, 0.0282328790832096), (509, 0.028220471036338714), (1186, 0.028179872529882202), (182, 0.028160300130579616), (2492, 0.028109559756684943), (1055, 0.028057105329944577), (2864, 0.027914601787281283), (187, 0.027866859105323473), (807, 0.027812450997039634), (722, 0.027788528256071848), (1989, 0.02772911584345656), (2635, 0.02769325496857294), (734, 0.02762167574844252), (2799, 0.02749554427980272), (693, 0.027364586135995753), (2084, 0.02736156996938519), (1940, 0.027352896372286294), (2083, 0.027215745205031665), (2669, 0.027210269767017986), (1255, 0.027138115439885896), (582, 0.02711007376380921), (2108, 0.027108496067552397), (376, 0.027066253718057747), (1134, 0.0270534124684252), (41, 0.027038837463528156), (352, 0.027024141121793504), (1369, 0.027006775442060225), (516, 0.02699225606514579), (2826, 0.026975174165370194), (2086, 0.026932471911731346), (2534, 0.02679168134885235), (403, 0.02678726470306271), (2722, 0.026738499243261743), (1271, 0.026730893067693256), (765, 0.026719210666748736), (79, 0.026548515739573328), (1481, 0.02643574282166468), (659, 0.026409607878708784), (905, 0.026404017803035112), (1402, 0.026395977731705395), (598, 0.026386548393141238), (583, 0.026310661985532547), (1045, 0.026297518229367177), (239, 0.026217683740592915), (124, 0.02620477982344241), (751, 0.026174851072881623), (313, 0.026122353924552928), (2405, 0.026074288268832922), (146, 0.026032414744402904), (806, 0.026006934430943457), (1471, 0.025997543343089), (2690, 0.025988676969701942), (227, 0.02598519448970004), (1711, 0.025965525956071284), (494, 0.02595747633682172), (430, 0.025923206725815565), (2680, 0.025916046040256786), (645, 0.02587632346678542), (1710, 0.025849727018328564), (1900, 0.025796212210093122), (2207, 0.025770788397853253), (1951, 0.02570697007500534), (920, 0.025694383299328483), (1243, 0.025676461755750963), (1505, 0.02562830591700256), (399, 0.02552611041820397), (2562, 0.02547427711861332), (1462, 0.025426833763460506), (559, 0.025402776065710297), (2443, 0.025302447281015758), (987, 0.025239047675730836), (695, 0.025217724414229824), (1193, 0.02521645323638381), (1881, 0.025136599895517798), (784, 0.02510891742036231), (1810, 0.02505165254359912), (1945, 0.024996529284505298), (1511, 0.024978652265697517), (1489, 0.02491654009303167), (2440, 0.024912579426796314), (1359, 0.02485461287394084), (1965, 0.024781803585317883), (902, 0.024730357316815835), (446, 0.02467070090901491), (1524, 0.02461471664887614), (833, 0.024608122604373166), (160, 0.024563579300457952), (1682, 0.02456000454534032), (2578, 0.024536777094847174), (1508, 0.024413086443860407), (2397, 0.024389984034835666), (1004, 0.0243634377286406), (1478, 0.024180278099291075), (2307, 0.024175186556063252), (2817, 0.024144395078108893), (1995, 0.024120973128789965), (2793, 0.024075009657596538), (328, 0.02401034525410187), (2185, 0.02395970398578129), (2020, 0.023940932863206504), (225, 0.02390470435523242), (1608, 0.0238972664642184), (2294, 0.023882431939787323), (2821, 0.023866629396211737), (2536, 0.0238243152715318), (2496, 0.023790693150039382), (2869, 0.02376783479653486), (2188, 0.023756564931558116), (1370, 0.023734454037545233), (364, 0.023684830749407523), (385, 0.023669998611984572), (2580, 0.023664075315325096), (994, 0.023612891670043913), (2654, 0.023575836799982916), (814, 0.023568436877172444), (2785, 0.023481614560289875), (1584, 0.02341584091252303), (2007, 0.023401066063403888), (2369, 0.02339954445480917), (1986, 0.023364680463123375), (3, 0.023313015683685715), (2283, 0.02326422021223112), (1637, 0.023235412711148748), (876, 0.023222772539154682), (1922, 0.023217492471983278), (1292, 0.023166749491094978), (1556, 0.023043774787593452), (1071, 0.022999843296412414), (2839, 0.022886876543699055), (2266, 0.022857584982365675), (2716, 0.02271101321245575), (637, 0.022651551485399345), (2548, 0.022611643603668522), (425, 0.022600981021464697), (2183, 0.02237280114240662), (2704, 0.02236418723689601), (2859, 0.022318409706128254), (853, 0.02212195977508926), (2022, 0.02211695213751893), (471, 0.02211619963886994), (2613, 0.0220966662225976), (706, 0.022096488479014634), (975, 0.021914818295265086), (1263, 0.021753451697920374), (1958, 0.021751296785197913), (127, 0.021739050721680458), (2070, 0.021567457440635623), (283, 0.02141822652028476), (2136, 0.021328419010944705), (1909, 0.021318135044960156), (1092, 0.021300338096489898), (129, 0.02123854469528976), (1259, 0.021210648006664015), (717, 0.021017993744302046), (320, 0.020949309717007328), (912, 0.020926461758138563), (1393, 0.02089621828770475), (1454, 0.02086676068903885), (2318, 0.02071868513428175), (74, 0.02065201801912517), (672, 0.020633534498963723), (714, 0.02056464456062471), (2062, 0.020529323723112794), (1060, 0.020465633976058197), (1116, 0.020462736021438728), (575, 0.02045218021079697), (96, 0.020436948620758337), (2449, 0.020424728013887016), (1610, 0.020415696405257495), (440, 0.020372774877642694), (2510, 0.02036170509131206), (433, 0.020328384347447243), (2081, 0.020300761800313958), (1950, 0.02014072831823132), (2061, 0.020110167894165972), (2807, 0.020095559610864983), (2089, 0.020076061815502023), (1148, 0.02006786093497121), (1353, 0.0199888587334863), (1179, 0.019931968594846403), (952, 0.019919898503396188), (360, 0.019868032541865418), (2067, 0.019833519826457355), (1932, 0.019800511889542214), (1069, 0.01979422853849357), (1918, 0.01969303332761247), (771, 0.01968165665267384), (2445, 0.019673252903959926), (2833, 0.01963971084351055), (759, 0.0195947117741872), (2823, 0.01956201498419758), (2235, 0.01951045838136071), (134, 0.019510090418268185), (126, 0.01949586568864444), (275, 0.019465506435168728), (228, 0.01946190718407839), (2800, 0.019437291695797648), (2142, 0.019330635240083764), (2386, 0.019314526291838024), (153, 0.01928294739043135), (336, 0.01927790686958999), (1636, 0.019266391747080315), (536, 0.0192416789907033), (1013, 0.01921065468987337), (1709, 0.019136210992235517), (1769, 0.01902176286781414), (2115, 0.018980498227503605), (2328, 0.018979057660308635), (501, 0.0189691386561011), (139, 0.018943739176446248), (1812, 0.01891064850733143), (1144, 0.018892507901331623), (1512, 0.018881286088735422), (2077, 0.018859945420332105), (176, 0.01885518887206935), (689, 0.018744696638059125), (921, 0.01873100245463675), (2148, 0.01872289502054784), (1330, 0.018672288731256616), (1731, 0.018664476490245375), (1537, 0.018546401976663414), (2326, 0.01853036181744909), (309, 0.018503219058694145), (2415, 0.018498646316906307), (518, 0.018482751518985565), (953, 0.018460470912662973), (2671, 0.018443008337771703), (842, 0.01833949983273197), (282, 0.01833144728136426), (1714, 0.01831086495989915), (1510, 0.01829267497339498), (397, 0.018220593846798572), (791, 0.01813862366194142), (2104, 0.018101948181875785), (1270, 0.01807016267252004), (1432, 0.01806555720624283), (484, 0.01801791620158668), (168, 0.017983749399412774), (2161, 0.017959870338522598), (2037, 0.01792314843258171), (1005, 0.017875664502226652), (2565, 0.01786419873719039), (650, 0.01783119254526213), (639, 0.017811598261353263), (361, 0.017785684438021476), (1182, 0.017772004661137056), (1122, 0.017771924522724716), (1344, 0.017639056674235144), (131, 0.017630710191855425), (487, 0.01762092557109116), (2165, 0.017616815172154764), (656, 0.017555324386622988), (190, 0.0175388187387237), (2607, 0.017538366723872278), (2303, 0.017536315745966473), (2112, 0.017531964777594874), (1733, 0.017527907501079458), (1777, 0.017488731975127195), (962, 0.017485943646784245), (699, 0.017316944306933913), (1202, 0.01725493557915625), (1898, 0.017205270408438913), (2389, 0.01715670320716861), (1423, 0.01715395915007898), (1052, 0.01715147777024642), (2781, 0.017099056641295872), (651, 0.01709728331266728), (795, 0.017064873284939084), (156, 0.017056413645013677), (1137, 0.017011991222911478), (858, 0.016973380600295258), (1348, 0.016962324421581576), (71, 0.016881761953708857), (1391, 0.01685663602303567), (2015, 0.016833316463203966), (745, 0.01683202523400872), (2323, 0.016825894384531147), (1519, 0.016753759331994536), (2694, 0.016713419885597415), (418, 0.016694613459983285), (1206, 0.016667996071623357), (793, 0.016665324376157916), (935, 0.016498779177740258), (2775, 0.01639733865013534), (1616, 0.016381506658553497), (1536, 0.016377469689279035), (2748, 0.01637132536141584), (460, 0.016364035288951917), (2762, 0.016338776643983064), (2144, 0.016305789127558465), (1331, 0.01629243272628207), (563, 0.016271831246678643), (284, 0.016241878585995687), (1987, 0.016229683208072616), (949, 0.016219211637176278), (778, 0.016206837508494165), (1504, 0.016185963245757853), (2049, 0.015995921406398626), (2459, 0.015991394906942576), (1375, 0.01595461692098025), (2464, 0.015937923000018415), (450, 0.015920690484847004), (2744, 0.015892181570168022), (2224, 0.01588809991882025), (1388, 0.015884819449143772), (532, 0.015853355613226247), (572, 0.01584644068396176), (688, 0.01581601902496687), (555, 0.015791818509998758), (2023, 0.01576850234809546), (711, 0.01570636833896959), (2672, 0.015654693223797485), (2220, 0.01563173174544219), (701, 0.015620618094391914), (1503, 0.015587417339829305), (457, 0.015572120586350456), (2619, 0.015501439227633862), (1871, 0.01546540453187054), (1494, 0.015446673541456632), (1849, 0.015422678725528046), (703, 0.015352168588012884), (527, 0.015294196322462907), (2658, 0.015238579029112296), (1237, 0.015130968548992206), (2363, 0.015129785468318356), (2127, 0.0151089762089811), (1723, 0.015083918468760747), (2247, 0.01502689150965433), (1418, 0.015010903722099485), (2740, 0.014966120066284528), (1363, 0.014961468729084763), (235, 0.014910381255942753), (391, 0.014898404831708439), (2285, 0.01485504675774445), (1680, 0.014790253788775168), (2069, 0.014788171993372637), (2299, 0.014712215037618163), (1734, 0.014705530071349159), (1223, 0.01469957033236131), (443, 0.014627083876908677), (2064, 0.014577570650903364), (1077, 0.014544772794349004), (678, 0.014541035011239765), (989, 0.014518296493273037), (2173, 0.014488703834453269), (2190, 0.014487588479308432), (1155, 0.014467114237826598), (1044, 0.014409700499514632), (1488, 0.01435712271614692), (2238, 0.014350165009868188), (485, 0.014344227322368064), (743, 0.014232228330212367), (985, 0.01420220777663664), (1310, 0.014195273326993718), (2021, 0.014153844892763764), (1032, 0.014142071203871898), (732, 0.014130451791513739), (1827, 0.01412129480635981), (2256, 0.014113013394522231), (1746, 0.014093055881291262), (999, 0.014052095762206802), (626, 0.014032961006167095), (1980, 0.013966867890917906), (2432, 0.013936943298296672), (859, 0.013885358492633042), (900, 0.013874373868571972), (1094, 0.013865329789233733), (984, 0.013835162060644075), (2563, 0.013826596929425821), (1870, 0.01380298899818036), (696, 0.013802862291516957), (2524, 0.013801961860132186), (2212, 0.013791842606547656), (1398, 0.013767244123203895), (646, 0.013760753487173972), (601, 0.013747447401409624), (1718, 0.01374645050465062), (2858, 0.013744667849816664), (1165, 0.013741646477309008), (1546, 0.013721593820911765), (1205, 0.013648861264474151), (2218, 0.013607391927792548), (1551, 0.013604777597954105), (2576, 0.013573185120098554), (1425, 0.013557795056775483), (1894, 0.013545393321821954), (1901, 0.013522563811127306), (1884, 0.01351250033797927), (1421, 0.013498467269575596), (1614, 0.013497136892616007), (1570, 0.013460784096034992), (157, 0.01345904872182799), (2394, 0.013449074929229388), (655, 0.013426067139388445), (2663, 0.013416338091948313), (2448, 0.013395803219258165), (976, 0.013354467545815919), (1067, 0.013328644376260855), (2280, 0.013328108452331946), (958, 0.013315377875013374), (1931, 0.013310070903068256), (1133, 0.013293151044755338), (1230, 0.013290939706979664), (757, 0.01327688561668086), (1729, 0.01325365177536553), (1455, 0.013227410390848272), (2556, 0.013214818345943978), (355, 0.01319656452891728), (480, 0.013150061457484779), (1561, 0.013121378681483584), (2215, 0.01312075061992894), (1317, 0.013115930304125513), (2005, 0.013109458469062845), (834, 0.013102095800614088), (214, 0.013100542511200837), (1301, 0.013084464839937004), (2494, 0.013076429089724385), (1073, 0.0130629921751436), (2032, 0.013032261371577614), (2250, 0.013025271004440021), (1035, 0.012959751786788206), (408, 0.012952486257367547), (2841, 0.01294694920116728), (2409, 0.012942141670210778), (1873, 0.01291831276702692), (2275, 0.012893671297397515), (1694, 0.01287916059480525), (729, 0.012851700442258904), (2682, 0.012846812270035908), (236, 0.012825486424632578), (644, 0.012818699460665836), (1586, 0.012810283583631926), (338, 0.012792204859255446), (873, 0.012790332298537467), (2202, 0.012770399710129816), (2620, 0.012761853280081737), (2746, 0.01275323825057775), (2095, 0.012727629934590968), (1346, 0.012712225283693323), (544, 0.012671688724636308), (849, 0.012656069967100175), (1681, 0.01265407335088322), (2400, 0.012636052001716766), (2145, 0.012635400547981578), (1238, 0.012603762361746026), (844, 0.01256376990409826), (2226, 0.012540326041465114), (2038, 0.012512531501110166), (1115, 0.012489852430645322), (2068, 0.0124861247526309), (1486, 0.012484470822947484), (2058, 0.012398835496302862), (716, 0.01238705223345946), (1905, 0.012375982592422445), (2018, 0.012371239027101567), (208, 0.012344111843157254), (1084, 0.012327148067084352), (1702, 0.012320093391244062), (59, 0.01231024421967585), (2308, 0.01229447029635267), (420, 0.012263867410921534), (1318, 0.012238705961624491), (1845, 0.01222974085621834), (2831, 0.012217452717394193), (2169, 0.012200519441150593), (1266, 0.012177354145162975), (2150, 0.012157236346787476), (500, 0.012157219008950657), (1713, 0.01214870318847515), (304, 0.012109831479980097), (2024, 0.012108316735178312), (467, 0.012100390690747516), (988, 0.012097238744483667), (1582, 0.01208821905844772), (797, 0.012057956982101853), (1131, 0.012041973099017991), (964, 0.012030638362549763), (1495, 0.012028845068755923), (78, 0.012023801338492806), (893, 0.011990115301711693), (2388, 0.011982745717076951), (1592, 0.011978687374337183), (840, 0.011968399573076112), (1188, 0.011960608174479224), (815, 0.011941188832396749), (1102, 0.01193990359665786), (250, 0.01192646120926156), (2577, 0.011915016375743383), (548, 0.011903519729745654), (1811, 0.011901016475853513), (1573, 0.011866338428632028), (602, 0.01186250640378118), (671, 0.011846632459248883), (378, 0.011818851420030753), (1553, 0.011767314431866521), (2476, 0.011762804585110713), (1038, 0.011755642202512188), (2137, 0.011751159512547188), (2113, 0.011748917257968183), (1982, 0.011697335895994072), (52, 0.011668515686188248), (1025, 0.011662993225679558), (1507, 0.011662004943562345), (2289, 0.011612569624150184), (2051, 0.011602023200721436), (1957, 0.01159400235180161), (1124, 0.011558170246463694), (2608, 0.01153493760717797), (2427, 0.011523545321104632), (1192, 0.011511594651849947), (2243, 0.011509450957839024), (1509, 0.011504814961891766), (2327, 0.011457023302525234), (911, 0.01144482034766957), (1603, 0.011441776696788798), (728, 0.011436631572620861), (2080, 0.011423301721436092), (545, 0.011380815282862609), (461, 0.011369298657220207), (1800, 0.011363665325799539), (591, 0.011362481767224568), (1150, 0.01134367182472716), (1743, 0.011329885060591969), (2352, 0.011312224155441144), (1227, 0.011305074248229347), (1006, 0.01130489766547632), (1999, 0.011292210197712435), (315, 0.011277896177522955), (37, 0.011248054911584836), (950, 0.011219526841130627), (2175, 0.011208173392685091), (1250, 0.011201847915795008), (931, 0.011165159386369175), (2572, 0.011155453326150883), (1210, 0.011141031172318178), (2014, 0.01113996330828979), (1307, 0.011139003772822563), (2276, 0.011109485801137518), (143, 0.011103439759482914), (2796, 0.011072647905359811), (1403, 0.011072641957154811), (2249, 0.011068912185594833), (2633, 0.011068174987696536), (682, 0.011065998286971903), (586, 0.0110656607040345), (959, 0.011054605777376615), (113, 0.011048283018832655), (2685, 0.011044991126079632), (454, 0.011020866035683688), (1030, 0.011016711912428655), (1806, 0.011015901276149417), (1213, 0.011013239056797977), (1061, 0.0110087329590245), (941, 0.011004122928943786), (297, 0.010993451014531062), (1063, 0.010982050748644076), (1975, 0.010980451790518092), (48, 0.010980187284494172), (276, 0.010973743445727824), (2358, 0.010966404234751353), (960, 0.010953874777829954), (1526, 0.010941576963909844), (379, 0.010937384484006777), (2156, 0.010933302595713196), (1644, 0.01090220344219227), (1300, 0.010892818643476385), (1225, 0.01089007725110268), (762, 0.010888952683814167), (1302, 0.010827371341788312), (326, 0.010800543396265188), (2329, 0.010795929024725787), (2898, 0.0107313918519877), (787, 0.010720908207738808), (1912, 0.010699817505345037), (2686, 0.010696553726282733), (2255, 0.01067446609030451), (1322, 0.010670873295616912), (2170, 0.010618397300059916), (1345, 0.010549298138765754), (87, 0.010544517203796726), (667, 0.010540196577471067), (1298, 0.010530300301736356), (1109, 0.01050739129636722), (1216, 0.010487973564882323), (789, 0.010485330222528483), (851, 0.010482552385058956), (723, 0.010480318676179415), (1735, 0.01043949756464869), (1794, 0.01043205092460022), (2121, 0.01041213576350046), (191, 0.010378328657961915), (1279, 0.010367019729377449), (513, 0.01034774216726292), (2755, 0.010341046849565251), (341, 0.010322442907919041), (1212, 0.010313926762701708), (1853, 0.010308387355926943), (1764, 0.010247916980671953), (15, 0.010232213826183653), (1630, 0.010227885972753792), (138, 0.010224007290670141), (175, 0.010169338707478862), (1286, 0.010166764773892228), (2566, 0.010165886911435495), (1768, 0.010135040193815085), (2129, 0.01004365333055572), (2873, 0.010007485576798964), (2366, 0.00998754515051993), (63, 0.00992576547301784), (2551, 0.00992108126112662), (2337, 0.009894023576201044), (1591, 0.009882737217990373), (2219, 0.00986109049170145), (2732, 0.009855070710973315), (114, 0.009821781606995837), (2661, 0.009818202888032512), (2774, 0.009805488437495968), (2678, 0.009802958536404057), (515, 0.00979879188733759), (781, 0.009791352300555112), (1400, 0.009776784938938798), (1378, 0.009774658342956061), (2801, 0.009765347150561305), (2441, 0.009761261578819855), (293, 0.009727081794476814), (2794, 0.009725026845484657), (1611, 0.009677764727679748), (2886, 0.009650833823729475), (2417, 0.00950158255375117), (1807, 0.009476747091594167), (2729, 0.009436535108791808), (2306, 0.009423596198250034), (1453, 0.00941793960817464), (1668, 0.009409435999516609), (2404, 0.009374358858754681), (1405, 0.009360697913257417), (2025, 0.009320475660001399), (2187, 0.009318041812037117), (932, 0.00930821729740799), (2346, 0.00928205879253436), (2561, 0.009238184148845124), (368, 0.009187815504911667), (1942, 0.00918104965759423), (2357, 0.009169206270293252), (1199, 0.009164790319844544), (2747, 0.009141021030804091), (1527, 0.009107747976226018), (1575, 0.00906701500044057), (2553, 0.008925873808272524), (2784, 0.008820504931602084), (2278, 0.00878785778489833), (292, 0.00876504351348943), (1934, 0.008550569149690388), (337, 0.008538535543889149), (1852, 0.008517124303247314), (633, 0.008484976488067272), (1046, 0.008416590996760365), (448, 0.00814074815652662), (2001, 0.007847037213310383), (1977, 0.007834296201601114), (1267, 0.007745670603653123), (2687, 0.007743165635989586), (1258, 0.007733875842033882), (109, 0.007705587195856174), (489, 0.007647686809998064), (2011, 0.007637352279374642), (1368, 0.007626106503220221), (2634, 0.007558578556301901), (2754, 0.007504814609627219), (1268, 0.007501716967534927), (1569, 0.007473975702988438), (1288, 0.007398410795338339), (2867, 0.007350607014647427), (561, 0.007347134133219909), (796, 0.007326194863023261), (323, 0.007316763920299685), (1772, 0.007204331100398482), (2882, 0.007139872520627795), (540, 0.007080274393189083), (1801, 0.007066042664710422), (1919, 0.00704799951427999), (1937, 0.006974274938667639), (2321, 0.006913501115361553), (2728, 0.006862239878687451), (2617, 0.006830307849775346), (2707, 0.006809041180064619), (1183, 0.006787677026659734), (1692, 0.006711066886430141), (2222, 0.006666298931967084), (2614, 0.0065747877917461915), (2055, 0.006537878212939143), (2252, 0.006496984145406895), (2855, 0.0064713889864236925), (58, 0.006460203296720796), (916, 0.006448472075212461), (534, 0.00641537239605778), (1593, 0.006394197767202824), (2695, 0.006391954667098182), (1358, 0.006381323415379484), (1895, 0.006372895799199836), (1166, 0.006368083116894457), (2768, 0.006367805093685109), (1862, 0.006361587270926564), (2523, 0.006359267484703996), (2347, 0.00633076233159005), (226, 0.006321899313386486), (2322, 0.006311259260001786), (1978, 0.0063012365045349746), (219, 0.006301170727090936), (998, 0.0062959144770613484), (869, 0.006290648940616378), (2423, 0.006285988301955052), (345, 0.0062796762963791795), (2890, 0.006275353115082401), (738, 0.0062692614004216584), (1704, 0.006262954866477098), (986, 0.006251315352064174), (2211, 0.006251306404158156), (2356, 0.006236803590299402), (2071, 0.0062301655647996335), (437, 0.006229334235858537), (649, 0.006229197934448054), (2341, 0.006198570534645822), (2481, 0.006193521041512688), (2763, 0.006185419143622985), (760, 0.006166933185323321), (438, 0.0061647526151189114), (2122, 0.006163548773685114), (1371, 0.0061496876689414535), (2872, 0.00612163303782639), (362, 0.006112089190687275), (1173, 0.006111067994599387), (1774, 0.006101861032159346), (1197, 0.006100613960821072), (2472, 0.006088146052781117), (1755, 0.006077515051621034), (1162, 0.0060735507019014), (1335, 0.00607149472802581), (1042, 0.006071367302152854), (2691, 0.0060529503351038775), (2895, 0.006048478290458969), (1469, 0.0060450933713682205), (2128, 0.006041131453477762), (822, 0.006030775050626178), (319, 0.006022029712029835), (1732, 0.006017543751560165), (2287, 0.0060143119603301085), (1256, 0.006002809141484876), (1475, 0.006001989133082986), (1309, 0.005977637322531155), (1879, 0.005972854278179552), (2031, 0.0059596027904015745), (917, 0.005958588252031157), (1776, 0.0059488971492901365), (251, 0.005946468085812082), (436, 0.005941879782523298), (248, 0.005938102455082187), (1779, 0.005934966719341879), (2393, 0.005925592699686831), (1012, 0.005924633512116301), (434, 0.005920897858155778), (1572, 0.005914385103346087), (1641, 0.005906087230120288), (971, 0.005897543501305438), (1629, 0.005891133296558714), (1088, 0.005880536277597931), (2856, 0.00587887474175189), (2392, 0.005877551609839763), (2451, 0.005877335461865469), (829, 0.005871654388519337), (748, 0.00586899785637142), (298, 0.005865704676783597), (2059, 0.005857313512024475), (2848, 0.005850509324860903), (2650, 0.005846896865320763), (2279, 0.005839519695857599), (2139, 0.005831649607165798), (1427, 0.005807976256663403), (311, 0.005801426436220035), (735, 0.005800419167527856), (103, 0.005791731484675884), (164, 0.005788831094372366), (2442, 0.005787440743675753), (885, 0.005782836036275662), (596, 0.005768728531020697), (2098, 0.005764390847888698), (2041, 0.005761787721364365), (1646, 0.005755506598023348), (1858, 0.005753349360529762), (2245, 0.005751782965881816), (567, 0.005748708738806056), (167, 0.00572591279641678), (2611, 0.0057227853963288155), (2618, 0.005719548639622939), (370, 0.005719009935810362), (2414, 0.005717493522512012), (2107, 0.0057157899117163844), (252, 0.0057122698115781405), (857, 0.005711418768982848), (726, 0.005706284489216529), (1466, 0.005704270747988303), (2482, 0.0057031460394226866), (1991, 0.005698259676640518), (2301, 0.005696675280737318), (2315, 0.005689871648139238), (2879, 0.005688584215811542), (2233, 0.005688499366026796), (2767, 0.0056844527956250186), (2426, 0.005684270511076458), (427, 0.005683157068633413), (394, 0.00568198183200946), (804, 0.005681059619042393), (2804, 0.005677674697511322), (2248, 0.00567723548154743), (2420, 0.005676053382287964), (1340, 0.005668144607224383), (1048, 0.005665353360903727), (306, 0.005663576429633808), (1261, 0.00565945448462509), (2862, 0.005658471514871639), (1385, 0.00565753249455045), (887, 0.005654243062777327), (2214, 0.005634321978210732), (198, 0.005631898898272288), (2487, 0.005621796300976915), (2642, 0.005617917266289104), (1688, 0.005616080629935491), (1744, 0.005614313402762551), (1737, 0.005612660484600136), (2531, 0.0056113065504017), (1515, 0.005611136984413549), (925, 0.005610074961197381), (700, 0.005608466766887452), (906, 0.0056078027574145975), (2342, 0.005602685207417025), (2034, 0.005601592305660968), (2896, 0.005600578770357657), (664, 0.005596772989612309), (594, 0.005594313500436787), (2364, 0.005581882051454581), (2362, 0.00558078914606707), (1673, 0.005579957982798503), (685, 0.005579820076544737), (1751, 0.005578441632421492), (981, 0.0055696434879997), (2174, 0.005568753973324363), (1420, 0.0055649218451589), (1683, 0.005562433791341104), (2110, 0.0055594821561964405), (2720, 0.005557988461710692), (1050, 0.005551588719841843), (1757, 0.005547469301681343), (70, 0.0055439288068598975), (1690, 0.0055425346828817884), (2412, 0.005535109259027187), (1548, 0.0055311463155037115), (2197, 0.005530837281996556), (868, 0.005526199889449781), (1113, 0.005524736934673318), (1339, 0.005510264551825955), (1532, 0.005506806302153229), (2598, 0.005504734974237002), (1929, 0.005501689193845007), (2810, 0.00549685712742174), (2738, 0.005494055960748), (1739, 0.005489263601269293), (1043, 0.005487978809318956), (2000, 0.005487844557652289), (623, 0.005482181663275251), (1560, 0.005476249257661128), (2880, 0.005472992646338105), (1865, 0.005472375151081809), (414, 0.005471810014735086), (783, 0.005468360866224857), (1297, 0.005467977771902035), (641, 0.005465453087837916), (1329, 0.005464813817033005), (402, 0.005464063978553311), (1910, 0.005463389826419994), (2504, 0.005460831284563524), (1719, 0.005455465406845363), (933, 0.005449592138958876), (2166, 0.0054457383504983884), (1189, 0.0054446861318420536), (2475, 0.005443635789715431), (2812, 0.005440781880395363), (1783, 0.005440605991248256), (1324, 0.00543979935480533), (1880, 0.005439394387542535), (1276, 0.005436822778534743), (1988, 0.005434438790401836), (1574, 0.005434316550140354), (978, 0.005433454570520106), (241, 0.005433027510436232), (811, 0.005429138724644383), (150, 0.005427410293093055), (2264, 0.005419438837057178), (996, 0.005415121084147664), (2625, 0.005411466163917588), (782, 0.005408159841316102), (888, 0.005405891169017553), (2048, 0.005404674165937712), (2559, 0.005403486235249272), (2102, 0.005401277866348224), (2153, 0.0053994973514668995), (472, 0.005398469431960084), (1355, 0.005395168633481996), (1493, 0.005394640800268478), (2179, 0.005388023030103436), (2603, 0.005386077740528756), (910, 0.005381937841343037), (321, 0.00538171595730721), (756, 0.005381318990575269), (1972, 0.0053797119437261195), (2889, 0.00537847466569575), (2458, 0.005372660038738356), (1436, 0.00537234933595009), (1832, 0.005367301275428808), (1631, 0.0053670283522634366), (18, 0.0053559108676013096), (1833, 0.0053537863289618145), (1798, 0.005352677929233151), (1756, 0.005348260649331082), (2554, 0.005338550848720476), (1784, 0.005336756254173012), (2090, 0.005336081182466127), (1123, 0.0053337152480955625), (551, 0.005323360671648529), (1606, 0.00532132592672605), (2605, 0.005320285733999233), (2457, 0.005317291579083991), (1364, 0.005316848605760005), (1416, 0.005312726648919295), (1229, 0.0053122157153277895), (2528, 0.005293006137098028), (1334, 0.005291163690831555), (2311, 0.00528792954950312), (2871, 0.005281574579594011), (349, 0.00527774557184737), (410, 0.005268390428827375), (416, 0.005265088223032016), (1100, 0.005262973776699718), (1566, 0.005260783386887975), (652, 0.005254015825373663), (2828, 0.0052510019886836444), (2840, 0.005239616132666281), (2683, 0.0052384668985724124), (1648, 0.005236719579629732), (2689, 0.005235238803630282), (1072, 0.00523418959030901), (2797, 0.005232270823465884), (1163, 0.005231865681128774), (2196, 0.005230140483327594), (1356, 0.005229118562208286), (2489, 0.0052221582657300415), (2651, 0.005216066371562447), (1973, 0.005215523968088089), (2225, 0.005213397852529707), (445, 0.005211249324258937), (2560, 0.005211197755283649), (2155, 0.0052088081811836094), (886, 0.005207595372801839), (2228, 0.0052027146029527726), (2324, 0.005199040683340073), (2668, 0.005198490125793869), (2355, 0.005197481418774745), (705, 0.005194522570204278), (238, 0.00519369533608833), (1619, 0.005193368134498182), (1260, 0.005190029536879605), (1585, 0.005185114697913361), (948, 0.005178857878351775), (285, 0.005177169237322676), (1571, 0.005171183925289351), (2715, 0.005168686407361554), (1854, 0.005168515895404679), (2223, 0.005167181195148992), (1315, 0.005165948155720735), (1705, 0.005163838170023048), (1014, 0.005151103630575285), (531, 0.005143578952415858), (1992, 0.0051417659463267595), (1896, 0.005135580993555212), (1689, 0.005133866847283267), (2078, 0.005129673784589836), (1970, 0.005125134809337811), (342, 0.0051238245586126925), (2881, 0.005122498227030751), (1927, 0.0051198778000097695), (2418, 0.00511650579427295), (721, 0.005115097574871436), (2204, 0.0051145823700156036), (817, 0.005113186858326411), (1638, 0.005111754291547933), (2099, 0.005105839616270541), (2140, 0.005101172249452223), (1577, 0.005094391472312209), (1944, 0.005093935508511663), (2850, 0.0050928485124508765), (1655, 0.005092513746352425), (792, 0.005089415407136582), (375, 0.005085699089628838), (616, 0.005080924032887525), (2334, 0.005080224358995555), (2579, 0.005079875632508688), (1430, 0.005078111613524664), (1771, 0.0050761794962493716), (615, 0.005071525658855326), (1207, 0.005069074811880296), (1843, 0.005066127767335846), (2206, 0.005065712422099656), (847, 0.005064724717472371), (1821, 0.005064703279947), (1361, 0.005062171373201502), (997, 0.005058750178250844), (1232, 0.005057725273247037), (802, 0.005054838414620048), (1130, 0.005053840049109733), (1539, 0.0050401355892272974), (1708, 0.00503376119945594), (1782, 0.005031422916787992), (2408, 0.005030298932234795), (1016, 0.005027652536432105), (2132, 0.005027285369313383), (2194, 0.0050226500684192), (2338, 0.005015643442607573), (2477, 0.005014605537826054), (2319, 0.005010892837747021), (2698, 0.0050007150608547485), (2126, 0.004999964201905538), (1549, 0.004991619301957611), (1981, 0.004987419346834221), (1589, 0.004984886830241516), (2612, 0.004980187992109486), (2478, 0.004976488896235265), (2718, 0.004976231195567901), (1567, 0.004970872099816749), (1736, 0.004970170726058249), (2216, 0.004963353201226176), (1867, 0.004954933385407069), (417, 0.004953702403901634), (1299, 0.004951327579545952), (520, 0.00494535210445576), (2039, 0.004945003734012619), (1882, 0.004940286965035906), (2210, 0.004930209535826414), (1435, 0.00492944518790646), (186, 0.00492754799632095), (683, 0.00492171965893404), (2518, 0.0049197976538700285), (914, 0.0049153657880121856), (2564, 0.004911014090520718), (552, 0.004906802184697549), (894, 0.0049037036530712955), (681, 0.00489740770238536), (1538, 0.00489296251196227), (1031, 0.004888583795985635), (1262, 0.004887651837326744), (1244, 0.0048873059272632035), (1180, 0.004881510028255283), (1463, 0.004880517529098661), (2759, 0.004879525690260523), (2331, 0.004878741829723274), (1184, 0.004878606168649793), (2310, 0.004870305720411707), (2834, 0.004858269263436374), (1966, 0.00485742919226234), (2739, 0.004851073871111371), (1217, 0.004847791592163514), (1366, 0.00484675493538069), (1428, 0.004838245219828489), (1578, 0.004822227085709671), (1883, 0.004822208567442646), (2508, 0.0048220164474600796), (846, 0.004817354576476458), (1964, 0.0047807245174013675), (2758, 0.004779712587025838), (2159, 0.00477786087726768), (618, 0.004775086676807392), (1793, 0.004769927165502312), (2263, 0.0047551833610863774), (1971, 0.0047516174809288944), (1140, 0.004737852462322688), (1861, 0.004735006559015171), (1876, 0.0047319212334480006), (1996, 0.004730845180331851), (1626, 0.0047297728021156666), (831, 0.004724155958538617), (2106, 0.0047227481323791785), (1936, 0.0047056888357869765), (1003, 0.004699764462607843), (1138, 0.0046989630287477685), (2431, 0.004695064952785575), (1085, 0.0046918964503323835), (630, 0.004680721927511455), (2803, 0.0046711310721569395), (1685, 0.004664749154104089), (2822, 0.004657737319316401), (2727, 0.004649639717168055), (1414, 0.0046425876736185786), (395, 0.004633955017178352), (2659, 0.004609186963886308), (2469, 0.0045891868240679), (1622, 0.00458615095186553), (1126, 0.0045822174628105195), (1888, 0.004563899212352445), (1700, 0.004545643958649395), (2597, 0.004544416977546808), (2033, 0.004536514023554475), (2624, 0.004530430938917971), (1128, 0.00451982023701467), (1878, 0.004505600595194252), (2164, 0.004502842362379042), (2616, 0.004495089580687328), (353, 0.004484372414708928), (2221, 0.0044831910664974006), (1534, 0.004467656956687883), (1296, 0.004461138307750249), (2544, 0.004458966700447301), (1716, 0.004443951085918588), (1017, 0.004434901655953305), (1274, 0.004433649232091051), (780, 0.004400516177635286), (2461, 0.004384208395986863), (2042, 0.004367354450487167), (2092, 0.004365081189607176), (1024, 0.004359375816664238), (1558, 0.004346194525744591), (1778, 0.004335608060448147), (411, 0.004293645595592643), (1890, 0.0042859869291944465), (2184, 0.004280606523564816), (1026, 0.004247356723520245), (673, 0.004179112200031834), (2677, 0.004105088933978817), (2407, 0.004059089414652086), (1967, 0.004055597717175702), (1480, 0.0035419606807994687), (0, 0.0), (1, 0.0), (2, 0.0), (4, 0.0), (5, 0.0), (7, 0.0), (9, 0.0), (10, 0.0), (11, 0.0), (12, 0.0), (13, 0.0), (14, 0.0), (16, 0.0), (17, 0.0), (19, 0.0), (20, 0.0), (21, 0.0), (22, 0.0), (23, 0.0), (25, 0.0), (26, 0.0), (27, 0.0), (28, 0.0), (29, 0.0), (33, 0.0), (35, 0.0), (36, 0.0), (38, 0.0), (39, 0.0), (43, 0.0), (44, 0.0), (45, 0.0), (46, 0.0), (49, 0.0), (50, 0.0), (51, 0.0), (56, 0.0), (61, 0.0), (62, 0.0), (64, 0.0), (65, 0.0), (68, 0.0), (72, 0.0), (75, 0.0), (80, 0.0), (82, 0.0), (83, 0.0), (84, 0.0), (85, 0.0), (91, 0.0), (93, 0.0), (94, 0.0), (95, 0.0), (97, 0.0), (98, 0.0), (99, 0.0), (100, 0.0), (101, 0.0), (102, 0.0), (104, 0.0), (105, 0.0), (107, 0.0), (108, 0.0), (110, 0.0), (112, 0.0), (115, 0.0), (116, 0.0), (119, 0.0), (122, 0.0), (123, 0.0), (125, 0.0), (132, 0.0), (135, 0.0), (140, 0.0), (145, 0.0), (147, 0.0), (149, 0.0), (158, 0.0), (159, 0.0), (161, 0.0), (162, 0.0), (163, 0.0), (165, 0.0), (166, 0.0), (169, 0.0), (170, 0.0), (171, 0.0), (172, 0.0), (180, 0.0), (183, 0.0), (188, 0.0), (189, 0.0), (192, 0.0), (193, 0.0), (199, 0.0), (200, 0.0), (203, 0.0), (204, 0.0), (205, 0.0), (206, 0.0), (207, 0.0), (209, 0.0), (210, 0.0), (212, 0.0), (216, 0.0), (217, 0.0), (218, 0.0), (220, 0.0), (222, 0.0), (223, 0.0), (224, 0.0), (229, 0.0), (230, 0.0), (232, 0.0), (233, 0.0), (237, 0.0), (240, 0.0), (242, 0.0), (244, 0.0), (245, 0.0), (246, 0.0), (247, 0.0), (249, 0.0), (253, 0.0), (256, 0.0), (259, 0.0), (260, 0.0), (261, 0.0), (262, 0.0), (264, 0.0), (266, 0.0), (267, 0.0), (270, 0.0), (271, 0.0), (273, 0.0), (274, 0.0), (277, 0.0), (279, 0.0), (280, 0.0), (281, 0.0), (286, 0.0), (290, 0.0), (291, 0.0), (295, 0.0), (296, 0.0), (300, 0.0), (303, 0.0), (307, 0.0), (308, 0.0), (310, 0.0), (312, 0.0), (314, 0.0), (316, 0.0), (317, 0.0), (322, 0.0), (327, 0.0), (329, 0.0), (330, 0.0), (331, 0.0), (332, 0.0), (333, 0.0), (334, 0.0), (340, 0.0), (344, 0.0), (346, 0.0), (354, 0.0), (356, 0.0), (357, 0.0), (363, 0.0), (366, 0.0), (367, 0.0), (369, 0.0), (371, 0.0), (372, 0.0), (377, 0.0), (382, 0.0), (383, 0.0), (386, 0.0), (387, 0.0), (388, 0.0), (389, 0.0), (392, 0.0), (396, 0.0), (398, 0.0), (400, 0.0), (401, 0.0), (404, 0.0), (405, 0.0), (407, 0.0), (409, 0.0), (412, 0.0), (415, 0.0), (419, 0.0), (421, 0.0), (422, 0.0), (424, 0.0), (426, 0.0), (432, 0.0), (439, 0.0), (449, 0.0), (451, 0.0), (455, 0.0), (456, 0.0), (462, 0.0), (463, 0.0), (466, 0.0), (469, 0.0), (470, 0.0), (475, 0.0), (476, 0.0), (478, 0.0), (482, 0.0), (483, 0.0), (486, 0.0), (490, 0.0), (491, 0.0), (493, 0.0), (495, 0.0), (497, 0.0), (498, 0.0), (502, 0.0), (505, 0.0), (507, 0.0), (508, 0.0), (510, 0.0), (511, 0.0), (512, 0.0), (517, 0.0), (519, 0.0), (523, 0.0), (526, 0.0), (528, 0.0), (529, 0.0), (535, 0.0), (537, 0.0), (538, 0.0), (541, 0.0), (542, 0.0), (547, 0.0), (549, 0.0), (553, 0.0), (556, 0.0), (557, 0.0), (560, 0.0), (562, 0.0), (564, 0.0), (568, 0.0), (570, 0.0), (571, 0.0), (573, 0.0), (574, 0.0), (576, 0.0), (577, 0.0), (580, 0.0), (581, 0.0), (584, 0.0), (587, 0.0), (588, 0.0), (589, 0.0), (590, 0.0), (592, 0.0), (595, 0.0), (597, 0.0), (599, 0.0), (600, 0.0), (603, 0.0), (606, 0.0), (607, 0.0), (608, 0.0), (610, 0.0), (611, 0.0), (612, 0.0), (613, 0.0), (617, 0.0), (620, 0.0), (621, 0.0), (622, 0.0), (624, 0.0), (625, 0.0), (627, 0.0), (629, 0.0), (634, 0.0), (640, 0.0), (642, 0.0), (643, 0.0), (647, 0.0), (648, 0.0), (654, 0.0), (657, 0.0), (660, 0.0), (662, 0.0), (663, 0.0), (666, 0.0), (668, 0.0), (669, 0.0), (670, 0.0), (675, 0.0), (676, 0.0), (677, 0.0), (680, 0.0), (684, 0.0), (687, 0.0), (694, 0.0), (702, 0.0), (708, 0.0), (709, 0.0), (712, 0.0), (713, 0.0), (715, 0.0), (718, 0.0), (719, 0.0), (720, 0.0), (724, 0.0), (731, 0.0), (733, 0.0), (736, 0.0), (737, 0.0), (739, 0.0), (740, 0.0), (741, 0.0), (746, 0.0), (747, 0.0), (749, 0.0), (750, 0.0), (753, 0.0), (755, 0.0), (761, 0.0), (763, 0.0), (764, 0.0), (767, 0.0), (768, 0.0), (770, 0.0), (772, 0.0), (773, 0.0), (774, 0.0), (775, 0.0), (776, 0.0), (777, 0.0), (785, 0.0), (786, 0.0), (790, 0.0), (794, 0.0), (800, 0.0), (801, 0.0), (803, 0.0), (805, 0.0), (808, 0.0), (813, 0.0), (821, 0.0), (823, 0.0), (824, 0.0), (825, 0.0), (826, 0.0), (827, 0.0), (828, 0.0), (830, 0.0), (836, 0.0), (838, 0.0), (839, 0.0), (845, 0.0), (850, 0.0), (852, 0.0), (854, 0.0), (855, 0.0), (856, 0.0), (860, 0.0), (861, 0.0), (862, 0.0), (864, 0.0), (865, 0.0), (866, 0.0), (867, 0.0), (870, 0.0), (871, 0.0), (872, 0.0), (877, 0.0), (879, 0.0), (880, 0.0), (881, 0.0), (882, 0.0), (884, 0.0), (898, 0.0), (901, 0.0), (908, 0.0), (909, 0.0), (915, 0.0), (918, 0.0), (919, 0.0), (922, 0.0), (928, 0.0), (929, 0.0), (930, 0.0), (936, 0.0), (937, 0.0), (938, 0.0), (940, 0.0), (943, 0.0), (944, 0.0), (945, 0.0), (946, 0.0), (947, 0.0), (951, 0.0), (954, 0.0), (955, 0.0), (956, 0.0), (961, 0.0), (963, 0.0), (965, 0.0), (967, 0.0), (968, 0.0), (969, 0.0), (970, 0.0), (972, 0.0), (974, 0.0), (979, 0.0), (980, 0.0), (982, 0.0), (983, 0.0), (990, 0.0), (991, 0.0), (992, 0.0), (993, 0.0), (995, 0.0), (1000, 0.0), (1001, 0.0), (1002, 0.0), (1007, 0.0), (1008, 0.0), (1009, 0.0), (1010, 0.0), (1011, 0.0), (1015, 0.0), (1018, 0.0), (1019, 0.0), (1020, 0.0), (1023, 0.0), (1027, 0.0), (1028, 0.0), (1033, 0.0), (1034, 0.0), (1036, 0.0), (1039, 0.0), (1041, 0.0), (1049, 0.0), (1051, 0.0), (1056, 0.0), (1057, 0.0), (1058, 0.0), (1059, 0.0), (1064, 0.0), (1070, 0.0), (1075, 0.0), (1076, 0.0), (1079, 0.0), (1082, 0.0), (1083, 0.0), (1087, 0.0), (1089, 0.0), (1090, 0.0), (1093, 0.0), (1095, 0.0), (1096, 0.0), (1098, 0.0), (1099, 0.0), (1103, 0.0), (1104, 0.0), (1106, 0.0), (1107, 0.0), (1110, 0.0), (1111, 0.0), (1112, 0.0), (1114, 0.0), (1117, 0.0), (1118, 0.0), (1125, 0.0), (1129, 0.0), (1132, 0.0), (1135, 0.0), (1136, 0.0), (1139, 0.0), (1141, 0.0), (1143, 0.0), (1145, 0.0), (1146, 0.0), (1149, 0.0), (1151, 0.0), (1153, 0.0), (1154, 0.0), (1156, 0.0), (1158, 0.0), (1160, 0.0), (1164, 0.0), (1167, 0.0), (1168, 0.0), (1169, 0.0), (1170, 0.0), (1175, 0.0), (1176, 0.0), (1177, 0.0), (1178, 0.0), (1181, 0.0), (1194, 0.0), (1195, 0.0), (1196, 0.0), (1201, 0.0), (1204, 0.0), (1208, 0.0), (1209, 0.0), (1211, 0.0), (1215, 0.0), (1219, 0.0), (1220, 0.0), (1221, 0.0), (1224, 0.0), (1234, 0.0), (1235, 0.0), (1236, 0.0), (1241, 0.0), (1242, 0.0), (1245, 0.0), (1247, 0.0), (1248, 0.0), (1249, 0.0), (1251, 0.0), (1252, 0.0), (1253, 0.0), (1254, 0.0), (1265, 0.0), (1269, 0.0), (1272, 0.0), (1273, 0.0), (1275, 0.0), (1278, 0.0), (1280, 0.0), (1281, 0.0), (1282, 0.0), (1284, 0.0), (1285, 0.0), (1289, 0.0), (1290, 0.0), (1291, 0.0), (1294, 0.0), (1295, 0.0), (1303, 0.0), (1304, 0.0), (1305, 0.0), (1308, 0.0), (1313, 0.0), (1314, 0.0), (1316, 0.0), (1319, 0.0), (1320, 0.0), (1321, 0.0), (1323, 0.0), (1325, 0.0), (1326, 0.0), (1327, 0.0), (1328, 0.0), (1332, 0.0), (1337, 0.0), (1338, 0.0), (1341, 0.0), (1342, 0.0), (1343, 0.0), (1347, 0.0), (1349, 0.0), (1350, 0.0), (1351, 0.0), (1352, 0.0), (1357, 0.0), (1360, 0.0), (1365, 0.0), (1367, 0.0), (1373, 0.0), (1374, 0.0), (1377, 0.0), (1379, 0.0), (1387, 0.0), (1390, 0.0), (1394, 0.0), (1395, 0.0), (1396, 0.0), (1399, 0.0), (1404, 0.0), (1406, 0.0), (1407, 0.0), (1408, 0.0), (1409, 0.0), (1410, 0.0), (1411, 0.0), (1412, 0.0), (1415, 0.0), (1419, 0.0), (1422, 0.0), (1424, 0.0), (1431, 0.0), (1433, 0.0), (1434, 0.0), (1437, 0.0), (1438, 0.0), (1442, 0.0), (1443, 0.0), (1446, 0.0), (1447, 0.0), (1448, 0.0), (1449, 0.0), (1450, 0.0), (1452, 0.0), (1456, 0.0), (1458, 0.0), (1459, 0.0), (1460, 0.0), (1464, 0.0), (1465, 0.0), (1467, 0.0), (1468, 0.0), (1470, 0.0), (1472, 0.0), (1473, 0.0), (1474, 0.0), (1476, 0.0), (1477, 0.0), (1479, 0.0), (1482, 0.0), (1483, 0.0), (1484, 0.0), (1487, 0.0), (1490, 0.0), (1491, 0.0), (1492, 0.0), (1501, 0.0), (1502, 0.0), (1506, 0.0), (1513, 0.0), (1514, 0.0), (1517, 0.0), (1518, 0.0), (1523, 0.0), (1525, 0.0), (1528, 0.0), (1529, 0.0), (1531, 0.0), (1533, 0.0), (1542, 0.0), (1543, 0.0), (1545, 0.0), (1547, 0.0), (1554, 0.0), (1557, 0.0), (1559, 0.0), (1563, 0.0), (1564, 0.0), (1565, 0.0), (1568, 0.0), (1581, 0.0), (1583, 0.0), (1588, 0.0), (1590, 0.0), (1595, 0.0), (1596, 0.0), (1597, 0.0), (1598, 0.0), (1599, 0.0), (1601, 0.0), (1604, 0.0), (1605, 0.0), (1613, 0.0), (1615, 0.0), (1618, 0.0), (1625, 0.0), (1627, 0.0), (1628, 0.0), (1632, 0.0), (1634, 0.0), (1635, 0.0), (1639, 0.0), (1640, 0.0), (1642, 0.0), (1645, 0.0), (1647, 0.0), (1649, 0.0), (1650, 0.0), (1652, 0.0), (1653, 0.0), (1654, 0.0), (1657, 0.0), (1658, 0.0), (1660, 0.0), (1662, 0.0), (1663, 0.0), (1664, 0.0), (1665, 0.0), (1666, 0.0), (1667, 0.0), (1669, 0.0), (1670, 0.0), (1671, 0.0), (1672, 0.0), (1674, 0.0), (1675, 0.0), (1677, 0.0), (1684, 0.0), (1687, 0.0), (1696, 0.0), (1697, 0.0), (1699, 0.0), (1701, 0.0), (1706, 0.0), (1707, 0.0), (1715, 0.0), (1717, 0.0), (1720, 0.0), (1722, 0.0), (1724, 0.0), (1725, 0.0), (1727, 0.0), (1728, 0.0), (1730, 0.0), (1738, 0.0), (1741, 0.0), (1742, 0.0), (1745, 0.0), (1747, 0.0), (1748, 0.0), (1749, 0.0), (1750, 0.0), (1752, 0.0), (1758, 0.0), (1759, 0.0), (1760, 0.0), (1762, 0.0), (1763, 0.0), (1765, 0.0), (1766, 0.0), (1767, 0.0), (1770, 0.0), (1773, 0.0), (1775, 0.0), (1781, 0.0), (1785, 0.0), (1786, 0.0), (1787, 0.0), (1788, 0.0), (1789, 0.0), (1791, 0.0), (1792, 0.0), (1799, 0.0), (1802, 0.0), (1803, 0.0), (1808, 0.0), (1809, 0.0), (1813, 0.0), (1814, 0.0), (1815, 0.0), (1816, 0.0), (1817, 0.0), (1818, 0.0), (1819, 0.0), (1820, 0.0), (1822, 0.0), (1823, 0.0), (1824, 0.0), (1826, 0.0), (1828, 0.0), (1829, 0.0), (1836, 0.0), (1837, 0.0), (1838, 0.0), (1839, 0.0), (1840, 0.0), (1842, 0.0), (1844, 0.0), (1847, 0.0), (1848, 0.0), (1850, 0.0), (1855, 0.0), (1860, 0.0), (1863, 0.0), (1864, 0.0), (1866, 0.0), (1869, 0.0), (1872, 0.0), (1874, 0.0), (1875, 0.0), (1877, 0.0), (1891, 0.0), (1892, 0.0), (1893, 0.0), (1899, 0.0), (1902, 0.0), (1907, 0.0), (1911, 0.0), (1914, 0.0), (1915, 0.0), (1917, 0.0), (1921, 0.0), (1923, 0.0), (1924, 0.0), (1925, 0.0), (1926, 0.0), (1928, 0.0), (1930, 0.0), (1938, 0.0), (1939, 0.0), (1941, 0.0), (1943, 0.0), (1949, 0.0), (1952, 0.0), (1953, 0.0), (1954, 0.0), (1955, 0.0), (1956, 0.0), (1959, 0.0), (1960, 0.0), (1961, 0.0), (1962, 0.0), (1968, 0.0), (1974, 0.0), (1985, 0.0), (1990, 0.0), (1993, 0.0), (1994, 0.0), (1997, 0.0), (2002, 0.0), (2003, 0.0), (2004, 0.0), (2008, 0.0), (2009, 0.0), (2010, 0.0), (2012, 0.0), (2013, 0.0), (2016, 0.0), (2017, 0.0), (2026, 0.0), (2027, 0.0), (2028, 0.0), (2029, 0.0), (2030, 0.0), (2035, 0.0), (2040, 0.0), (2043, 0.0), (2047, 0.0), (2050, 0.0), (2052, 0.0), (2053, 0.0), (2056, 0.0), (2057, 0.0), (2060, 0.0), (2066, 0.0), (2072, 0.0), (2073, 0.0), (2074, 0.0), (2075, 0.0), (2076, 0.0), (2079, 0.0), (2082, 0.0), (2087, 0.0), (2091, 0.0), (2094, 0.0), (2096, 0.0), (2100, 0.0), (2105, 0.0), (2109, 0.0), (2111, 0.0), (2117, 0.0), (2118, 0.0), (2120, 0.0), (2124, 0.0), (2130, 0.0), (2131, 0.0), (2133, 0.0), (2138, 0.0), (2141, 0.0), (2143, 0.0), (2146, 0.0), (2149, 0.0), (2151, 0.0), (2154, 0.0), (2157, 0.0), (2160, 0.0), (2167, 0.0), (2168, 0.0), (2172, 0.0), (2178, 0.0), (2180, 0.0), (2181, 0.0), (2186, 0.0), (2191, 0.0), (2192, 0.0), (2193, 0.0), (2195, 0.0), (2198, 0.0), (2200, 0.0), (2203, 0.0), (2205, 0.0), (2227, 0.0), (2229, 0.0), (2230, 0.0), (2234, 0.0), (2236, 0.0), (2237, 0.0), (2240, 0.0), (2241, 0.0), (2242, 0.0), (2244, 0.0), (2246, 0.0), (2251, 0.0), (2253, 0.0), (2254, 0.0), (2257, 0.0), (2259, 0.0), (2260, 0.0), (2261, 0.0), (2265, 0.0), (2267, 0.0), (2268, 0.0), (2269, 0.0), (2271, 0.0), (2273, 0.0), (2274, 0.0), (2277, 0.0), (2282, 0.0), (2284, 0.0), (2286, 0.0), (2288, 0.0), (2291, 0.0), (2293, 0.0), (2295, 0.0), (2296, 0.0), (2297, 0.0), (2300, 0.0), (2302, 0.0), (2304, 0.0), (2305, 0.0), (2309, 0.0), (2317, 0.0), (2320, 0.0), (2332, 0.0), (2336, 0.0), (2340, 0.0), (2343, 0.0), (2345, 0.0), (2348, 0.0), (2350, 0.0), (2353, 0.0), (2354, 0.0), (2360, 0.0), (2365, 0.0), (2367, 0.0), (2370, 0.0), (2372, 0.0), (2373, 0.0), (2374, 0.0), (2375, 0.0), (2377, 0.0), (2378, 0.0), (2379, 0.0), (2380, 0.0), (2381, 0.0), (2382, 0.0), (2383, 0.0), (2384, 0.0), (2385, 0.0), (2387, 0.0), (2390, 0.0), (2391, 0.0), (2395, 0.0), (2398, 0.0), (2399, 0.0), (2401, 0.0), (2402, 0.0), (2403, 0.0), (2413, 0.0), (2416, 0.0), (2419, 0.0), (2421, 0.0), (2425, 0.0), (2429, 0.0), (2430, 0.0), (2433, 0.0), (2434, 0.0), (2435, 0.0), (2438, 0.0), (2439, 0.0), (2444, 0.0), (2447, 0.0), (2450, 0.0), (2452, 0.0), (2453, 0.0), (2456, 0.0), (2460, 0.0), (2462, 0.0), (2463, 0.0), (2465, 0.0), (2470, 0.0), (2474, 0.0), (2484, 0.0), (2486, 0.0), (2490, 0.0), (2491, 0.0), (2493, 0.0), (2498, 0.0), (2499, 0.0), (2502, 0.0), (2503, 0.0), (2505, 0.0), (2507, 0.0), (2515, 0.0), (2516, 0.0), (2519, 0.0), (2520, 0.0), (2521, 0.0), (2526, 0.0), (2529, 0.0), (2532, 0.0), (2533, 0.0), (2539, 0.0), (2541, 0.0), (2542, 0.0), (2543, 0.0), (2545, 0.0), (2546, 0.0), (2547, 0.0), (2550, 0.0), (2552, 0.0), (2555, 0.0), (2557, 0.0), (2558, 0.0), (2567, 0.0), (2568, 0.0), (2571, 0.0), (2573, 0.0), (2575, 0.0), (2581, 0.0), (2582, 0.0), (2583, 0.0), (2584, 0.0), (2585, 0.0), (2586, 0.0), (2587, 0.0), (2588, 0.0), (2591, 0.0), (2592, 0.0), (2593, 0.0), (2595, 0.0), (2599, 0.0), (2602, 0.0), (2604, 0.0), (2609, 0.0), (2610, 0.0), (2622, 0.0), (2623, 0.0), (2627, 0.0), (2628, 0.0), (2630, 0.0), (2631, 0.0), (2632, 0.0), (2637, 0.0), (2638, 0.0), (2639, 0.0), (2640, 0.0), (2641, 0.0), (2643, 0.0), (2644, 0.0), (2645, 0.0), (2646, 0.0), (2647, 0.0), (2648, 0.0), (2649, 0.0), (2652, 0.0), (2656, 0.0), (2657, 0.0), (2662, 0.0), (2664, 0.0), (2665, 0.0), (2666, 0.0), (2667, 0.0), (2670, 0.0), (2673, 0.0), (2674, 0.0), (2675, 0.0), (2676, 0.0), (2688, 0.0), (2693, 0.0), (2696, 0.0), (2697, 0.0), (2700, 0.0), (2701, 0.0), (2702, 0.0), (2703, 0.0), (2705, 0.0), (2706, 0.0), (2708, 0.0), (2709, 0.0), (2710, 0.0), (2711, 0.0), (2714, 0.0), (2717, 0.0), (2719, 0.0), (2721, 0.0), (2723, 0.0), (2724, 0.0), (2725, 0.0), (2726, 0.0), (2730, 0.0), (2733, 0.0), (2734, 0.0), (2736, 0.0), (2742, 0.0), (2743, 0.0), (2750, 0.0), (2751, 0.0), (2752, 0.0), (2757, 0.0), (2764, 0.0), (2765, 0.0), (2769, 0.0), (2770, 0.0), (2772, 0.0), (2773, 0.0), (2776, 0.0), (2777, 0.0), (2778, 0.0), (2779, 0.0), (2780, 0.0), (2782, 0.0), (2783, 0.0), (2787, 0.0), (2788, 0.0), (2789, 0.0), (2790, 0.0), (2791, 0.0), (2792, 0.0), (2795, 0.0), (2798, 0.0), (2806, 0.0), (2808, 0.0), (2815, 0.0), (2819, 0.0), (2825, 0.0), (2829, 0.0), (2830, 0.0), (2832, 0.0), (2836, 0.0), (2837, 0.0), (2838, 0.0), (2842, 0.0), (2843, 0.0), (2845, 0.0), (2849, 0.0), (2853, 0.0), (2857, 0.0), (2860, 0.0), (2863, 0.0), (2866, 0.0), (2868, 0.0), (2874, 0.0), (2875, 0.0), (2877, 0.0), (2878, 0.0), (2883, 0.0), (2884, 0.0), (2887, 0.0), (2888, 0.0), (2891, 0.0), (2892, 0.0), (2893, 0.0), (2894, 0.0), (2897, 0.0), (2900, 0.0), (2901, 0.0)]\n"
          ]
        }
      ]
    },
    {
      "cell_type": "code",
      "metadata": {
        "colab": {
          "base_uri": "https://localhost:8080/"
        },
        "id": "JseMqew-RW6Q",
        "outputId": "8633c01d-34a1-4006-fb2c-151cebb6ca79"
      },
      "source": [
        "# print the name of similar movies based on the index\n",
        "\n",
        "print('Movies suggested for you : \\n')\n",
        "\n",
        "i = 1\n",
        "\n",
        "for movie in sorted_similar_movies:\n",
        "  index = movie[0]\n",
        "  title_from_index = movies_data[movies_data.index==index]['title'].values[0]\n",
        "  if (i<30):\n",
        "    print(i, '.',title_from_index)\n",
        "    i+=1"
      ],
      "execution_count": 35,
      "outputs": [
        {
          "output_type": "stream",
          "name": "stdout",
          "text": [
            "Movies suggested for you : \n",
            "\n",
            "1 . Toy Story\n",
            "2 . Toy Story 2\n",
            "3 . Toy Story 3\n",
            "4 . Cars 2\n",
            "5 . Cloud Atlas\n",
            "6 . Home\n",
            "7 . Larry Crowne\n",
            "8 . Big\n",
            "9 . A Guy Thing\n",
            "10 . Quest for Camelot\n",
            "11 . Vamps\n",
            "12 . Jingle All the Way\n",
            "13 . Admission\n",
            "14 . Dirty Work\n",
            "15 . Hachi: A Dog's Tale\n",
            "16 . Cars\n",
            "17 . My Favorite Martian\n",
            "18 . Small Soldiers\n",
            "19 . Saving Mr. Banks\n",
            "20 . Valiant\n",
            "21 . Joe Somebody\n",
            "22 . Fantastic Mr. Fox\n",
            "23 . Last Orders\n",
            "24 . Casino\n",
            "25 . Monster House\n",
            "26 . The Boxtrolls\n",
            "27 . Silverado\n",
            "28 . The Polar Express\n",
            "29 . Casper\n"
          ]
        }
      ]
    },
    {
      "cell_type": "markdown",
      "metadata": {
        "id": "KmXULXO9TZun"
      },
      "source": [
        "Movie Recommendation Sytem"
      ]
    },
    {
      "cell_type": "code",
      "metadata": {
        "colab": {
          "base_uri": "https://localhost:8080/"
        },
        "id": "QUDZfTSxTHDf",
        "outputId": "16bfc2a1-53fe-4ed3-cdc9-a414015e021d"
      },
      "source": [
        "movie_name = input(' Enter your favourite movie name : ')\n",
        "\n",
        "list_of_all_titles = movies_data['title'].tolist()\n",
        "\n",
        "find_close_match = difflib.get_close_matches(movie_name, list_of_all_titles)\n",
        "\n",
        "close_match = find_close_match[0]\n",
        "\n",
        "index_of_the_movie = movies_data[movies_data.title == close_match]['index'].values[0]\n",
        "\n",
        "similarity_score = list(enumerate(similarity[index_of_the_movie]))\n",
        "\n",
        "sorted_similar_movies = sorted(similarity_score, key = lambda x:x[1], reverse = True)\n",
        "\n",
        "print('Movies suggested for you : \\n')\n",
        "\n",
        "i = 1\n",
        "\n",
        "for movie in sorted_similar_movies:\n",
        "  index = movie[0]\n",
        "  title_from_index = movies_data[movies_data.index==index]['title'].values[0]\n",
        "  if (i<30):\n",
        "    print(i, '.',title_from_index)\n",
        "    i+=1"
      ],
      "execution_count": 36,
      "outputs": [
        {
          "output_type": "stream",
          "name": "stdout",
          "text": [
            " Enter your favourite movie name : inception\n",
            "Movies suggested for you : \n",
            "\n",
            "1 . Inception\n",
            "2 . Treasure Planet\n",
            "3 . The Dark Knight Rises\n",
            "4 . The Last Samurai\n",
            "5 . In Dreams\n",
            "6 . Looper\n",
            "7 . Highlander: Endgame\n",
            "8 . G.I. Joe: The Rise of Cobra\n",
            "9 . The Revenant\n",
            "10 . Cold Mountain\n",
            "11 . The Walk\n",
            "12 . Sin City: A Dame to Kill For\n",
            "13 . The Count of Monte Cristo\n",
            "14 . Catch Me If You Can\n",
            "15 . Solaris\n",
            "16 . The Man in the Iron Mask\n",
            "17 . The Juror\n",
            "18 . Top Gun\n",
            "19 . Eternal Sunshine of the Spotless Mind\n",
            "20 . Blood Diamond\n",
            "21 . Premium Rush\n",
            "22 . Letters from Iwo Jima\n",
            "23 . The Silence of the Lambs\n",
            "24 . RockNRolla\n",
            "25 . Miss Potter\n",
            "26 . Lincoln\n",
            "27 . Without a Paddle\n",
            "28 . Shutter Island\n",
            "29 . Whip It\n"
          ]
        }
      ]
    }
  ]
}